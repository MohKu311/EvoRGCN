{
 "cells": [
  {
   "cell_type": "code",
   "execution_count": 1,
   "id": "a01aed8a-c860-42c9-8a51-ee8ddef6ec4e",
   "metadata": {},
   "outputs": [],
   "source": [
    "#!pip install fair-esm torch_geometric"
   ]
  },
  {
   "cell_type": "code",
   "execution_count": 2,
   "id": "f06ccca2-2732-4c8c-ace5-fc148ba0f566",
   "metadata": {},
   "outputs": [],
   "source": [
    "import esm\n",
    "import pandas as pd\n",
    "import numpy as np\n",
    "import torch\n",
    "import torch.nn.functional as F\n",
    "from sklearn.model_selection import train_test_split\n",
    "from sklearn.metrics import roc_auc_score, average_precision_score\n",
    "from torch_geometric.data import Data\n",
    "from torch_geometric.nn import RGCNConv\n",
    "from torch_geometric.utils import negative_sampling\n",
    "from transformers import BertModel, BertTokenizer\n",
    "from tqdm import tqdm\n",
    "import pickle, os"
   ]
  },
  {
   "cell_type": "code",
   "execution_count": 3,
   "id": "391cbd46-2ee9-421a-8f7d-c96e76fe843c",
   "metadata": {},
   "outputs": [],
   "source": [
    "# --- ESM model ---\n",
    "esm_model, esm_alphabet = esm.pretrained.esm2_t6_8M_UR50D()  # Lightweight for speed\n",
    "batch_converter = esm_alphabet.get_batch_converter()\n",
    "esm_model.eval()\n",
    "\n",
    "def embed_sequence_esm(seq):\n",
    "    seq = seq.replace(\" \", \"\").upper()\n",
    "    batch_labels, batch_strs, batch_tokens = batch_converter([(\"protein\", seq)])\n",
    "    with torch.no_grad():\n",
    "        results = esm_model(batch_tokens, repr_layers=[6], return_contacts=False)\n",
    "    token_reps = results[\"representations\"][6][0, 1:len(seq)+1].mean(0)\n",
    "    return token_reps.cpu().numpy()"
   ]
  },
  {
   "cell_type": "code",
   "execution_count": 4,
   "id": "a496feb3-f860-4876-8a6c-81270edfcef0",
   "metadata": {},
   "outputs": [],
   "source": [
    "# Load dataset\n",
    "# -----------------------------\n",
    "df = pd.read_csv(\"df_actions_27k.csv\")"
   ]
  },
  {
   "cell_type": "code",
   "execution_count": 5,
   "id": "b6319c4d-cd9b-49c7-89bd-09907bbba018",
   "metadata": {},
   "outputs": [
    {
     "data": {
      "text/html": [
       "<div>\n",
       "<style scoped>\n",
       "    .dataframe tbody tr th:only-of-type {\n",
       "        vertical-align: middle;\n",
       "    }\n",
       "\n",
       "    .dataframe tbody tr th {\n",
       "        vertical-align: top;\n",
       "    }\n",
       "\n",
       "    .dataframe thead th {\n",
       "        text-align: right;\n",
       "    }\n",
       "</style>\n",
       "<table border=\"1\" class=\"dataframe\">\n",
       "  <thead>\n",
       "    <tr style=\"text-align: right;\">\n",
       "      <th></th>\n",
       "      <th>sequence_a</th>\n",
       "      <th>sequence_b</th>\n",
       "      <th>item_id_a</th>\n",
       "      <th>item_id_b</th>\n",
       "      <th>mode</th>\n",
       "      <th>is_directional</th>\n",
       "      <th>a_is_acting</th>\n",
       "      <th>score</th>\n",
       "    </tr>\n",
       "  </thead>\n",
       "  <tbody>\n",
       "    <tr>\n",
       "      <th>0</th>\n",
       "      <td>MGLTVSALFSRIFGKKQMRILMVGLDAAGKTTILYKLKLGEIVTTI...</td>\n",
       "      <td>MALWMRLLPLLALLALWGPDPAAAFVNQHLCGSHLVEALYLVCGER...</td>\n",
       "      <td>9606.ENSP00000000233</td>\n",
       "      <td>9606.ENSP00000250971</td>\n",
       "      <td>reaction</td>\n",
       "      <td>t</td>\n",
       "      <td>t</td>\n",
       "      <td>900</td>\n",
       "    </tr>\n",
       "    <tr>\n",
       "      <th>1</th>\n",
       "      <td>MGLTVSALFSRIFGKKQMRILMVGLDAAGKTTILYKLKLGEIVTTI...</td>\n",
       "      <td>MALWMRLLPLLALLALWGPDPAAAFVNQHLCGSHLVEALYLVCGER...</td>\n",
       "      <td>9606.ENSP00000000233</td>\n",
       "      <td>9606.ENSP00000250971</td>\n",
       "      <td>reaction</td>\n",
       "      <td>t</td>\n",
       "      <td>f</td>\n",
       "      <td>900</td>\n",
       "    </tr>\n",
       "    <tr>\n",
       "      <th>2</th>\n",
       "      <td>MGLTVSALFSRIFGKKQMRILMVGLDAAGKTTILYKLKLGEIVTTI...</td>\n",
       "      <td>MTECFLPPTSSPSEHRRVEHGSGLTRTPSSEEISPTKFPGLYRTGE...</td>\n",
       "      <td>9606.ENSP00000000233</td>\n",
       "      <td>9606.ENSP00000019317</td>\n",
       "      <td>activation</td>\n",
       "      <td>f</td>\n",
       "      <td>f</td>\n",
       "      <td>175</td>\n",
       "    </tr>\n",
       "    <tr>\n",
       "      <th>3</th>\n",
       "      <td>MGLTVSALFSRIFGKKQMRILMVGLDAAGKTTILYKLKLGEIVTTI...</td>\n",
       "      <td>MQQAPQPYEFFSEENSPKWRGLLVSALRKVQEQVHPTLSANEESLY...</td>\n",
       "      <td>9606.ENSP00000000233</td>\n",
       "      <td>9606.ENSP00000216373</td>\n",
       "      <td>reaction</td>\n",
       "      <td>f</td>\n",
       "      <td>f</td>\n",
       "      <td>161</td>\n",
       "    </tr>\n",
       "    <tr>\n",
       "      <th>4</th>\n",
       "      <td>MGLTVSALFSRIFGKKQMRILMVGLDAAGKTTILYKLKLGEIVTTI...</td>\n",
       "      <td>MAMAEGERTECAEPPRDEPPADGALKRAEELKTQANDYFKAKDYEN...</td>\n",
       "      <td>9606.ENSP00000000233</td>\n",
       "      <td>9606.ENSP00000012443</td>\n",
       "      <td>catalysis</td>\n",
       "      <td>t</td>\n",
       "      <td>f</td>\n",
       "      <td>155</td>\n",
       "    </tr>\n",
       "  </tbody>\n",
       "</table>\n",
       "</div>"
      ],
      "text/plain": [
       "                                          sequence_a  \\\n",
       "0  MGLTVSALFSRIFGKKQMRILMVGLDAAGKTTILYKLKLGEIVTTI...   \n",
       "1  MGLTVSALFSRIFGKKQMRILMVGLDAAGKTTILYKLKLGEIVTTI...   \n",
       "2  MGLTVSALFSRIFGKKQMRILMVGLDAAGKTTILYKLKLGEIVTTI...   \n",
       "3  MGLTVSALFSRIFGKKQMRILMVGLDAAGKTTILYKLKLGEIVTTI...   \n",
       "4  MGLTVSALFSRIFGKKQMRILMVGLDAAGKTTILYKLKLGEIVTTI...   \n",
       "\n",
       "                                          sequence_b             item_id_a  \\\n",
       "0  MALWMRLLPLLALLALWGPDPAAAFVNQHLCGSHLVEALYLVCGER...  9606.ENSP00000000233   \n",
       "1  MALWMRLLPLLALLALWGPDPAAAFVNQHLCGSHLVEALYLVCGER...  9606.ENSP00000000233   \n",
       "2  MTECFLPPTSSPSEHRRVEHGSGLTRTPSSEEISPTKFPGLYRTGE...  9606.ENSP00000000233   \n",
       "3  MQQAPQPYEFFSEENSPKWRGLLVSALRKVQEQVHPTLSANEESLY...  9606.ENSP00000000233   \n",
       "4  MAMAEGERTECAEPPRDEPPADGALKRAEELKTQANDYFKAKDYEN...  9606.ENSP00000000233   \n",
       "\n",
       "              item_id_b        mode is_directional a_is_acting  score  \n",
       "0  9606.ENSP00000250971    reaction              t           t    900  \n",
       "1  9606.ENSP00000250971    reaction              t           f    900  \n",
       "2  9606.ENSP00000019317  activation              f           f    175  \n",
       "3  9606.ENSP00000216373    reaction              f           f    161  \n",
       "4  9606.ENSP00000012443   catalysis              t           f    155  "
      ]
     },
     "execution_count": 5,
     "metadata": {},
     "output_type": "execute_result"
    }
   ],
   "source": [
    "df.head()"
   ]
  },
  {
   "cell_type": "code",
   "execution_count": 6,
   "id": "2f348226-ac07-4e90-ad58-a2b54fb7d5e4",
   "metadata": {},
   "outputs": [],
   "source": [
    "# Map mode to edge type (int)\n",
    "df['edge_type'] = pd.factorize(df['mode'])[0]\n",
    "mode_to_int = dict(zip(df['mode'], df['edge_type']))"
   ]
  },
  {
   "cell_type": "code",
   "execution_count": 7,
   "id": "a8231f08-3722-4665-8e84-d0fcf367c516",
   "metadata": {},
   "outputs": [],
   "source": [
    "# --- Unique proteins and sequences ---\n",
    "proteins_a = df[['item_id_a', 'sequence_a']].rename(columns={'item_id_a': 'item_id', 'sequence_a': 'sequence'})\n",
    "proteins_b = df[['item_id_b', 'sequence_b']].rename(columns={'item_id_b': 'item_id', 'sequence_b': 'sequence'})\n",
    "all_proteins = pd.concat([proteins_a, proteins_b]).drop_duplicates(\"item_id\").set_index(\"item_id\")\n",
    "protein_to_idx = {pid: i for i, pid in enumerate(all_proteins.index)}"
   ]
  },
  {
   "cell_type": "code",
   "execution_count": 8,
   "id": "d3a09b59-e67a-451f-a08a-1d8796f539ce",
   "metadata": {},
   "outputs": [
    {
     "name": "stdout",
     "output_type": "stream",
     "text": [
      "\n",
      "🔍 Sample sequences:\n",
      "item_id\n",
      "9606.ENSP00000000233    MGLTVSALFSRIFGKKQMRILMVGLDAAGKTTILYKLKLGEIVTTI...\n",
      "9606.ENSP00000000412    MFPFYSCWRTGLLLLLLAVAVRESWQTEEKTCDLVGEKGKESEKEL...\n",
      "9606.ENSP00000000442    MSSQVVGIEPLYIKAEPASPDSPKGSSETETEPPVALAPGPAPTRC...\n",
      "9606.ENSP00000001008    MTAEEMKATESGAQSAPLPMEGVDISPKQDEGVLKVIKREGTGTEM...\n",
      "9606.ENSP00000001146    MLFEGLDLVSALATLAACLVSVTLLLAVSQQLWQLRWAATRDKSCK...\n",
      "Name: sequence, dtype: object\n"
     ]
    },
    {
     "name": "stderr",
     "output_type": "stream",
     "text": [
      "Embedding proteins:   0%|                                                             | 1/1690 [00:00<03:31,  8.00it/s]"
     ]
    },
    {
     "name": "stdout",
     "output_type": "stream",
     "text": [
      "✅ Embedded 9606.ENSP00000000233\n",
      "✅ Embedded 9606.ENSP00000000412\n"
     ]
    },
    {
     "name": "stderr",
     "output_type": "stream",
     "text": [
      "Embedding proteins:   0%|                                                             | 3/1690 [00:00<03:23,  8.31it/s]"
     ]
    },
    {
     "name": "stdout",
     "output_type": "stream",
     "text": [
      "✅ Embedded 9606.ENSP00000000442\n"
     ]
    },
    {
     "name": "stderr",
     "output_type": "stream",
     "text": [
      "Embedding proteins:   0%|▏                                                            | 4/1690 [00:00<03:48,  7.39it/s]"
     ]
    },
    {
     "name": "stdout",
     "output_type": "stream",
     "text": [
      "✅ Embedded 9606.ENSP00000001008\n"
     ]
    },
    {
     "name": "stderr",
     "output_type": "stream",
     "text": [
      "Embedding proteins:   0%|▏                                                            | 5/1690 [00:00<04:17,  6.53it/s]"
     ]
    },
    {
     "name": "stdout",
     "output_type": "stream",
     "text": [
      "✅ Embedded 9606.ENSP00000001146\n"
     ]
    },
    {
     "name": "stderr",
     "output_type": "stream",
     "text": [
      "Embedding proteins:   0%|▏                                                            | 6/1690 [00:00<04:27,  6.30it/s]"
     ]
    },
    {
     "name": "stdout",
     "output_type": "stream",
     "text": [
      "✅ Embedded 9606.ENSP00000002125\n"
     ]
    },
    {
     "name": "stderr",
     "output_type": "stream",
     "text": [
      "Embedding proteins:   0%|▎                                                            | 7/1690 [00:00<03:58,  7.06it/s]"
     ]
    },
    {
     "name": "stdout",
     "output_type": "stream",
     "text": [
      "✅ Embedded 9606.ENSP00000002596\n"
     ]
    },
    {
     "name": "stderr",
     "output_type": "stream",
     "text": [
      "Embedding proteins:   0%|▎                                                            | 8/1690 [00:01<05:49,  4.81it/s]"
     ]
    },
    {
     "name": "stdout",
     "output_type": "stream",
     "text": [
      "✅ Embedded 9606.ENSP00000002829\n"
     ]
    },
    {
     "name": "stderr",
     "output_type": "stream",
     "text": [
      "Embedding proteins:   1%|▎                                                           | 10/1690 [00:02<10:17,  2.72it/s]"
     ]
    },
    {
     "name": "stdout",
     "output_type": "stream",
     "text": [
      "✅ Embedded 9606.ENSP00000003084\n",
      "✅ Embedded 9606.ENSP00000003100\n"
     ]
    },
    {
     "name": "stderr",
     "output_type": "stream",
     "text": [
      "Embedding proteins:   1%|▍                                                           | 11/1690 [00:03<12:27,  2.25it/s]"
     ]
    },
    {
     "name": "stdout",
     "output_type": "stream",
     "text": [
      "✅ Embedded 9606.ENSP00000003302\n",
      "✅ Embedded 9606.ENSP00000004921\n",
      "✅ Embedded 9606.ENSP00000004982\n"
     ]
    },
    {
     "name": "stderr",
     "output_type": "stream",
     "text": [
      "Embedding proteins:   1%|▍                                                           | 14/1690 [00:03<06:31,  4.29it/s]"
     ]
    },
    {
     "name": "stdout",
     "output_type": "stream",
     "text": [
      "✅ Embedded 9606.ENSP00000005178\n",
      "✅ Embedded 9606.ENSP00000005180\n"
     ]
    },
    {
     "name": "stderr",
     "output_type": "stream",
     "text": [
      "Embedding proteins:   1%|▋                                                           | 18/1690 [00:03<05:07,  5.44it/s]"
     ]
    },
    {
     "name": "stdout",
     "output_type": "stream",
     "text": [
      "✅ Embedded 9606.ENSP00000005226\n",
      "✅ Embedded 9606.ENSP00000005257\n",
      "✅ Embedded 9606.ENSP00000005284\n"
     ]
    },
    {
     "name": "stderr",
     "output_type": "stream",
     "text": [
      "Embedding proteins:   1%|▋                                                           | 19/1690 [00:04<05:44,  4.86it/s]"
     ]
    },
    {
     "name": "stdout",
     "output_type": "stream",
     "text": [
      "✅ Embedded 9606.ENSP00000005340\n"
     ]
    },
    {
     "name": "stderr",
     "output_type": "stream",
     "text": [
      "Embedding proteins:   1%|▋                                                           | 21/1690 [00:04<05:17,  5.25it/s]"
     ]
    },
    {
     "name": "stdout",
     "output_type": "stream",
     "text": [
      "✅ Embedded 9606.ENSP00000005386\n",
      "✅ Embedded 9606.ENSP00000006015\n"
     ]
    },
    {
     "name": "stderr",
     "output_type": "stream",
     "text": [
      "Embedding proteins:   1%|▊                                                           | 24/1690 [00:04<03:25,  8.11it/s]"
     ]
    },
    {
     "name": "stdout",
     "output_type": "stream",
     "text": [
      "✅ Embedded 9606.ENSP00000006053\n",
      "✅ Embedded 9606.ENSP00000006101\n",
      "✅ Embedded 9606.ENSP00000006275\n"
     ]
    },
    {
     "name": "stderr",
     "output_type": "stream",
     "text": [
      "Embedding proteins:   2%|▉                                                           | 26/1690 [00:05<03:18,  8.40it/s]"
     ]
    },
    {
     "name": "stdout",
     "output_type": "stream",
     "text": [
      "✅ Embedded 9606.ENSP00000007264\n",
      "✅ Embedded 9606.ENSP00000007390\n"
     ]
    },
    {
     "name": "stderr",
     "output_type": "stream",
     "text": [
      "Embedding proteins:   2%|█                                                           | 29/1690 [00:05<04:10,  6.63it/s]"
     ]
    },
    {
     "name": "stdout",
     "output_type": "stream",
     "text": [
      "✅ Embedded 9606.ENSP00000007414\n",
      "✅ Embedded 9606.ENSP00000007516\n",
      "✅ Embedded 9606.ENSP00000007699\n"
     ]
    },
    {
     "name": "stderr",
     "output_type": "stream",
     "text": [
      "Embedding proteins:   2%|█                                                           | 31/1690 [00:06<06:03,  4.57it/s]"
     ]
    },
    {
     "name": "stdout",
     "output_type": "stream",
     "text": [
      "✅ Embedded 9606.ENSP00000007722\n",
      "✅ Embedded 9606.ENSP00000007969\n"
     ]
    },
    {
     "name": "stderr",
     "output_type": "stream",
     "text": [
      "Embedding proteins:   2%|█▏                                                          | 32/1690 [00:06<06:06,  4.52it/s]"
     ]
    },
    {
     "name": "stdout",
     "output_type": "stream",
     "text": [
      "✅ Embedded 9606.ENSP00000008527\n",
      "✅ Embedded 9606.ENSP00000008938\n"
     ]
    },
    {
     "name": "stderr",
     "output_type": "stream",
     "text": [
      "Embedding proteins:   2%|█▎                                                          | 36/1690 [00:07<03:49,  7.20it/s]"
     ]
    },
    {
     "name": "stdout",
     "output_type": "stream",
     "text": [
      "✅ Embedded 9606.ENSP00000009105\n",
      "✅ Embedded 9606.ENSP00000009180\n",
      "✅ Embedded 9606.ENSP00000009530\n"
     ]
    },
    {
     "name": "stderr",
     "output_type": "stream",
     "text": [
      "Embedding proteins:   2%|█▎                                                          | 38/1690 [00:07<04:03,  6.79it/s]"
     ]
    },
    {
     "name": "stdout",
     "output_type": "stream",
     "text": [
      "✅ Embedded 9606.ENSP00000010132\n",
      "✅ Embedded 9606.ENSP00000011292\n"
     ]
    },
    {
     "name": "stderr",
     "output_type": "stream",
     "text": [
      "Embedding proteins:   2%|█▍                                                          | 40/1690 [00:07<05:01,  5.47it/s]"
     ]
    },
    {
     "name": "stdout",
     "output_type": "stream",
     "text": [
      "✅ Embedded 9606.ENSP00000011619\n",
      "✅ Embedded 9606.ENSP00000011653\n"
     ]
    },
    {
     "name": "stderr",
     "output_type": "stream",
     "text": [
      "Embedding proteins:   2%|█▍                                                          | 41/1690 [00:08<06:13,  4.42it/s]"
     ]
    },
    {
     "name": "stdout",
     "output_type": "stream",
     "text": [
      "✅ Embedded 9606.ENSP00000011684\n",
      "✅ Embedded 9606.ENSP00000011898\n"
     ]
    },
    {
     "name": "stderr",
     "output_type": "stream",
     "text": [
      "Embedding proteins:   3%|█▌                                                          | 44/1690 [00:10<15:12,  1.80it/s]"
     ]
    },
    {
     "name": "stdout",
     "output_type": "stream",
     "text": [
      "✅ Embedded 9606.ENSP00000012134\n",
      "✅ Embedded 9606.ENSP00000012443\n",
      "✅ Embedded 9606.ENSP00000013034\n"
     ]
    },
    {
     "name": "stderr",
     "output_type": "stream",
     "text": [
      "Embedding proteins:   3%|█▋                                                          | 48/1690 [00:11<07:57,  3.44it/s]"
     ]
    },
    {
     "name": "stdout",
     "output_type": "stream",
     "text": [
      "✅ Embedded 9606.ENSP00000013125\n",
      "✅ Embedded 9606.ENSP00000013807\n",
      "✅ Embedded 9606.ENSP00000014930\n"
     ]
    },
    {
     "name": "stderr",
     "output_type": "stream",
     "text": [
      "Embedding proteins:   3%|█▋                                                          | 49/1690 [00:11<07:04,  3.87it/s]"
     ]
    },
    {
     "name": "stdout",
     "output_type": "stream",
     "text": [
      "✅ Embedded 9606.ENSP00000016171\n"
     ]
    },
    {
     "name": "stderr",
     "output_type": "stream",
     "text": [
      "Embedding proteins:   3%|█▊                                                          | 50/1690 [00:12<12:46,  2.14it/s]"
     ]
    },
    {
     "name": "stdout",
     "output_type": "stream",
     "text": [
      "✅ Embedded 9606.ENSP00000016946\n"
     ]
    },
    {
     "name": "stderr",
     "output_type": "stream",
     "text": [
      "Embedding proteins:   3%|█▊                                                          | 52/1690 [00:13<09:47,  2.79it/s]"
     ]
    },
    {
     "name": "stdout",
     "output_type": "stream",
     "text": [
      "✅ Embedded 9606.ENSP00000017003\n",
      "✅ Embedded 9606.ENSP00000019103\n"
     ]
    },
    {
     "name": "stderr",
     "output_type": "stream",
     "text": [
      "Embedding proteins:   3%|█▉                                                          | 53/1690 [00:13<08:49,  3.09it/s]"
     ]
    },
    {
     "name": "stdout",
     "output_type": "stream",
     "text": [
      "✅ Embedded 9606.ENSP00000019317\n"
     ]
    },
    {
     "name": "stderr",
     "output_type": "stream",
     "text": [
      "Embedding proteins:   3%|█▉                                                          | 56/1690 [00:14<06:47,  4.01it/s]"
     ]
    },
    {
     "name": "stdout",
     "output_type": "stream",
     "text": [
      "✅ Embedded 9606.ENSP00000020673\n",
      "✅ Embedded 9606.ENSP00000020945\n",
      "✅ Embedded 9606.ENSP00000023064\n"
     ]
    },
    {
     "name": "stderr",
     "output_type": "stream",
     "text": [
      "Embedding proteins:   3%|██                                                          | 57/1690 [00:14<05:58,  4.55it/s]"
     ]
    },
    {
     "name": "stdout",
     "output_type": "stream",
     "text": [
      "✅ Embedded 9606.ENSP00000023897\n"
     ]
    },
    {
     "name": "stderr",
     "output_type": "stream",
     "text": [
      "Embedding proteins:   3%|██                                                          | 58/1690 [00:15<11:39,  2.33it/s]"
     ]
    },
    {
     "name": "stdout",
     "output_type": "stream",
     "text": [
      "✅ Embedded 9606.ENSP00000025008\n"
     ]
    },
    {
     "name": "stderr",
     "output_type": "stream",
     "text": [
      "Embedding proteins:   3%|██                                                          | 59/1690 [00:15<10:41,  2.54it/s]"
     ]
    },
    {
     "name": "stdout",
     "output_type": "stream",
     "text": [
      "✅ Embedded 9606.ENSP00000026218\n"
     ]
    },
    {
     "name": "stderr",
     "output_type": "stream",
     "text": [
      "Embedding proteins:   4%|██▏                                                         | 60/1690 [00:15<10:18,  2.64it/s]"
     ]
    },
    {
     "name": "stdout",
     "output_type": "stream",
     "text": [
      "✅ Embedded 9606.ENSP00000027335\n",
      "✅ Embedded 9606.ENSP00000029410\n"
     ]
    },
    {
     "name": "stderr",
     "output_type": "stream",
     "text": [
      "Embedding proteins:   4%|██▏                                                         | 62/1690 [00:16<08:35,  3.16it/s]"
     ]
    },
    {
     "name": "stdout",
     "output_type": "stream",
     "text": [
      "✅ Embedded 9606.ENSP00000033079\n"
     ]
    },
    {
     "name": "stderr",
     "output_type": "stream",
     "text": [
      "Embedding proteins:   4%|██▏                                                         | 63/1690 [00:16<08:29,  3.19it/s]"
     ]
    },
    {
     "name": "stdout",
     "output_type": "stream",
     "text": [
      "✅ Embedded 9606.ENSP00000035307\n"
     ]
    },
    {
     "name": "stderr",
     "output_type": "stream",
     "text": [
      "Embedding proteins:   4%|██▎                                                         | 66/1690 [00:17<08:26,  3.21it/s]"
     ]
    },
    {
     "name": "stdout",
     "output_type": "stream",
     "text": [
      "✅ Embedded 9606.ENSP00000035383\n",
      "✅ Embedded 9606.ENSP00000037243\n",
      "✅ Embedded 9606.ENSP00000037502\n"
     ]
    },
    {
     "name": "stderr",
     "output_type": "stream",
     "text": [
      "Embedding proteins:   4%|██▍                                                         | 69/1690 [00:18<05:16,  5.12it/s]"
     ]
    },
    {
     "name": "stdout",
     "output_type": "stream",
     "text": [
      "✅ Embedded 9606.ENSP00000039007\n",
      "✅ Embedded 9606.ENSP00000040584\n",
      "✅ Embedded 9606.ENSP00000040663\n"
     ]
    },
    {
     "name": "stderr",
     "output_type": "stream",
     "text": [
      "Embedding proteins:   4%|██▌                                                         | 71/1690 [00:19<08:52,  3.04it/s]"
     ]
    },
    {
     "name": "stdout",
     "output_type": "stream",
     "text": [
      "✅ Embedded 9606.ENSP00000040877\n",
      "✅ Embedded 9606.ENSP00000042931\n"
     ]
    },
    {
     "name": "stderr",
     "output_type": "stream",
     "text": [
      "Embedding proteins:   4%|██▌                                                         | 72/1690 [00:19<07:36,  3.54it/s]"
     ]
    },
    {
     "name": "stdout",
     "output_type": "stream",
     "text": [
      "✅ Embedded 9606.ENSP00000043402\n",
      "✅ Embedded 9606.ENSP00000044462\n"
     ]
    },
    {
     "name": "stderr",
     "output_type": "stream",
     "text": [
      "Embedding proteins:   4%|██▋                                                         | 75/1690 [00:19<05:09,  5.22it/s]"
     ]
    },
    {
     "name": "stdout",
     "output_type": "stream",
     "text": [
      "✅ Embedded 9606.ENSP00000046794\n",
      "✅ Embedded 9606.ENSP00000052754\n",
      "✅ Embedded 9606.ENSP00000053243\n"
     ]
    },
    {
     "name": "stderr",
     "output_type": "stream",
     "text": [
      "Embedding proteins:   5%|██▋                                                         | 77/1690 [00:19<03:42,  7.26it/s]"
     ]
    },
    {
     "name": "stdout",
     "output_type": "stream",
     "text": [
      "✅ Embedded 9606.ENSP00000053468\n",
      "✅ Embedded 9606.ENSP00000053469\n"
     ]
    },
    {
     "name": "stderr",
     "output_type": "stream",
     "text": [
      "Embedding proteins:   5%|██▉                                                         | 82/1690 [00:20<02:40, 10.00it/s]"
     ]
    },
    {
     "name": "stdout",
     "output_type": "stream",
     "text": [
      "✅ Embedded 9606.ENSP00000053867\n",
      "✅ Embedded 9606.ENSP00000054666\n",
      "✅ Embedded 9606.ENSP00000054668\n",
      "✅ Embedded 9606.ENSP00000054950\n",
      "✅ Embedded 9606.ENSP00000055077\n"
     ]
    },
    {
     "name": "stderr",
     "output_type": "stream",
     "text": [
      "Embedding proteins:   5%|██▉                                                         | 84/1690 [00:20<03:36,  7.41it/s]"
     ]
    },
    {
     "name": "stdout",
     "output_type": "stream",
     "text": [
      "✅ Embedded 9606.ENSP00000055335\n",
      "✅ Embedded 9606.ENSP00000056217\n"
     ]
    },
    {
     "name": "stderr",
     "output_type": "stream",
     "text": [
      "Embedding proteins:   5%|███                                                         | 87/1690 [00:22<06:41,  3.99it/s]"
     ]
    },
    {
     "name": "stdout",
     "output_type": "stream",
     "text": [
      "✅ Embedded 9606.ENSP00000056233\n",
      "✅ Embedded 9606.ENSP00000057513\n"
     ]
    },
    {
     "name": "stderr",
     "output_type": "stream",
     "text": [
      "Embedding proteins:   5%|███                                                         | 88/1690 [00:22<07:55,  3.37it/s]"
     ]
    },
    {
     "name": "stdout",
     "output_type": "stream",
     "text": [
      "✅ Embedded 9606.ENSP00000061240\n",
      "✅ Embedded 9606.ENSP00000062104\n",
      "✅ Embedded 9606.ENSP00000064724\n"
     ]
    },
    {
     "name": "stderr",
     "output_type": "stream",
     "text": [
      "Embedding proteins:   5%|███▏                                                        | 91/1690 [00:23<06:08,  4.34it/s]"
     ]
    },
    {
     "name": "stdout",
     "output_type": "stream",
     "text": [
      "✅ Embedded 9606.ENSP00000070846\n",
      "✅ Embedded 9606.ENSP00000071281\n"
     ]
    },
    {
     "name": "stderr",
     "output_type": "stream",
     "text": [
      "Embedding proteins:   6%|███▎                                                        | 94/1690 [00:23<05:03,  5.25it/s]"
     ]
    },
    {
     "name": "stdout",
     "output_type": "stream",
     "text": [
      "✅ Embedded 9606.ENSP00000075120\n",
      "✅ Embedded 9606.ENSP00000075503\n"
     ]
    },
    {
     "name": "stderr",
     "output_type": "stream",
     "text": [
      "Embedding proteins:   6%|███▍                                                        | 96/1690 [00:23<04:33,  5.82it/s]"
     ]
    },
    {
     "name": "stdout",
     "output_type": "stream",
     "text": [
      "✅ Embedded 9606.ENSP00000078429\n",
      "✅ Embedded 9606.ENSP00000078445\n"
     ]
    },
    {
     "name": "stderr",
     "output_type": "stream",
     "text": [
      "Embedding proteins:   6%|███▍                                                        | 97/1690 [00:23<04:33,  5.83it/s]"
     ]
    },
    {
     "name": "stdout",
     "output_type": "stream",
     "text": [
      "✅ Embedded 9606.ENSP00000078527\n"
     ]
    },
    {
     "name": "stderr",
     "output_type": "stream",
     "text": [
      "Embedding proteins:   6%|███▍                                                        | 98/1690 [00:24<06:48,  3.89it/s]"
     ]
    },
    {
     "name": "stdout",
     "output_type": "stream",
     "text": [
      "✅ Embedded 9606.ENSP00000080059\n",
      "✅ Embedded 9606.ENSP00000081029\n"
     ]
    },
    {
     "name": "stderr",
     "output_type": "stream",
     "text": [
      "Embedding proteins:   6%|███▍                                                       | 100/1690 [00:24<05:34,  4.76it/s]"
     ]
    },
    {
     "name": "stdout",
     "output_type": "stream",
     "text": [
      "✅ Embedded 9606.ENSP00000083182\n"
     ]
    },
    {
     "name": "stderr",
     "output_type": "stream",
     "text": [
      "Embedding proteins:   6%|███▌                                                       | 101/1690 [00:25<06:34,  4.03it/s]"
     ]
    },
    {
     "name": "stdout",
     "output_type": "stream",
     "text": [
      "✅ Embedded 9606.ENSP00000085219\n"
     ]
    },
    {
     "name": "stderr",
     "output_type": "stream",
     "text": [
      "Embedding proteins:   6%|███▌                                                       | 102/1690 [00:25<07:13,  3.67it/s]"
     ]
    },
    {
     "name": "stdout",
     "output_type": "stream",
     "text": [
      "✅ Embedded 9606.ENSP00000155093\n"
     ]
    },
    {
     "name": "stderr",
     "output_type": "stream",
     "text": [
      "Embedding proteins:   6%|███▌                                                       | 103/1690 [00:25<07:13,  3.66it/s]"
     ]
    },
    {
     "name": "stdout",
     "output_type": "stream",
     "text": [
      "✅ Embedded 9606.ENSP00000155840\n"
     ]
    },
    {
     "name": "stderr",
     "output_type": "stream",
     "text": [
      "Embedding proteins:   6%|███▋                                                       | 104/1690 [00:26<09:54,  2.67it/s]"
     ]
    },
    {
     "name": "stdout",
     "output_type": "stream",
     "text": [
      "✅ Embedded 9606.ENSP00000155858\n",
      "✅ Embedded 9606.ENSP00000155926\n"
     ]
    },
    {
     "name": "stderr",
     "output_type": "stream",
     "text": [
      "Embedding proteins:   6%|███▋                                                       | 106/1690 [00:26<06:56,  3.80it/s]"
     ]
    },
    {
     "name": "stdout",
     "output_type": "stream",
     "text": [
      "✅ Embedded 9606.ENSP00000156109\n"
     ]
    },
    {
     "name": "stderr",
     "output_type": "stream",
     "text": [
      "Embedding proteins:   6%|███▋                                                       | 107/1690 [00:27<11:38,  2.27it/s]"
     ]
    },
    {
     "name": "stdout",
     "output_type": "stream",
     "text": [
      "✅ Embedded 9606.ENSP00000156471\n",
      "✅ Embedded 9606.ENSP00000156825\n"
     ]
    },
    {
     "name": "stderr",
     "output_type": "stream",
     "text": [
      "Embedding proteins:   7%|███▊                                                       | 110/1690 [00:28<07:12,  3.65it/s]"
     ]
    },
    {
     "name": "stdout",
     "output_type": "stream",
     "text": [
      "✅ Embedded 9606.ENSP00000157600\n",
      "✅ Embedded 9606.ENSP00000157812\n"
     ]
    },
    {
     "name": "stderr",
     "output_type": "stream",
     "text": [
      "Embedding proteins:   7%|███▉                                                       | 111/1690 [00:28<06:40,  3.94it/s]"
     ]
    },
    {
     "name": "stdout",
     "output_type": "stream",
     "text": [
      "✅ Embedded 9606.ENSP00000158166\n"
     ]
    },
    {
     "name": "stderr",
     "output_type": "stream",
     "text": [
      "Embedding proteins:   7%|███▉                                                       | 112/1690 [00:28<07:16,  3.62it/s]"
     ]
    },
    {
     "name": "stdout",
     "output_type": "stream",
     "text": [
      "✅ Embedded 9606.ENSP00000158762\n",
      "✅ Embedded 9606.ENSP00000158771\n"
     ]
    },
    {
     "name": "stderr",
     "output_type": "stream",
     "text": [
      "Embedding proteins:   7%|███▉                                                       | 114/1690 [00:28<05:46,  4.54it/s]"
     ]
    },
    {
     "name": "stdout",
     "output_type": "stream",
     "text": [
      "✅ Embedded 9606.ENSP00000159060\n"
     ]
    },
    {
     "name": "stderr",
     "output_type": "stream",
     "text": [
      "Embedding proteins:   7%|████                                                       | 115/1690 [00:29<07:45,  3.39it/s]"
     ]
    },
    {
     "name": "stdout",
     "output_type": "stream",
     "text": [
      "✅ Embedded 9606.ENSP00000159111\n"
     ]
    },
    {
     "name": "stderr",
     "output_type": "stream",
     "text": [
      "Embedding proteins:   7%|████                                                       | 117/1690 [00:30<11:06,  2.36it/s]"
     ]
    },
    {
     "name": "stdout",
     "output_type": "stream",
     "text": [
      "✅ Embedded 9606.ENSP00000160373\n",
      "✅ Embedded 9606.ENSP00000160382\n"
     ]
    },
    {
     "name": "stderr",
     "output_type": "stream",
     "text": [
      "Embedding proteins:   7%|████                                                       | 118/1690 [00:31<16:01,  1.64it/s]"
     ]
    },
    {
     "name": "stdout",
     "output_type": "stream",
     "text": [
      "✅ Embedded 9606.ENSP00000160740\n"
     ]
    },
    {
     "name": "stderr",
     "output_type": "stream",
     "text": [
      "Embedding proteins:   7%|████▏                                                      | 120/1690 [00:32<10:26,  2.50it/s]"
     ]
    },
    {
     "name": "stdout",
     "output_type": "stream",
     "text": [
      "✅ Embedded 9606.ENSP00000160827\n",
      "✅ Embedded 9606.ENSP00000161006\n"
     ]
    },
    {
     "name": "stderr",
     "output_type": "stream",
     "text": [
      "Embedding proteins:   7%|████▏                                                      | 121/1690 [00:32<08:51,  2.95it/s]"
     ]
    },
    {
     "name": "stdout",
     "output_type": "stream",
     "text": [
      "✅ Embedded 9606.ENSP00000161559\n"
     ]
    },
    {
     "name": "stderr",
     "output_type": "stream",
     "text": [
      "Embedding proteins:   7%|████▎                                                      | 123/1690 [00:33<10:09,  2.57it/s]"
     ]
    },
    {
     "name": "stdout",
     "output_type": "stream",
     "text": [
      "✅ Embedded 9606.ENSP00000161863\n",
      "✅ Embedded 9606.ENSP00000162023\n"
     ]
    },
    {
     "name": "stderr",
     "output_type": "stream",
     "text": [
      "Embedding proteins:   7%|████▎                                                      | 125/1690 [00:33<07:14,  3.60it/s]"
     ]
    },
    {
     "name": "stdout",
     "output_type": "stream",
     "text": [
      "✅ Embedded 9606.ENSP00000162391\n",
      "✅ Embedded 9606.ENSP00000162749\n"
     ]
    },
    {
     "name": "stderr",
     "output_type": "stream",
     "text": [
      "Embedding proteins:   8%|████▍                                                      | 127/1690 [00:34<06:13,  4.19it/s]"
     ]
    },
    {
     "name": "stdout",
     "output_type": "stream",
     "text": [
      "✅ Embedded 9606.ENSP00000163416\n",
      "✅ Embedded 9606.ENSP00000164133\n"
     ]
    },
    {
     "name": "stderr",
     "output_type": "stream",
     "text": [
      "Embedding proteins:   8%|████▌                                                      | 130/1690 [00:34<03:41,  7.04it/s]"
     ]
    },
    {
     "name": "stdout",
     "output_type": "stream",
     "text": [
      "✅ Embedded 9606.ENSP00000164227\n",
      "✅ Embedded 9606.ENSP00000165524\n",
      "✅ Embedded 9606.ENSP00000166139\n"
     ]
    },
    {
     "name": "stderr",
     "output_type": "stream",
     "text": [
      "Embedding proteins:   8%|████▌                                                      | 132/1690 [00:35<05:20,  4.86it/s]"
     ]
    },
    {
     "name": "stdout",
     "output_type": "stream",
     "text": [
      "✅ Embedded 9606.ENSP00000166244\n",
      "✅ Embedded 9606.ENSP00000166345\n"
     ]
    },
    {
     "name": "stderr",
     "output_type": "stream",
     "text": [
      "Embedding proteins:   8%|████▋                                                      | 134/1690 [00:35<05:06,  5.07it/s]"
     ]
    },
    {
     "name": "stdout",
     "output_type": "stream",
     "text": [
      "✅ Embedded 9606.ENSP00000166534\n",
      "✅ Embedded 9606.ENSP00000167586\n"
     ]
    },
    {
     "name": "stderr",
     "output_type": "stream",
     "text": [
      "Embedding proteins:   8%|████▋                                                      | 136/1690 [00:35<03:42,  6.99it/s]"
     ]
    },
    {
     "name": "stdout",
     "output_type": "stream",
     "text": [
      "✅ Embedded 9606.ENSP00000168148\n",
      "✅ Embedded 9606.ENSP00000168216\n",
      "✅ Embedded 9606.ENSP00000168712\n"
     ]
    },
    {
     "name": "stderr",
     "output_type": "stream",
     "text": [
      "Embedding proteins:   8%|████▊                                                      | 138/1690 [00:35<02:56,  8.81it/s]"
     ]
    },
    {
     "name": "stdout",
     "output_type": "stream",
     "text": [
      "✅ Embedded 9606.ENSP00000168977\n",
      "✅ Embedded 9606.ENSP00000169551\n"
     ]
    },
    {
     "name": "stderr",
     "output_type": "stream",
     "text": [
      "Embedding proteins:   8%|████▉                                                      | 141/1690 [00:36<05:08,  5.03it/s]"
     ]
    },
    {
     "name": "stdout",
     "output_type": "stream",
     "text": [
      "✅ Embedded 9606.ENSP00000170168\n",
      "✅ Embedded 9606.ENSP00000170447\n"
     ]
    },
    {
     "name": "stderr",
     "output_type": "stream",
     "text": [
      "Embedding proteins:   8%|████▉                                                      | 142/1690 [00:37<06:34,  3.92it/s]"
     ]
    },
    {
     "name": "stdout",
     "output_type": "stream",
     "text": [
      "✅ Embedded 9606.ENSP00000170564\n"
     ]
    },
    {
     "name": "stderr",
     "output_type": "stream",
     "text": [
      "Embedding proteins:   8%|████▉                                                      | 143/1690 [00:37<07:31,  3.43it/s]"
     ]
    },
    {
     "name": "stdout",
     "output_type": "stream",
     "text": [
      "✅ Embedded 9606.ENSP00000170630\n"
     ]
    },
    {
     "name": "stderr",
     "output_type": "stream",
     "text": [
      "Embedding proteins:   9%|█████                                                      | 145/1690 [00:37<06:09,  4.18it/s]"
     ]
    },
    {
     "name": "stdout",
     "output_type": "stream",
     "text": [
      "✅ Embedded 9606.ENSP00000171111\n",
      "✅ Embedded 9606.ENSP00000171214\n"
     ]
    },
    {
     "name": "stderr",
     "output_type": "stream",
     "text": [
      "Embedding proteins:   9%|█████                                                      | 146/1690 [00:38<05:19,  4.84it/s]"
     ]
    },
    {
     "name": "stdout",
     "output_type": "stream",
     "text": [
      "✅ Embedded 9606.ENSP00000171757\n"
     ]
    },
    {
     "name": "stderr",
     "output_type": "stream",
     "text": [
      "Embedding proteins:   9%|█████▏                                                     | 148/1690 [00:39<09:46,  2.63it/s]"
     ]
    },
    {
     "name": "stdout",
     "output_type": "stream",
     "text": [
      "✅ Embedded 9606.ENSP00000171887\n",
      "✅ Embedded 9606.ENSP00000172229\n"
     ]
    },
    {
     "name": "stderr",
     "output_type": "stream",
     "text": [
      "Embedding proteins:   9%|█████▏                                                     | 149/1690 [00:39<08:36,  2.98it/s]"
     ]
    },
    {
     "name": "stdout",
     "output_type": "stream",
     "text": [
      "✅ Embedded 9606.ENSP00000173229\n"
     ]
    },
    {
     "name": "stderr",
     "output_type": "stream",
     "text": [
      "Embedding proteins:   9%|█████▏                                                     | 150/1690 [00:40<13:11,  1.95it/s]"
     ]
    },
    {
     "name": "stdout",
     "output_type": "stream",
     "text": [
      "✅ Embedded 9606.ENSP00000173898\n"
     ]
    },
    {
     "name": "stderr",
     "output_type": "stream",
     "text": [
      "Embedding proteins:   9%|█████▎                                                     | 152/1690 [00:40<09:01,  2.84it/s]"
     ]
    },
    {
     "name": "stdout",
     "output_type": "stream",
     "text": [
      "✅ Embedded 9606.ENSP00000174618\n",
      "✅ Embedded 9606.ENSP00000174653\n"
     ]
    },
    {
     "name": "stderr",
     "output_type": "stream",
     "text": [
      "Embedding proteins:   9%|█████▍                                                     | 154/1690 [00:41<07:41,  3.33it/s]"
     ]
    },
    {
     "name": "stdout",
     "output_type": "stream",
     "text": [
      "✅ Embedded 9606.ENSP00000175238\n",
      "✅ Embedded 9606.ENSP00000175756\n"
     ]
    },
    {
     "name": "stderr",
     "output_type": "stream",
     "text": [
      "Embedding proteins:   9%|█████▍                                                     | 155/1690 [00:41<06:24,  3.99it/s]"
     ]
    },
    {
     "name": "stdout",
     "output_type": "stream",
     "text": [
      "✅ Embedded 9606.ENSP00000176183\n",
      "✅ Embedded 9606.ENSP00000176195\n"
     ]
    },
    {
     "name": "stderr",
     "output_type": "stream",
     "text": [
      "Embedding proteins:   9%|█████▍                                                     | 157/1690 [00:42<06:11,  4.13it/s]"
     ]
    },
    {
     "name": "stdout",
     "output_type": "stream",
     "text": [
      "✅ Embedded 9606.ENSP00000176763\n"
     ]
    },
    {
     "name": "stderr",
     "output_type": "stream",
     "text": [
      "Embedding proteins:   9%|█████▌                                                     | 159/1690 [00:42<07:58,  3.20it/s]"
     ]
    },
    {
     "name": "stdout",
     "output_type": "stream",
     "text": [
      "✅ Embedded 9606.ENSP00000177648\n",
      "✅ Embedded 9606.ENSP00000177694\n"
     ]
    },
    {
     "name": "stderr",
     "output_type": "stream",
     "text": [
      "Embedding proteins:  10%|█████▋                                                     | 162/1690 [00:43<04:42,  5.41it/s]"
     ]
    },
    {
     "name": "stdout",
     "output_type": "stream",
     "text": [
      "✅ Embedded 9606.ENSP00000178640\n",
      "✅ Embedded 9606.ENSP00000179259\n",
      "✅ Embedded 9606.ENSP00000180166\n"
     ]
    },
    {
     "name": "stderr",
     "output_type": "stream",
     "text": [
      "Embedding proteins:  10%|█████▋                                                     | 164/1690 [00:43<04:59,  5.10it/s]"
     ]
    },
    {
     "name": "stdout",
     "output_type": "stream",
     "text": [
      "✅ Embedded 9606.ENSP00000180173\n",
      "✅ Embedded 9606.ENSP00000181383\n"
     ]
    },
    {
     "name": "stderr",
     "output_type": "stream",
     "text": [
      "Embedding proteins:  10%|█████▊                                                     | 166/1690 [00:44<08:36,  2.95it/s]"
     ]
    },
    {
     "name": "stdout",
     "output_type": "stream",
     "text": [
      "✅ Embedded 9606.ENSP00000181839\n",
      "✅ Embedded 9606.ENSP00000182290\n",
      "✅ Embedded 9606.ENSP00000183605\n"
     ]
    },
    {
     "name": "stderr",
     "output_type": "stream",
     "text": [
      "Embedding proteins:  10%|█████▊                                                     | 168/1690 [00:44<05:36,  4.52it/s]"
     ]
    },
    {
     "name": "stdout",
     "output_type": "stream",
     "text": [
      "✅ Embedded 9606.ENSP00000184183\n",
      "✅ Embedded 9606.ENSP00000184266\n"
     ]
    },
    {
     "name": "stderr",
     "output_type": "stream",
     "text": [
      "Embedding proteins:  10%|█████▉                                                     | 171/1690 [00:45<06:24,  3.95it/s]"
     ]
    },
    {
     "name": "stdout",
     "output_type": "stream",
     "text": [
      "✅ Embedded 9606.ENSP00000184956\n",
      "✅ Embedded 9606.ENSP00000185150\n"
     ]
    },
    {
     "name": "stderr",
     "output_type": "stream",
     "text": [
      "Embedding proteins:  10%|██████                                                     | 172/1690 [00:46<05:49,  4.35it/s]"
     ]
    },
    {
     "name": "stdout",
     "output_type": "stream",
     "text": [
      "✅ Embedded 9606.ENSP00000185206\n"
     ]
    },
    {
     "name": "stderr",
     "output_type": "stream",
     "text": [
      "Embedding proteins:  10%|██████                                                     | 174/1690 [00:46<05:45,  4.39it/s]"
     ]
    },
    {
     "name": "stdout",
     "output_type": "stream",
     "text": [
      "✅ Embedded 9606.ENSP00000187397\n",
      "✅ Embedded 9606.ENSP00000188312\n"
     ]
    },
    {
     "name": "stderr",
     "output_type": "stream",
     "text": [
      "Embedding proteins:  10%|██████▏                                                    | 177/1690 [00:47<04:40,  5.40it/s]"
     ]
    },
    {
     "name": "stdout",
     "output_type": "stream",
     "text": [
      "✅ Embedded 9606.ENSP00000188790\n",
      "✅ Embedded 9606.ENSP00000190983\n",
      "✅ Embedded 9606.ENSP00000193322\n"
     ]
    },
    {
     "name": "stderr",
     "output_type": "stream",
     "text": [
      "Embedding proteins:  11%|██████▏                                                    | 178/1690 [00:47<04:46,  5.27it/s]"
     ]
    },
    {
     "name": "stdout",
     "output_type": "stream",
     "text": [
      "✅ Embedded 9606.ENSP00000194118\n"
     ]
    },
    {
     "name": "stderr",
     "output_type": "stream",
     "text": [
      "Embedding proteins:  11%|██████▏                                                    | 179/1690 [00:47<05:45,  4.37it/s]"
     ]
    },
    {
     "name": "stdout",
     "output_type": "stream",
     "text": [
      "✅ Embedded 9606.ENSP00000194152\n"
     ]
    },
    {
     "name": "stderr",
     "output_type": "stream",
     "text": [
      "Embedding proteins:  11%|██████▎                                                    | 182/1690 [00:48<04:28,  5.61it/s]"
     ]
    },
    {
     "name": "stdout",
     "output_type": "stream",
     "text": [
      "✅ Embedded 9606.ENSP00000194155\n",
      "✅ Embedded 9606.ENSP00000194214\n",
      "✅ Embedded 9606.ENSP00000194530\n"
     ]
    },
    {
     "name": "stderr",
     "output_type": "stream",
     "text": [
      "Embedding proteins:  11%|██████▍                                                    | 184/1690 [00:48<04:53,  5.13it/s]"
     ]
    },
    {
     "name": "stdout",
     "output_type": "stream",
     "text": [
      "✅ Embedded 9606.ENSP00000196061\n",
      "✅ Embedded 9606.ENSP00000196371\n"
     ]
    },
    {
     "name": "stderr",
     "output_type": "stream",
     "text": [
      "Embedding proteins:  11%|██████▍                                                    | 185/1690 [00:48<04:46,  5.25it/s]"
     ]
    },
    {
     "name": "stdout",
     "output_type": "stream",
     "text": [
      "✅ Embedded 9606.ENSP00000196482\n"
     ]
    },
    {
     "name": "stderr",
     "output_type": "stream",
     "text": [
      "Embedding proteins:  11%|██████▍                                                    | 186/1690 [00:48<04:52,  5.14it/s]"
     ]
    },
    {
     "name": "stdout",
     "output_type": "stream",
     "text": [
      "✅ Embedded 9606.ENSP00000196489\n"
     ]
    },
    {
     "name": "stderr",
     "output_type": "stream",
     "text": [
      "Embedding proteins:  11%|██████▌                                                    | 187/1690 [00:49<04:59,  5.03it/s]"
     ]
    },
    {
     "name": "stdout",
     "output_type": "stream",
     "text": [
      "✅ Embedded 9606.ENSP00000196548\n",
      "✅ Embedded 9606.ENSP00000196551\n"
     ]
    },
    {
     "name": "stderr",
     "output_type": "stream",
     "text": [
      "Embedding proteins:  11%|██████▋                                                    | 191/1690 [00:49<03:30,  7.14it/s]"
     ]
    },
    {
     "name": "stdout",
     "output_type": "stream",
     "text": [
      "✅ Embedded 9606.ENSP00000198767\n",
      "✅ Embedded 9606.ENSP00000198801\n",
      "✅ Embedded 9606.ENSP00000199280\n"
     ]
    },
    {
     "name": "stderr",
     "output_type": "stream",
     "text": [
      "Embedding proteins:  11%|██████▋                                                    | 193/1690 [00:49<03:33,  7.02it/s]"
     ]
    },
    {
     "name": "stdout",
     "output_type": "stream",
     "text": [
      "✅ Embedded 9606.ENSP00000199320\n",
      "✅ Embedded 9606.ENSP00000199389\n"
     ]
    },
    {
     "name": "stderr",
     "output_type": "stream",
     "text": [
      "Embedding proteins:  12%|██████▊                                                    | 196/1690 [00:50<02:53,  8.64it/s]"
     ]
    },
    {
     "name": "stdout",
     "output_type": "stream",
     "text": [
      "✅ Embedded 9606.ENSP00000199447\n",
      "✅ Embedded 9606.ENSP00000199706\n",
      "✅ Embedded 9606.ENSP00000199708\n",
      "✅ Embedded 9606.ENSP00000199764\n"
     ]
    },
    {
     "name": "stderr",
     "output_type": "stream",
     "text": [
      "Embedding proteins:  12%|██████▉                                                    | 199/1690 [00:50<02:50,  8.76it/s]"
     ]
    },
    {
     "name": "stdout",
     "output_type": "stream",
     "text": [
      "✅ Embedded 9606.ENSP00000199814\n",
      "✅ Embedded 9606.ENSP00000199936\n"
     ]
    },
    {
     "name": "stderr",
     "output_type": "stream",
     "text": [
      "Embedding proteins:  12%|██████▉                                                    | 200/1690 [00:50<03:57,  6.28it/s]"
     ]
    },
    {
     "name": "stdout",
     "output_type": "stream",
     "text": [
      "✅ Embedded 9606.ENSP00000200135\n"
     ]
    },
    {
     "name": "stderr",
     "output_type": "stream",
     "text": [
      "Embedding proteins:  12%|███████                                                    | 201/1690 [00:52<10:05,  2.46it/s]"
     ]
    },
    {
     "name": "stdout",
     "output_type": "stream",
     "text": [
      "✅ Embedded 9606.ENSP00000200181\n"
     ]
    },
    {
     "name": "stderr",
     "output_type": "stream",
     "text": [
      "Embedding proteins:  12%|███████                                                    | 203/1690 [00:52<07:31,  3.29it/s]"
     ]
    },
    {
     "name": "stdout",
     "output_type": "stream",
     "text": [
      "✅ Embedded 9606.ENSP00000200453\n",
      "✅ Embedded 9606.ENSP00000200457\n"
     ]
    },
    {
     "name": "stderr",
     "output_type": "stream",
     "text": [
      "Embedding proteins:  12%|███████▏                                                   | 205/1690 [00:52<06:26,  3.84it/s]"
     ]
    },
    {
     "name": "stdout",
     "output_type": "stream",
     "text": [
      "✅ Embedded 9606.ENSP00000200557\n",
      "✅ Embedded 9606.ENSP00000200676\n"
     ]
    },
    {
     "name": "stderr",
     "output_type": "stream",
     "text": [
      "Embedding proteins:  12%|███████▎                                                   | 208/1690 [00:53<03:44,  6.59it/s]"
     ]
    },
    {
     "name": "stdout",
     "output_type": "stream",
     "text": [
      "✅ Embedded 9606.ENSP00000201031\n",
      "✅ Embedded 9606.ENSP00000201979\n",
      "✅ Embedded 9606.ENSP00000202017\n"
     ]
    },
    {
     "name": "stderr",
     "output_type": "stream",
     "text": [
      "Embedding proteins:  12%|███████▎                                                   | 209/1690 [00:53<05:53,  4.19it/s]"
     ]
    },
    {
     "name": "stdout",
     "output_type": "stream",
     "text": [
      "✅ Embedded 9606.ENSP00000202556\n"
     ]
    },
    {
     "name": "stderr",
     "output_type": "stream",
     "text": [
      "Embedding proteins:  12%|███████▎                                                   | 210/1690 [00:54<12:32,  1.97it/s]"
     ]
    },
    {
     "name": "stdout",
     "output_type": "stream",
     "text": [
      "✅ Embedded 9606.ENSP00000202677\n",
      "✅ Embedded 9606.ENSP00000202773\n"
     ]
    },
    {
     "name": "stderr",
     "output_type": "stream",
     "text": [
      "Embedding proteins:  13%|███████▍                                                   | 213/1690 [00:55<07:02,  3.49it/s]"
     ]
    },
    {
     "name": "stdout",
     "output_type": "stream",
     "text": [
      "✅ Embedded 9606.ENSP00000202788\n",
      "✅ Embedded 9606.ENSP00000202967\n"
     ]
    },
    {
     "name": "stderr",
     "output_type": "stream",
     "text": [
      "Embedding proteins:  13%|███████▍                                                   | 214/1690 [00:55<06:08,  4.00it/s]"
     ]
    },
    {
     "name": "stdout",
     "output_type": "stream",
     "text": [
      "✅ Embedded 9606.ENSP00000203407\n"
     ]
    },
    {
     "name": "stderr",
     "output_type": "stream",
     "text": [
      "Embedding proteins:  13%|███████▌                                                   | 216/1690 [00:56<06:32,  3.76it/s]"
     ]
    },
    {
     "name": "stdout",
     "output_type": "stream",
     "text": [
      "✅ Embedded 9606.ENSP00000203556\n",
      "✅ Embedded 9606.ENSP00000203629\n"
     ]
    },
    {
     "name": "stderr",
     "output_type": "stream",
     "text": [
      "Embedding proteins:  13%|███████▌                                                   | 217/1690 [00:56<05:25,  4.52it/s]"
     ]
    },
    {
     "name": "stdout",
     "output_type": "stream",
     "text": [
      "✅ Embedded 9606.ENSP00000204517\n"
     ]
    },
    {
     "name": "stderr",
     "output_type": "stream",
     "text": [
      "Embedding proteins:  13%|███████▋                                                   | 219/1690 [00:56<05:46,  4.25it/s]"
     ]
    },
    {
     "name": "stdout",
     "output_type": "stream",
     "text": [
      "✅ Embedded 9606.ENSP00000204604\n",
      "✅ Embedded 9606.ENSP00000204615\n",
      "✅ Embedded 9606.ENSP00000204679\n"
     ]
    },
    {
     "name": "stderr",
     "output_type": "stream",
     "text": [
      "Embedding proteins:  13%|███████▋                                                   | 221/1690 [00:56<04:15,  5.75it/s]"
     ]
    },
    {
     "name": "stdout",
     "output_type": "stream",
     "text": [
      "✅ Embedded 9606.ENSP00000204961\n"
     ]
    },
    {
     "name": "stderr",
     "output_type": "stream",
     "text": [
      "Embedding proteins:  13%|███████▊                                                   | 222/1690 [00:57<04:38,  5.27it/s]"
     ]
    },
    {
     "name": "stdout",
     "output_type": "stream",
     "text": [
      "✅ Embedded 9606.ENSP00000205143\n"
     ]
    },
    {
     "name": "stderr",
     "output_type": "stream",
     "text": [
      "Embedding proteins:  13%|███████▊                                                   | 224/1690 [00:58<08:42,  2.80it/s]"
     ]
    },
    {
     "name": "stdout",
     "output_type": "stream",
     "text": [
      "✅ Embedded 9606.ENSP00000205386\n",
      "✅ Embedded 9606.ENSP00000205402\n"
     ]
    },
    {
     "name": "stderr",
     "output_type": "stream",
     "text": [
      "Embedding proteins:  13%|███████▊                                                   | 225/1690 [00:59<12:08,  2.01it/s]"
     ]
    },
    {
     "name": "stdout",
     "output_type": "stream",
     "text": [
      "✅ Embedded 9606.ENSP00000205557\n"
     ]
    },
    {
     "name": "stderr",
     "output_type": "stream",
     "text": [
      "Embedding proteins:  13%|███████▉                                                   | 227/1690 [01:04<31:06,  1.28s/it]"
     ]
    },
    {
     "name": "stdout",
     "output_type": "stream",
     "text": [
      "✅ Embedded 9606.ENSP00000205890\n",
      "✅ Embedded 9606.ENSP00000205948\n"
     ]
    },
    {
     "name": "stderr",
     "output_type": "stream",
     "text": [
      "Embedding proteins:  14%|████████                                                   | 230/1690 [01:04<13:57,  1.74it/s]"
     ]
    },
    {
     "name": "stdout",
     "output_type": "stream",
     "text": [
      "✅ Embedded 9606.ENSP00000206249\n",
      "✅ Embedded 9606.ENSP00000206262\n",
      "✅ Embedded 9606.ENSP00000206474\n"
     ]
    },
    {
     "name": "stderr",
     "output_type": "stream",
     "text": [
      "Embedding proteins:  14%|████████                                                   | 232/1690 [01:04<09:17,  2.62it/s]"
     ]
    },
    {
     "name": "stdout",
     "output_type": "stream",
     "text": [
      "✅ Embedded 9606.ENSP00000207437\n",
      "✅ Embedded 9606.ENSP00000209540\n"
     ]
    },
    {
     "name": "stderr",
     "output_type": "stream",
     "text": [
      "Embedding proteins:  14%|████████▏                                                  | 234/1690 [01:05<07:04,  3.43it/s]"
     ]
    },
    {
     "name": "stdout",
     "output_type": "stream",
     "text": [
      "✅ Embedded 9606.ENSP00000209668\n",
      "✅ Embedded 9606.ENSP00000209728\n"
     ]
    },
    {
     "name": "stderr",
     "output_type": "stream",
     "text": [
      "Embedding proteins:  14%|████████▏                                                  | 235/1690 [01:05<06:21,  3.81it/s]"
     ]
    },
    {
     "name": "stdout",
     "output_type": "stream",
     "text": [
      "✅ Embedded 9606.ENSP00000209873\n",
      "✅ Embedded 9606.ENSP00000209875\n"
     ]
    },
    {
     "name": "stderr",
     "output_type": "stream",
     "text": [
      "Embedding proteins:  14%|████████▎                                                  | 238/1690 [01:05<04:48,  5.03it/s]"
     ]
    },
    {
     "name": "stdout",
     "output_type": "stream",
     "text": [
      "✅ Embedded 9606.ENSP00000209884\n",
      "✅ Embedded 9606.ENSP00000210313\n"
     ]
    },
    {
     "name": "stderr",
     "output_type": "stream",
     "text": [
      "Embedding proteins:  14%|████████▎                                                  | 239/1690 [01:05<04:18,  5.62it/s]"
     ]
    },
    {
     "name": "stdout",
     "output_type": "stream",
     "text": [
      "✅ Embedded 9606.ENSP00000211287\n"
     ]
    },
    {
     "name": "stderr",
     "output_type": "stream",
     "text": [
      "Embedding proteins:  14%|████████▍                                                  | 240/1690 [01:06<05:10,  4.67it/s]"
     ]
    },
    {
     "name": "stdout",
     "output_type": "stream",
     "text": [
      "✅ Embedded 9606.ENSP00000211936\n"
     ]
    },
    {
     "name": "stderr",
     "output_type": "stream",
     "text": [
      "Embedding proteins:  14%|████████▍                                                  | 241/1690 [01:06<07:15,  3.33it/s]"
     ]
    },
    {
     "name": "stdout",
     "output_type": "stream",
     "text": [
      "✅ Embedded 9606.ENSP00000211998\n"
     ]
    },
    {
     "name": "stderr",
     "output_type": "stream",
     "text": [
      "Embedding proteins:  14%|████████▍                                                  | 242/1690 [01:07<07:13,  3.34it/s]"
     ]
    },
    {
     "name": "stdout",
     "output_type": "stream",
     "text": [
      "✅ Embedded 9606.ENSP00000212015\n",
      "✅ Embedded 9606.ENSP00000214869\n"
     ]
    },
    {
     "name": "stderr",
     "output_type": "stream",
     "text": [
      "Embedding proteins:  14%|████████▌                                                  | 245/1690 [01:07<04:57,  4.86it/s]"
     ]
    },
    {
     "name": "stdout",
     "output_type": "stream",
     "text": [
      "✅ Embedded 9606.ENSP00000215057\n",
      "✅ Embedded 9606.ENSP00000215071\n",
      "✅ Embedded 9606.ENSP00000215095\n"
     ]
    },
    {
     "name": "stderr",
     "output_type": "stream",
     "text": [
      "Embedding proteins:  15%|████████▋                                                  | 250/1690 [01:07<02:31,  9.48it/s]"
     ]
    },
    {
     "name": "stdout",
     "output_type": "stream",
     "text": [
      "✅ Embedded 9606.ENSP00000215368\n",
      "✅ Embedded 9606.ENSP00000215375\n",
      "✅ Embedded 9606.ENSP00000215530\n",
      "✅ Embedded 9606.ENSP00000215555\n",
      "✅ Embedded 9606.ENSP00000215570\n"
     ]
    },
    {
     "name": "stderr",
     "output_type": "stream",
     "text": [
      "Embedding proteins:  15%|████████▊                                                  | 254/1690 [01:07<01:52, 12.82it/s]"
     ]
    },
    {
     "name": "stdout",
     "output_type": "stream",
     "text": [
      "✅ Embedded 9606.ENSP00000215574\n",
      "✅ Embedded 9606.ENSP00000215587\n",
      "✅ Embedded 9606.ENSP00000215631\n"
     ]
    },
    {
     "name": "stderr",
     "output_type": "stream",
     "text": [
      "Embedding proteins:  15%|████████▉                                                  | 256/1690 [01:08<02:08, 11.15it/s]"
     ]
    },
    {
     "name": "stdout",
     "output_type": "stream",
     "text": [
      "✅ Embedded 9606.ENSP00000215637\n",
      "✅ Embedded 9606.ENSP00000215659\n"
     ]
    },
    {
     "name": "stderr",
     "output_type": "stream",
     "text": [
      "Embedding proteins:  15%|█████████                                                  | 258/1690 [01:08<02:20, 10.20it/s]"
     ]
    },
    {
     "name": "stdout",
     "output_type": "stream",
     "text": [
      "✅ Embedded 9606.ENSP00000215727\n",
      "✅ Embedded 9606.ENSP00000215730\n"
     ]
    },
    {
     "name": "stderr",
     "output_type": "stream",
     "text": [
      "Embedding proteins:  16%|█████████▏                                                 | 262/1690 [01:08<02:07, 11.16it/s]"
     ]
    },
    {
     "name": "stdout",
     "output_type": "stream",
     "text": [
      "✅ Embedded 9606.ENSP00000215743\n",
      "✅ Embedded 9606.ENSP00000215773\n",
      "✅ Embedded 9606.ENSP00000215780\n",
      "✅ Embedded 9606.ENSP00000215781\n"
     ]
    },
    {
     "name": "stderr",
     "output_type": "stream",
     "text": [
      "Embedding proteins:  16%|█████████▏                                                 | 264/1690 [01:09<02:55,  8.11it/s]"
     ]
    },
    {
     "name": "stdout",
     "output_type": "stream",
     "text": [
      "✅ Embedded 9606.ENSP00000215793\n",
      "✅ Embedded 9606.ENSP00000215794\n",
      "✅ Embedded 9606.ENSP00000215829\n"
     ]
    },
    {
     "name": "stderr",
     "output_type": "stream",
     "text": [
      "Embedding proteins:  16%|█████████▎                                                 | 266/1690 [01:09<02:31,  9.40it/s]"
     ]
    },
    {
     "name": "stdout",
     "output_type": "stream",
     "text": [
      "✅ Embedded 9606.ENSP00000215832\n"
     ]
    },
    {
     "name": "stderr",
     "output_type": "stream",
     "text": [
      "Embedding proteins:  16%|█████████▎                                                 | 268/1690 [01:09<03:46,  6.28it/s]"
     ]
    },
    {
     "name": "stdout",
     "output_type": "stream",
     "text": [
      "✅ Embedded 9606.ENSP00000215862\n",
      "✅ Embedded 9606.ENSP00000215885\n",
      "✅ Embedded 9606.ENSP00000215909\n"
     ]
    },
    {
     "name": "stderr",
     "output_type": "stream",
     "text": [
      "Embedding proteins:  16%|█████████▌                                                 | 273/1690 [01:10<02:26,  9.68it/s]"
     ]
    },
    {
     "name": "stdout",
     "output_type": "stream",
     "text": [
      "✅ Embedded 9606.ENSP00000215941\n",
      "✅ Embedded 9606.ENSP00000215956\n",
      "✅ Embedded 9606.ENSP00000215980\n",
      "✅ Embedded 9606.ENSP00000216024\n"
     ]
    },
    {
     "name": "stderr",
     "output_type": "stream",
     "text": [
      "Embedding proteins:  16%|█████████▋                                                 | 277/1690 [01:10<02:01, 11.67it/s]"
     ]
    },
    {
     "name": "stdout",
     "output_type": "stream",
     "text": [
      "✅ Embedded 9606.ENSP00000216037\n",
      "✅ Embedded 9606.ENSP00000216101\n",
      "✅ Embedded 9606.ENSP00000216115\n",
      "✅ Embedded 9606.ENSP00000216117\n"
     ]
    },
    {
     "name": "stderr",
     "output_type": "stream",
     "text": [
      "Embedding proteins:  17%|█████████▋                                                 | 279/1690 [01:10<02:49,  8.34it/s]"
     ]
    },
    {
     "name": "stdout",
     "output_type": "stream",
     "text": [
      "✅ Embedded 9606.ENSP00000216122\n",
      "✅ Embedded 9606.ENSP00000216127\n",
      "✅ Embedded 9606.ENSP00000216133\n"
     ]
    },
    {
     "name": "stderr",
     "output_type": "stream",
     "text": [
      "Embedding proteins:  17%|█████████▊                                                 | 281/1690 [01:10<02:29,  9.41it/s]"
     ]
    },
    {
     "name": "stdout",
     "output_type": "stream",
     "text": [
      "✅ Embedded 9606.ENSP00000216144\n",
      "✅ Embedded 9606.ENSP00000216160\n"
     ]
    },
    {
     "name": "stderr",
     "output_type": "stream",
     "text": [
      "Embedding proteins:  17%|█████████▉                                                 | 283/1690 [01:11<02:56,  7.99it/s]"
     ]
    },
    {
     "name": "stdout",
     "output_type": "stream",
     "text": [
      "✅ Embedded 9606.ENSP00000216180\n",
      "✅ Embedded 9606.ENSP00000216181\n"
     ]
    },
    {
     "name": "stderr",
     "output_type": "stream",
     "text": [
      "Embedding proteins:  17%|██████████                                                 | 287/1690 [01:13<06:29,  3.60it/s]"
     ]
    },
    {
     "name": "stdout",
     "output_type": "stream",
     "text": [
      "✅ Embedded 9606.ENSP00000216190\n",
      "✅ Embedded 9606.ENSP00000216200\n",
      "✅ Embedded 9606.ENSP00000216218\n"
     ]
    },
    {
     "name": "stderr",
     "output_type": "stream",
     "text": [
      "Embedding proteins:  17%|██████████                                                 | 288/1690 [01:13<06:11,  3.78it/s]"
     ]
    },
    {
     "name": "stdout",
     "output_type": "stream",
     "text": [
      "✅ Embedded 9606.ENSP00000216223\n",
      "✅ Embedded 9606.ENSP00000216225\n"
     ]
    },
    {
     "name": "stderr",
     "output_type": "stream",
     "text": [
      "Embedding proteins:  17%|██████████                                                 | 290/1690 [01:13<05:31,  4.22it/s]"
     ]
    },
    {
     "name": "stdout",
     "output_type": "stream",
     "text": [
      "✅ Embedded 9606.ENSP00000216241\n"
     ]
    },
    {
     "name": "stderr",
     "output_type": "stream",
     "text": [
      "Embedding proteins:  17%|██████████▏                                                | 291/1690 [01:14<05:56,  3.92it/s]"
     ]
    },
    {
     "name": "stdout",
     "output_type": "stream",
     "text": [
      "✅ Embedded 9606.ENSP00000216254\n"
     ]
    },
    {
     "name": "stderr",
     "output_type": "stream",
     "text": [
      "Embedding proteins:  17%|██████████▏                                                | 293/1690 [01:14<05:32,  4.20it/s]"
     ]
    },
    {
     "name": "stdout",
     "output_type": "stream",
     "text": [
      "✅ Embedded 9606.ENSP00000216271\n",
      "✅ Embedded 9606.ENSP00000216274\n"
     ]
    },
    {
     "name": "stderr",
     "output_type": "stream",
     "text": [
      "Embedding proteins:  17%|██████████▎                                                | 294/1690 [01:14<05:41,  4.09it/s]"
     ]
    },
    {
     "name": "stdout",
     "output_type": "stream",
     "text": [
      "✅ Embedded 9606.ENSP00000216277\n"
     ]
    },
    {
     "name": "stderr",
     "output_type": "stream",
     "text": [
      "Embedding proteins:  18%|██████████▎                                                | 297/1690 [01:16<06:48,  3.41it/s]"
     ]
    },
    {
     "name": "stdout",
     "output_type": "stream",
     "text": [
      "✅ Embedded 9606.ENSP00000216286\n",
      "✅ Embedded 9606.ENSP00000216336\n",
      "✅ Embedded 9606.ENSP00000216341\n"
     ]
    },
    {
     "name": "stderr",
     "output_type": "stream",
     "text": [
      "Embedding proteins:  18%|██████████▍                                                | 298/1690 [01:16<06:19,  3.67it/s]"
     ]
    },
    {
     "name": "stdout",
     "output_type": "stream",
     "text": [
      "✅ Embedded 9606.ENSP00000216367\n"
     ]
    },
    {
     "name": "stderr",
     "output_type": "stream",
     "text": [
      "Embedding proteins:  18%|██████████▍                                                | 299/1690 [01:17<09:53,  2.35it/s]"
     ]
    },
    {
     "name": "stdout",
     "output_type": "stream",
     "text": [
      "✅ Embedded 9606.ENSP00000216373\n",
      "✅ Embedded 9606.ENSP00000216442\n"
     ]
    },
    {
     "name": "stderr",
     "output_type": "stream",
     "text": [
      "Embedding proteins:  18%|██████████▌                                                | 301/1690 [01:17<06:57,  3.33it/s]"
     ]
    },
    {
     "name": "stdout",
     "output_type": "stream",
     "text": [
      "✅ Embedded 9606.ENSP00000216484\n"
     ]
    },
    {
     "name": "stderr",
     "output_type": "stream",
     "text": [
      "Embedding proteins:  18%|██████████▌                                                | 302/1690 [01:17<08:01,  2.88it/s]"
     ]
    },
    {
     "name": "stdout",
     "output_type": "stream",
     "text": [
      "✅ Embedded 9606.ENSP00000216487\n"
     ]
    },
    {
     "name": "stderr",
     "output_type": "stream",
     "text": [
      "Embedding proteins:  18%|██████████▌                                                | 304/1690 [01:18<06:54,  3.35it/s]"
     ]
    },
    {
     "name": "stdout",
     "output_type": "stream",
     "text": [
      "✅ Embedded 9606.ENSP00000216513\n",
      "✅ Embedded 9606.ENSP00000216554\n"
     ]
    },
    {
     "name": "stderr",
     "output_type": "stream",
     "text": [
      "Embedding proteins:  18%|██████████▋                                                | 306/1690 [01:18<05:02,  4.57it/s]"
     ]
    },
    {
     "name": "stdout",
     "output_type": "stream",
     "text": [
      "✅ Embedded 9606.ENSP00000216629\n",
      "✅ Embedded 9606.ENSP00000216639\n"
     ]
    },
    {
     "name": "stderr",
     "output_type": "stream",
     "text": [
      "Embedding proteins:  18%|██████████▋                                                | 307/1690 [01:18<04:16,  5.39it/s]"
     ]
    },
    {
     "name": "stdout",
     "output_type": "stream",
     "text": [
      "✅ Embedded 9606.ENSP00000216714\n"
     ]
    },
    {
     "name": "stderr",
     "output_type": "stream",
     "text": [
      "Embedding proteins:  18%|██████████▊                                                | 308/1690 [01:19<04:25,  5.21it/s]"
     ]
    },
    {
     "name": "stdout",
     "output_type": "stream",
     "text": [
      "✅ Embedded 9606.ENSP00000216733\n"
     ]
    },
    {
     "name": "stderr",
     "output_type": "stream",
     "text": [
      "Embedding proteins:  18%|██████████▊                                                | 311/1690 [01:19<03:33,  6.45it/s]"
     ]
    },
    {
     "name": "stdout",
     "output_type": "stream",
     "text": [
      "✅ Embedded 9606.ENSP00000216780\n",
      "✅ Embedded 9606.ENSP00000216797\n",
      "✅ Embedded 9606.ENSP00000216802\n"
     ]
    },
    {
     "name": "stderr",
     "output_type": "stream",
     "text": [
      "Embedding proteins:  19%|██████████▉                                                | 313/1690 [01:19<03:32,  6.49it/s]"
     ]
    },
    {
     "name": "stdout",
     "output_type": "stream",
     "text": [
      "✅ Embedded 9606.ENSP00000216807\n",
      "✅ Embedded 9606.ENSP00000216862\n"
     ]
    },
    {
     "name": "stderr",
     "output_type": "stream",
     "text": [
      "Embedding proteins:  19%|██████████▉                                                | 314/1690 [01:19<03:25,  6.69it/s]"
     ]
    },
    {
     "name": "stdout",
     "output_type": "stream",
     "text": [
      "✅ Embedded 9606.ENSP00000216911\n"
     ]
    },
    {
     "name": "stderr",
     "output_type": "stream",
     "text": [
      "Embedding proteins:  19%|██████████▉                                                | 315/1690 [01:20<04:13,  5.41it/s]"
     ]
    },
    {
     "name": "stdout",
     "output_type": "stream",
     "text": [
      "✅ Embedded 9606.ENSP00000216923\n",
      "✅ Embedded 9606.ENSP00000216968\n"
     ]
    },
    {
     "name": "stderr",
     "output_type": "stream",
     "text": [
      "Embedding proteins:  19%|███████████                                                | 317/1690 [01:20<04:15,  5.37it/s]"
     ]
    },
    {
     "name": "stdout",
     "output_type": "stream",
     "text": [
      "✅ Embedded 9606.ENSP00000217026\n"
     ]
    },
    {
     "name": "stderr",
     "output_type": "stream",
     "text": [
      "Embedding proteins:  19%|███████████                                                | 318/1690 [01:20<04:34,  5.00it/s]"
     ]
    },
    {
     "name": "stdout",
     "output_type": "stream",
     "text": [
      "✅ Embedded 9606.ENSP00000217073\n"
     ]
    },
    {
     "name": "stderr",
     "output_type": "stream",
     "text": [
      "Embedding proteins:  19%|███████████▏                                               | 320/1690 [01:21<05:39,  4.04it/s]"
     ]
    },
    {
     "name": "stdout",
     "output_type": "stream",
     "text": [
      "✅ Embedded 9606.ENSP00000217086\n",
      "✅ Embedded 9606.ENSP00000217109\n"
     ]
    },
    {
     "name": "stderr",
     "output_type": "stream",
     "text": [
      "Embedding proteins:  19%|███████████▏                                               | 322/1690 [01:22<05:33,  4.10it/s]"
     ]
    },
    {
     "name": "stdout",
     "output_type": "stream",
     "text": [
      "✅ Embedded 9606.ENSP00000217130\n",
      "✅ Embedded 9606.ENSP00000217131\n"
     ]
    },
    {
     "name": "stderr",
     "output_type": "stream",
     "text": [
      "Embedding proteins:  19%|███████████▎                                               | 323/1690 [01:22<04:59,  4.57it/s]"
     ]
    },
    {
     "name": "stdout",
     "output_type": "stream",
     "text": [
      "✅ Embedded 9606.ENSP00000217133\n",
      "✅ Embedded 9606.ENSP00000217169\n"
     ]
    },
    {
     "name": "stderr",
     "output_type": "stream",
     "text": [
      "Embedding proteins:  19%|███████████▍                                               | 326/1690 [01:22<03:55,  5.80it/s]"
     ]
    },
    {
     "name": "stdout",
     "output_type": "stream",
     "text": [
      "✅ Embedded 9606.ENSP00000217185\n",
      "✅ Embedded 9606.ENSP00000217188\n"
     ]
    },
    {
     "name": "stderr",
     "output_type": "stream",
     "text": [
      "Embedding proteins:  19%|███████████▍                                               | 328/1690 [01:22<03:22,  6.74it/s]"
     ]
    },
    {
     "name": "stdout",
     "output_type": "stream",
     "text": [
      "✅ Embedded 9606.ENSP00000217233\n",
      "✅ Embedded 9606.ENSP00000217244\n"
     ]
    },
    {
     "name": "stderr",
     "output_type": "stream",
     "text": [
      "Embedding proteins:  19%|███████████▍                                               | 329/1690 [01:22<03:08,  7.21it/s]"
     ]
    },
    {
     "name": "stdout",
     "output_type": "stream",
     "text": [
      "✅ Embedded 9606.ENSP00000217270\n"
     ]
    },
    {
     "name": "stderr",
     "output_type": "stream",
     "text": [
      "Embedding proteins:  20%|███████████▌                                               | 332/1690 [01:23<02:46,  8.16it/s]"
     ]
    },
    {
     "name": "stdout",
     "output_type": "stream",
     "text": [
      "✅ Embedded 9606.ENSP00000217289\n",
      "✅ Embedded 9606.ENSP00000217386\n",
      "✅ Embedded 9606.ENSP00000217402\n",
      "✅ Embedded 9606.ENSP00000217423\n",
      "✅ Embedded 9606.ENSP00000217428\n"
     ]
    },
    {
     "name": "stderr",
     "output_type": "stream",
     "text": [
      "Embedding proteins:  20%|███████████▋                                               | 335/1690 [01:23<02:00, 11.25it/s]"
     ]
    },
    {
     "name": "stdout",
     "output_type": "stream",
     "text": [
      "✅ Embedded 9606.ENSP00000217515\n",
      "✅ Embedded 9606.ENSP00000217652\n"
     ]
    },
    {
     "name": "stderr",
     "output_type": "stream",
     "text": [
      "Embedding proteins:  20%|███████████▊                                               | 338/1690 [01:26<10:28,  2.15it/s]"
     ]
    },
    {
     "name": "stdout",
     "output_type": "stream",
     "text": [
      "✅ Embedded 9606.ENSP00000217939\n",
      "✅ Embedded 9606.ENSP00000217958\n"
     ]
    },
    {
     "name": "stderr",
     "output_type": "stream",
     "text": [
      "Embedding proteins:  20%|███████████▊                                               | 339/1690 [01:26<09:30,  2.37it/s]"
     ]
    },
    {
     "name": "stdout",
     "output_type": "stream",
     "text": [
      "✅ Embedded 9606.ENSP00000217961\n"
     ]
    },
    {
     "name": "stderr",
     "output_type": "stream",
     "text": [
      "Embedding proteins:  20%|███████████▉                                               | 342/1690 [01:27<05:48,  3.86it/s]"
     ]
    },
    {
     "name": "stdout",
     "output_type": "stream",
     "text": [
      "✅ Embedded 9606.ENSP00000217964\n",
      "✅ Embedded 9606.ENSP00000217971\n",
      "✅ Embedded 9606.ENSP00000218004\n"
     ]
    },
    {
     "name": "stderr",
     "output_type": "stream",
     "text": [
      "Embedding proteins:  20%|████████████                                               | 344/1690 [01:28<06:32,  3.43it/s]"
     ]
    },
    {
     "name": "stdout",
     "output_type": "stream",
     "text": [
      "✅ Embedded 9606.ENSP00000218006\n",
      "✅ Embedded 9606.ENSP00000218008\n"
     ]
    },
    {
     "name": "stderr",
     "output_type": "stream",
     "text": [
      "Embedding proteins:  20%|████████████                                               | 345/1690 [01:28<07:45,  2.89it/s]"
     ]
    },
    {
     "name": "stdout",
     "output_type": "stream",
     "text": [
      "✅ Embedded 9606.ENSP00000218032\n"
     ]
    },
    {
     "name": "stderr",
     "output_type": "stream",
     "text": [
      "Embedding proteins:  21%|████████████                                               | 347/1690 [01:29<08:27,  2.65it/s]"
     ]
    },
    {
     "name": "stdout",
     "output_type": "stream",
     "text": [
      "✅ Embedded 9606.ENSP00000218089\n",
      "✅ Embedded 9606.ENSP00000218099\n"
     ]
    },
    {
     "name": "stderr",
     "output_type": "stream",
     "text": [
      "Embedding proteins:  21%|████████████▏                                              | 348/1690 [01:30<13:45,  1.63it/s]"
     ]
    },
    {
     "name": "stdout",
     "output_type": "stream",
     "text": [
      "✅ Embedded 9606.ENSP00000218147\n"
     ]
    },
    {
     "name": "stderr",
     "output_type": "stream",
     "text": [
      "Embedding proteins:  21%|████████████▏                                              | 350/1690 [01:31<08:50,  2.53it/s]"
     ]
    },
    {
     "name": "stdout",
     "output_type": "stream",
     "text": [
      "✅ Embedded 9606.ENSP00000218176\n",
      "✅ Embedded 9606.ENSP00000218197\n",
      "✅ Embedded 9606.ENSP00000218249\n"
     ]
    },
    {
     "name": "stderr",
     "output_type": "stream",
     "text": [
      "Embedding proteins:  21%|████████████▎                                              | 352/1690 [01:31<07:40,  2.91it/s]"
     ]
    },
    {
     "name": "stdout",
     "output_type": "stream",
     "text": [
      "✅ Embedded 9606.ENSP00000218348\n",
      "✅ Embedded 9606.ENSP00000218388\n"
     ]
    },
    {
     "name": "stderr",
     "output_type": "stream",
     "text": [
      "Embedding proteins:  21%|████████████▍                                              | 355/1690 [01:32<06:07,  3.64it/s]"
     ]
    },
    {
     "name": "stdout",
     "output_type": "stream",
     "text": [
      "✅ Embedded 9606.ENSP00000218548\n",
      "✅ Embedded 9606.ENSP00000218721\n"
     ]
    },
    {
     "name": "stderr",
     "output_type": "stream",
     "text": [
      "Embedding proteins:  21%|████████████▍                                              | 356/1690 [01:32<05:11,  4.28it/s]"
     ]
    },
    {
     "name": "stdout",
     "output_type": "stream",
     "text": [
      "✅ Embedded 9606.ENSP00000218758\n"
     ]
    },
    {
     "name": "stderr",
     "output_type": "stream",
     "text": [
      "Embedding proteins:  21%|████████████▍                                              | 357/1690 [01:32<05:25,  4.09it/s]"
     ]
    },
    {
     "name": "stdout",
     "output_type": "stream",
     "text": [
      "✅ Embedded 9606.ENSP00000219069\n"
     ]
    },
    {
     "name": "stderr",
     "output_type": "stream",
     "text": [
      "Embedding proteins:  21%|████████████▌                                              | 359/1690 [01:33<05:11,  4.27it/s]"
     ]
    },
    {
     "name": "stdout",
     "output_type": "stream",
     "text": [
      "✅ Embedded 9606.ENSP00000219070\n",
      "✅ Embedded 9606.ENSP00000219091\n"
     ]
    },
    {
     "name": "stderr",
     "output_type": "stream",
     "text": [
      "Embedding proteins:  21%|████████████▌                                              | 361/1690 [01:33<03:29,  6.33it/s]"
     ]
    },
    {
     "name": "stdout",
     "output_type": "stream",
     "text": [
      "✅ Embedded 9606.ENSP00000219097\n",
      "✅ Embedded 9606.ENSP00000219169\n"
     ]
    },
    {
     "name": "stderr",
     "output_type": "stream",
     "text": [
      "Embedding proteins:  22%|████████████▋                                              | 364/1690 [01:33<02:57,  7.48it/s]"
     ]
    },
    {
     "name": "stdout",
     "output_type": "stream",
     "text": [
      "✅ Embedded 9606.ENSP00000219172\n",
      "✅ Embedded 9606.ENSP00000219235\n",
      "✅ Embedded 9606.ENSP00000219240\n",
      "✅ Embedded 9606.ENSP00000219244\n"
     ]
    },
    {
     "name": "stderr",
     "output_type": "stream",
     "text": [
      "Embedding proteins:  22%|████████████▊                                              | 366/1690 [01:33<02:18,  9.57it/s]"
     ]
    },
    {
     "name": "stdout",
     "output_type": "stream",
     "text": [
      "✅ Embedded 9606.ENSP00000219252\n",
      "✅ Embedded 9606.ENSP00000219255\n"
     ]
    },
    {
     "name": "stderr",
     "output_type": "stream",
     "text": [
      "Embedding proteins:  22%|████████████▉                                              | 370/1690 [01:34<02:23,  9.21it/s]"
     ]
    },
    {
     "name": "stdout",
     "output_type": "stream",
     "text": [
      "✅ Embedded 9606.ENSP00000219271\n",
      "✅ Embedded 9606.ENSP00000219302\n",
      "✅ Embedded 9606.ENSP00000219313\n"
     ]
    },
    {
     "name": "stderr",
     "output_type": "stream",
     "text": [
      "Embedding proteins:  22%|████████████▉                                              | 372/1690 [01:34<02:37,  8.39it/s]"
     ]
    },
    {
     "name": "stdout",
     "output_type": "stream",
     "text": [
      "✅ Embedded 9606.ENSP00000219334\n",
      "✅ Embedded 9606.ENSP00000219409\n"
     ]
    },
    {
     "name": "stderr",
     "output_type": "stream",
     "text": [
      "Embedding proteins:  22%|█████████████                                              | 374/1690 [01:36<07:02,  3.11it/s]"
     ]
    },
    {
     "name": "stdout",
     "output_type": "stream",
     "text": [
      "✅ Embedded 9606.ENSP00000219476\n",
      "✅ Embedded 9606.ENSP00000219478\n",
      "✅ Embedded 9606.ENSP00000219479\n"
     ]
    },
    {
     "name": "stderr",
     "output_type": "stream",
     "text": [
      "Embedding proteins:  22%|█████████████▏                                             | 377/1690 [01:36<05:34,  3.92it/s]"
     ]
    },
    {
     "name": "stdout",
     "output_type": "stream",
     "text": [
      "✅ Embedded 9606.ENSP00000219596\n",
      "✅ Embedded 9606.ENSP00000219700\n"
     ]
    },
    {
     "name": "stderr",
     "output_type": "stream",
     "text": [
      "Embedding proteins:  22%|█████████████▏                                             | 379/1690 [01:36<04:59,  4.37it/s]"
     ]
    },
    {
     "name": "stdout",
     "output_type": "stream",
     "text": [
      "✅ Embedded 9606.ENSP00000219746\n",
      "✅ Embedded 9606.ENSP00000219782\n"
     ]
    },
    {
     "name": "stderr",
     "output_type": "stream",
     "text": [
      "Embedding proteins:  22%|█████████████▎                                             | 380/1690 [01:37<04:34,  4.77it/s]"
     ]
    },
    {
     "name": "stdout",
     "output_type": "stream",
     "text": [
      "✅ Embedded 9606.ENSP00000219794\n"
     ]
    },
    {
     "name": "stderr",
     "output_type": "stream",
     "text": [
      "Embedding proteins:  23%|█████████████▎                                             | 381/1690 [01:37<04:47,  4.55it/s]"
     ]
    },
    {
     "name": "stdout",
     "output_type": "stream",
     "text": [
      "✅ Embedded 9606.ENSP00000219833\n",
      "✅ Embedded 9606.ENSP00000219919\n"
     ]
    },
    {
     "name": "stderr",
     "output_type": "stream",
     "text": [
      "Embedding proteins:  23%|█████████████▍                                             | 385/1690 [01:37<03:07,  6.96it/s]"
     ]
    },
    {
     "name": "stdout",
     "output_type": "stream",
     "text": [
      "✅ Embedded 9606.ENSP00000220003\n",
      "✅ Embedded 9606.ENSP00000220062\n",
      "✅ Embedded 9606.ENSP00000220166\n",
      "✅ Embedded 9606.ENSP00000220507\n"
     ]
    },
    {
     "name": "stderr",
     "output_type": "stream",
     "text": [
      "Embedding proteins:  23%|█████████████▌                                             | 388/1690 [01:38<03:48,  5.69it/s]"
     ]
    },
    {
     "name": "stdout",
     "output_type": "stream",
     "text": [
      "✅ Embedded 9606.ENSP00000220509\n",
      "✅ Embedded 9606.ENSP00000220584\n"
     ]
    },
    {
     "name": "stderr",
     "output_type": "stream",
     "text": [
      "Embedding proteins:  23%|█████████████▌                                             | 390/1690 [01:38<04:21,  4.98it/s]"
     ]
    },
    {
     "name": "stdout",
     "output_type": "stream",
     "text": [
      "✅ Embedded 9606.ENSP00000220592\n",
      "✅ Embedded 9606.ENSP00000220597\n"
     ]
    },
    {
     "name": "stderr",
     "output_type": "stream",
     "text": [
      "Embedding proteins:  23%|█████████████▋                                             | 391/1690 [01:42<21:30,  1.01it/s]"
     ]
    },
    {
     "name": "stdout",
     "output_type": "stream",
     "text": [
      "✅ Embedded 9606.ENSP00000220616\n"
     ]
    },
    {
     "name": "stderr",
     "output_type": "stream",
     "text": [
      "Embedding proteins:  23%|█████████████▋                                             | 393/1690 [01:42<13:12,  1.64it/s]"
     ]
    },
    {
     "name": "stdout",
     "output_type": "stream",
     "text": [
      "✅ Embedded 9606.ENSP00000220751\n",
      "✅ Embedded 9606.ENSP00000220764\n"
     ]
    },
    {
     "name": "stderr",
     "output_type": "stream",
     "text": [
      "Embedding proteins:  23%|█████████████▊                                             | 394/1690 [01:42<10:06,  2.14it/s]"
     ]
    },
    {
     "name": "stdout",
     "output_type": "stream",
     "text": [
      "✅ Embedded 9606.ENSP00000220772\n"
     ]
    },
    {
     "name": "stderr",
     "output_type": "stream",
     "text": [
      "Embedding proteins:  23%|█████████████▊                                             | 395/1690 [01:42<08:26,  2.56it/s]"
     ]
    },
    {
     "name": "stdout",
     "output_type": "stream",
     "text": [
      "✅ Embedded 9606.ENSP00000220809\n",
      "✅ Embedded 9606.ENSP00000220812\n"
     ]
    },
    {
     "name": "stderr",
     "output_type": "stream",
     "text": [
      "Embedding proteins:  24%|█████████████▉                                             | 399/1690 [01:43<03:54,  5.50it/s]"
     ]
    },
    {
     "name": "stdout",
     "output_type": "stream",
     "text": [
      "✅ Embedded 9606.ENSP00000220849\n",
      "✅ Embedded 9606.ENSP00000220913\n",
      "✅ Embedded 9606.ENSP00000220931\n"
     ]
    },
    {
     "name": "stderr",
     "output_type": "stream",
     "text": [
      "Embedding proteins:  24%|█████████████▉                                             | 401/1690 [01:43<03:32,  6.06it/s]"
     ]
    },
    {
     "name": "stdout",
     "output_type": "stream",
     "text": [
      "✅ Embedded 9606.ENSP00000221132\n",
      "✅ Embedded 9606.ENSP00000221138\n"
     ]
    },
    {
     "name": "stderr",
     "output_type": "stream",
     "text": [
      "Embedding proteins:  24%|██████████████                                             | 402/1690 [01:44<04:49,  4.45it/s]"
     ]
    },
    {
     "name": "stdout",
     "output_type": "stream",
     "text": [
      "✅ Embedded 9606.ENSP00000221166\n",
      "✅ Embedded 9606.ENSP00000221204\n"
     ]
    },
    {
     "name": "stderr",
     "output_type": "stream",
     "text": [
      "Embedding proteins:  24%|██████████████                                             | 404/1690 [01:44<04:27,  4.81it/s]"
     ]
    },
    {
     "name": "stdout",
     "output_type": "stream",
     "text": [
      "✅ Embedded 9606.ENSP00000221315\n"
     ]
    },
    {
     "name": "stderr",
     "output_type": "stream",
     "text": [
      "Embedding proteins:  24%|██████████████▏                                            | 407/1690 [01:44<03:44,  5.73it/s]"
     ]
    },
    {
     "name": "stdout",
     "output_type": "stream",
     "text": [
      "✅ Embedded 9606.ENSP00000221327\n",
      "✅ Embedded 9606.ENSP00000221421\n",
      "✅ Embedded 9606.ENSP00000221444\n"
     ]
    },
    {
     "name": "stderr",
     "output_type": "stream",
     "text": [
      "Embedding proteins:  24%|██████████████▎                                            | 410/1690 [01:45<03:06,  6.87it/s]"
     ]
    },
    {
     "name": "stdout",
     "output_type": "stream",
     "text": [
      "✅ Embedded 9606.ENSP00000221452\n",
      "✅ Embedded 9606.ENSP00000221459\n",
      "✅ Embedded 9606.ENSP00000221476\n"
     ]
    },
    {
     "name": "stderr",
     "output_type": "stream",
     "text": [
      "Embedding proteins:  24%|██████████████▎                                            | 411/1690 [01:45<03:23,  6.28it/s]"
     ]
    },
    {
     "name": "stdout",
     "output_type": "stream",
     "text": [
      "✅ Embedded 9606.ENSP00000221496\n",
      "✅ Embedded 9606.ENSP00000221515\n"
     ]
    },
    {
     "name": "stderr",
     "output_type": "stream",
     "text": [
      "Embedding proteins:  25%|██████████████▍                                            | 415/1690 [01:45<02:38,  8.02it/s]"
     ]
    },
    {
     "name": "stdout",
     "output_type": "stream",
     "text": [
      "✅ Embedded 9606.ENSP00000221543\n",
      "✅ Embedded 9606.ENSP00000221561\n",
      "✅ Embedded 9606.ENSP00000221566\n"
     ]
    },
    {
     "name": "stderr",
     "output_type": "stream",
     "text": [
      "Embedding proteins:  25%|██████████████▌                                            | 417/1690 [01:46<03:02,  6.96it/s]"
     ]
    },
    {
     "name": "stdout",
     "output_type": "stream",
     "text": [
      "✅ Embedded 9606.ENSP00000221665\n",
      "✅ Embedded 9606.ENSP00000221700\n"
     ]
    },
    {
     "name": "stderr",
     "output_type": "stream",
     "text": [
      "Embedding proteins:  25%|██████████████▋                                            | 420/1690 [01:46<02:29,  8.48it/s]"
     ]
    },
    {
     "name": "stdout",
     "output_type": "stream",
     "text": [
      "✅ Embedded 9606.ENSP00000221722\n",
      "✅ Embedded 9606.ENSP00000221740\n",
      "✅ Embedded 9606.ENSP00000221847\n"
     ]
    },
    {
     "name": "stderr",
     "output_type": "stream",
     "text": [
      "Embedding proteins:  25%|██████████████▊                                            | 423/1690 [01:46<02:22,  8.92it/s]"
     ]
    },
    {
     "name": "stdout",
     "output_type": "stream",
     "text": [
      "✅ Embedded 9606.ENSP00000221856\n",
      "✅ Embedded 9606.ENSP00000221859\n",
      "✅ Embedded 9606.ENSP00000221930\n",
      "✅ Embedded 9606.ENSP00000221972\n"
     ]
    },
    {
     "name": "stderr",
     "output_type": "stream",
     "text": [
      "Embedding proteins:  25%|██████████████▊                                            | 425/1690 [01:47<03:24,  6.18it/s]"
     ]
    },
    {
     "name": "stdout",
     "output_type": "stream",
     "text": [
      "✅ Embedded 9606.ENSP00000221980\n"
     ]
    },
    {
     "name": "stderr",
     "output_type": "stream",
     "text": [
      "Embedding proteins:  25%|██████████████▉                                            | 428/1690 [01:47<03:10,  6.63it/s]"
     ]
    },
    {
     "name": "stdout",
     "output_type": "stream",
     "text": [
      "✅ Embedded 9606.ENSP00000221992\n",
      "✅ Embedded 9606.ENSP00000221996\n",
      "✅ Embedded 9606.ENSP00000222002\n"
     ]
    },
    {
     "name": "stderr",
     "output_type": "stream",
     "text": [
      "Embedding proteins:  26%|███████████████                                            | 431/1690 [01:48<02:39,  7.91it/s]"
     ]
    },
    {
     "name": "stdout",
     "output_type": "stream",
     "text": [
      "✅ Embedded 9606.ENSP00000222115\n",
      "✅ Embedded 9606.ENSP00000222120\n",
      "✅ Embedded 9606.ENSP00000222125\n"
     ]
    },
    {
     "name": "stderr",
     "output_type": "stream",
     "text": [
      "Embedding proteins:  26%|███████████████▏                                           | 434/1690 [01:48<02:17,  9.15it/s]"
     ]
    },
    {
     "name": "stdout",
     "output_type": "stream",
     "text": [
      "✅ Embedded 9606.ENSP00000222139\n",
      "✅ Embedded 9606.ENSP00000222157\n",
      "✅ Embedded 9606.ENSP00000222212\n"
     ]
    },
    {
     "name": "stderr",
     "output_type": "stream",
     "text": [
      "Embedding proteins:  26%|███████████████▏                                           | 436/1690 [01:48<02:48,  7.45it/s]"
     ]
    },
    {
     "name": "stdout",
     "output_type": "stream",
     "text": [
      "✅ Embedded 9606.ENSP00000222254\n",
      "✅ Embedded 9606.ENSP00000222256\n",
      "✅ Embedded 9606.ENSP00000222266\n"
     ]
    },
    {
     "name": "stderr",
     "output_type": "stream",
     "text": [
      "Embedding proteins:  26%|███████████████▎                                           | 438/1690 [01:51<11:32,  1.81it/s]"
     ]
    },
    {
     "name": "stdout",
     "output_type": "stream",
     "text": [
      "✅ Embedded 9606.ENSP00000222270\n"
     ]
    },
    {
     "name": "stderr",
     "output_type": "stream",
     "text": [
      "Embedding proteins:  26%|███████████████▍                                           | 441/1690 [01:52<07:28,  2.78it/s]"
     ]
    },
    {
     "name": "stdout",
     "output_type": "stream",
     "text": [
      "✅ Embedded 9606.ENSP00000222271\n",
      "✅ Embedded 9606.ENSP00000222304\n",
      "✅ Embedded 9606.ENSP00000222305\n"
     ]
    },
    {
     "name": "stderr",
     "output_type": "stream",
     "text": [
      "Embedding proteins:  26%|███████████████▍                                           | 442/1690 [01:52<06:34,  3.16it/s]"
     ]
    },
    {
     "name": "stdout",
     "output_type": "stream",
     "text": [
      "✅ Embedded 9606.ENSP00000222308\n"
     ]
    },
    {
     "name": "stderr",
     "output_type": "stream",
     "text": [
      "Embedding proteins:  26%|███████████████▌                                           | 444/1690 [01:52<05:21,  3.87it/s]"
     ]
    },
    {
     "name": "stdout",
     "output_type": "stream",
     "text": [
      "✅ Embedded 9606.ENSP00000222329\n",
      "✅ Embedded 9606.ENSP00000222330\n"
     ]
    },
    {
     "name": "stderr",
     "output_type": "stream",
     "text": [
      "Embedding proteins:  26%|███████████████▌                                           | 445/1690 [01:53<11:00,  1.88it/s]"
     ]
    },
    {
     "name": "stdout",
     "output_type": "stream",
     "text": [
      "✅ Embedded 9606.ENSP00000222345\n",
      "✅ Embedded 9606.ENSP00000222381\n"
     ]
    },
    {
     "name": "stderr",
     "output_type": "stream",
     "text": [
      "Embedding proteins:  26%|███████████████▌                                           | 447/1690 [01:54<08:04,  2.57it/s]"
     ]
    },
    {
     "name": "stdout",
     "output_type": "stream",
     "text": [
      "✅ Embedded 9606.ENSP00000222390\n"
     ]
    },
    {
     "name": "stderr",
     "output_type": "stream",
     "text": [
      "Embedding proteins:  27%|███████████████▋                                           | 450/1690 [01:55<07:53,  2.62it/s]"
     ]
    },
    {
     "name": "stdout",
     "output_type": "stream",
     "text": [
      "✅ Embedded 9606.ENSP00000222399\n",
      "✅ Embedded 9606.ENSP00000222402\n",
      "✅ Embedded 9606.ENSP00000222462\n"
     ]
    },
    {
     "name": "stderr",
     "output_type": "stream",
     "text": [
      "Embedding proteins:  27%|███████████████▊                                           | 453/1690 [01:55<04:58,  4.15it/s]"
     ]
    },
    {
     "name": "stdout",
     "output_type": "stream",
     "text": [
      "✅ Embedded 9606.ENSP00000222543\n",
      "✅ Embedded 9606.ENSP00000222547\n",
      "✅ Embedded 9606.ENSP00000222553\n"
     ]
    },
    {
     "name": "stderr",
     "output_type": "stream",
     "text": [
      "Embedding proteins:  27%|███████████████▉                                           | 455/1690 [01:56<04:53,  4.20it/s]"
     ]
    },
    {
     "name": "stdout",
     "output_type": "stream",
     "text": [
      "✅ Embedded 9606.ENSP00000222573\n",
      "✅ Embedded 9606.ENSP00000222574\n"
     ]
    },
    {
     "name": "stderr",
     "output_type": "stream",
     "text": [
      "Embedding proteins:  27%|███████████████▉                                           | 456/1690 [01:56<05:15,  3.91it/s]"
     ]
    },
    {
     "name": "stdout",
     "output_type": "stream",
     "text": [
      "✅ Embedded 9606.ENSP00000222584\n",
      "✅ Embedded 9606.ENSP00000222598\n"
     ]
    },
    {
     "name": "stderr",
     "output_type": "stream",
     "text": [
      "Embedding proteins:  27%|████████████████                                           | 460/1690 [01:57<03:17,  6.23it/s]"
     ]
    },
    {
     "name": "stdout",
     "output_type": "stream",
     "text": [
      "✅ Embedded 9606.ENSP00000222644\n",
      "✅ Embedded 9606.ENSP00000222693\n",
      "✅ Embedded 9606.ENSP00000222718\n"
     ]
    },
    {
     "name": "stderr",
     "output_type": "stream",
     "text": [
      "Embedding proteins:  27%|████████████████▏                                          | 463/1690 [01:57<02:39,  7.68it/s]"
     ]
    },
    {
     "name": "stdout",
     "output_type": "stream",
     "text": [
      "✅ Embedded 9606.ENSP00000222725\n",
      "✅ Embedded 9606.ENSP00000222726\n",
      "✅ Embedded 9606.ENSP00000222753\n"
     ]
    },
    {
     "name": "stderr",
     "output_type": "stream",
     "text": [
      "Embedding proteins:  27%|████████████████▏                                          | 464/1690 [01:57<02:47,  7.32it/s]"
     ]
    },
    {
     "name": "stdout",
     "output_type": "stream",
     "text": [
      "✅ Embedded 9606.ENSP00000222792\n",
      "✅ Embedded 9606.ENSP00000222812\n"
     ]
    },
    {
     "name": "stderr",
     "output_type": "stream",
     "text": [
      "Embedding proteins:  28%|████████████████▎                                          | 466/1690 [01:58<03:51,  5.28it/s]"
     ]
    },
    {
     "name": "stdout",
     "output_type": "stream",
     "text": [
      "✅ Embedded 9606.ENSP00000222823\n",
      "✅ Embedded 9606.ENSP00000222902\n"
     ]
    },
    {
     "name": "stderr",
     "output_type": "stream",
     "text": [
      "Embedding proteins:  28%|████████████████▎                                          | 468/1690 [01:58<03:18,  6.16it/s]"
     ]
    },
    {
     "name": "stdout",
     "output_type": "stream",
     "text": [
      "✅ Embedded 9606.ENSP00000223023\n"
     ]
    },
    {
     "name": "stderr",
     "output_type": "stream",
     "text": [
      "Embedding proteins:  28%|████████████████▎                                          | 469/1690 [01:58<04:03,  5.02it/s]"
     ]
    },
    {
     "name": "stdout",
     "output_type": "stream",
     "text": [
      "✅ Embedded 9606.ENSP00000223051\n",
      "✅ Embedded 9606.ENSP00000223054\n"
     ]
    },
    {
     "name": "stderr",
     "output_type": "stream",
     "text": [
      "Embedding proteins:  28%|████████████████▍                                          | 472/1690 [01:59<03:17,  6.17it/s]"
     ]
    },
    {
     "name": "stdout",
     "output_type": "stream",
     "text": [
      "✅ Embedded 9606.ENSP00000223061\n",
      "✅ Embedded 9606.ENSP00000223095\n",
      "✅ Embedded 9606.ENSP00000223129\n",
      "✅ Embedded 9606.ENSP00000223136\n"
     ]
    },
    {
     "name": "stderr",
     "output_type": "stream",
     "text": [
      "Embedding proteins:  28%|████████████████▌                                          | 475/1690 [01:59<02:10,  9.32it/s]"
     ]
    },
    {
     "name": "stdout",
     "output_type": "stream",
     "text": [
      "✅ Embedded 9606.ENSP00000223167\n",
      "✅ Embedded 9606.ENSP00000223190\n"
     ]
    },
    {
     "name": "stderr",
     "output_type": "stream",
     "text": [
      "Embedding proteins:  28%|████████████████▋                                          | 479/1690 [02:00<02:51,  7.04it/s]"
     ]
    },
    {
     "name": "stdout",
     "output_type": "stream",
     "text": [
      "✅ Embedded 9606.ENSP00000223210\n",
      "✅ Embedded 9606.ENSP00000223324\n",
      "✅ Embedded 9606.ENSP00000223364\n"
     ]
    },
    {
     "name": "stderr",
     "output_type": "stream",
     "text": [
      "Embedding proteins:  28%|████████████████▊                                          | 481/1690 [02:00<02:34,  7.81it/s]"
     ]
    },
    {
     "name": "stdout",
     "output_type": "stream",
     "text": [
      "✅ Embedded 9606.ENSP00000223366\n",
      "✅ Embedded 9606.ENSP00000223369\n",
      "✅ Embedded 9606.ENSP00000223398\n"
     ]
    },
    {
     "name": "stderr",
     "output_type": "stream",
     "text": [
      "Embedding proteins:  29%|████████████████▊                                          | 483/1690 [02:01<04:06,  4.89it/s]"
     ]
    },
    {
     "name": "stdout",
     "output_type": "stream",
     "text": [
      "✅ Embedded 9606.ENSP00000223428\n",
      "✅ Embedded 9606.ENSP00000223459\n"
     ]
    },
    {
     "name": "stderr",
     "output_type": "stream",
     "text": [
      "Embedding proteins:  29%|████████████████▉                                          | 485/1690 [02:02<06:39,  3.02it/s]"
     ]
    },
    {
     "name": "stdout",
     "output_type": "stream",
     "text": [
      "✅ Embedded 9606.ENSP00000223642\n"
     ]
    },
    {
     "name": "stderr",
     "output_type": "stream",
     "text": [
      "Embedding proteins:  29%|████████████████▉                                          | 486/1690 [02:04<13:59,  1.43it/s]"
     ]
    },
    {
     "name": "stdout",
     "output_type": "stream",
     "text": [
      "✅ Embedded 9606.ENSP00000224140\n",
      "✅ Embedded 9606.ENSP00000224181\n"
     ]
    },
    {
     "name": "stderr",
     "output_type": "stream",
     "text": [
      "Embedding proteins:  29%|█████████████████                                          | 489/1690 [02:05<08:42,  2.30it/s]"
     ]
    },
    {
     "name": "stdout",
     "output_type": "stream",
     "text": [
      "✅ Embedded 9606.ENSP00000224237\n",
      "✅ Embedded 9606.ENSP00000224337\n"
     ]
    },
    {
     "name": "stderr",
     "output_type": "stream",
     "text": [
      "Embedding proteins:  29%|█████████████████▏                                         | 491/1690 [02:05<06:34,  3.04it/s]"
     ]
    },
    {
     "name": "stdout",
     "output_type": "stream",
     "text": [
      "✅ Embedded 9606.ENSP00000224356\n",
      "✅ Embedded 9606.ENSP00000224605\n"
     ]
    },
    {
     "name": "stderr",
     "output_type": "stream",
     "text": [
      "Embedding proteins:  29%|█████████████████▏                                         | 493/1690 [02:05<04:56,  4.03it/s]"
     ]
    },
    {
     "name": "stdout",
     "output_type": "stream",
     "text": [
      "✅ Embedded 9606.ENSP00000224764\n",
      "✅ Embedded 9606.ENSP00000224784\n"
     ]
    },
    {
     "name": "stderr",
     "output_type": "stream",
     "text": [
      "Embedding proteins:  29%|█████████████████▎                                         | 495/1690 [02:05<03:26,  5.78it/s]"
     ]
    },
    {
     "name": "stdout",
     "output_type": "stream",
     "text": [
      "✅ Embedded 9606.ENSP00000224950\n",
      "✅ Embedded 9606.ENSP00000225174\n",
      "✅ Embedded 9606.ENSP00000225245\n"
     ]
    },
    {
     "name": "stderr",
     "output_type": "stream",
     "text": [
      "Embedding proteins:  30%|█████████████████▍                                         | 499/1690 [02:06<02:44,  7.24it/s]"
     ]
    },
    {
     "name": "stdout",
     "output_type": "stream",
     "text": [
      "✅ Embedded 9606.ENSP00000225275\n",
      "✅ Embedded 9606.ENSP00000225474\n",
      "✅ Embedded 9606.ENSP00000225512\n"
     ]
    },
    {
     "name": "stderr",
     "output_type": "stream",
     "text": [
      "Embedding proteins:  30%|█████████████████▍                                         | 500/1690 [02:06<02:43,  7.29it/s]"
     ]
    },
    {
     "name": "stdout",
     "output_type": "stream",
     "text": [
      "✅ Embedded 9606.ENSP00000225538\n",
      "✅ Embedded 9606.ENSP00000225567\n"
     ]
    },
    {
     "name": "stderr",
     "output_type": "stream",
     "text": [
      "Embedding proteins:  30%|█████████████████▋                                         | 505/1690 [02:06<01:53, 10.48it/s]"
     ]
    },
    {
     "name": "stdout",
     "output_type": "stream",
     "text": [
      "✅ Embedded 9606.ENSP00000225577\n",
      "✅ Embedded 9606.ENSP00000225603\n",
      "✅ Embedded 9606.ENSP00000225655\n",
      "✅ Embedded 9606.ENSP00000225688\n"
     ]
    },
    {
     "name": "stderr",
     "output_type": "stream",
     "text": [
      "Embedding proteins:  30%|█████████████████▋                                         | 507/1690 [02:07<01:43, 11.40it/s]"
     ]
    },
    {
     "name": "stdout",
     "output_type": "stream",
     "text": [
      "✅ Embedded 9606.ENSP00000225698\n",
      "✅ Embedded 9606.ENSP00000225728\n",
      "✅ Embedded 9606.ENSP00000225792\n"
     ]
    },
    {
     "name": "stderr",
     "output_type": "stream",
     "text": [
      "Embedding proteins:  30%|█████████████████▊                                         | 509/1690 [02:07<02:33,  7.70it/s]"
     ]
    },
    {
     "name": "stdout",
     "output_type": "stream",
     "text": [
      "✅ Embedded 9606.ENSP00000225823\n",
      "✅ Embedded 9606.ENSP00000225831\n",
      "✅ Embedded 9606.ENSP00000225842\n",
      "✅ Embedded 9606.ENSP00000225844\n"
     ]
    },
    {
     "name": "stderr",
     "output_type": "stream",
     "text": [
      "Embedding proteins:  30%|█████████████████▉                                         | 513/1690 [02:07<02:00,  9.81it/s]"
     ]
    },
    {
     "name": "stdout",
     "output_type": "stream",
     "text": [
      "✅ Embedded 9606.ENSP00000225893\n"
     ]
    },
    {
     "name": "stderr",
     "output_type": "stream",
     "text": [
      "Embedding proteins:  30%|█████████████████▉                                         | 515/1690 [02:08<02:35,  7.58it/s]"
     ]
    },
    {
     "name": "stdout",
     "output_type": "stream",
     "text": [
      "✅ Embedded 9606.ENSP00000225916\n",
      "✅ Embedded 9606.ENSP00000225941\n"
     ]
    },
    {
     "name": "stderr",
     "output_type": "stream",
     "text": [
      "Embedding proteins:  31%|██████████████████                                         | 516/1690 [02:09<04:39,  4.20it/s]"
     ]
    },
    {
     "name": "stdout",
     "output_type": "stream",
     "text": [
      "✅ Embedded 9606.ENSP00000225964\n",
      "✅ Embedded 9606.ENSP00000225969\n"
     ]
    },
    {
     "name": "stderr",
     "output_type": "stream",
     "text": [
      "Embedding proteins:  31%|██████████████████▏                                        | 520/1690 [02:09<04:04,  4.79it/s]"
     ]
    },
    {
     "name": "stdout",
     "output_type": "stream",
     "text": [
      "✅ Embedded 9606.ENSP00000225983\n",
      "✅ Embedded 9606.ENSP00000226004\n",
      "✅ Embedded 9606.ENSP00000226021\n"
     ]
    },
    {
     "name": "stderr",
     "output_type": "stream",
     "text": [
      "Embedding proteins:  31%|██████████████████▏                                        | 522/1690 [02:10<03:21,  5.79it/s]"
     ]
    },
    {
     "name": "stdout",
     "output_type": "stream",
     "text": [
      "✅ Embedded 9606.ENSP00000226067\n",
      "✅ Embedded 9606.ENSP00000226091\n",
      "✅ Embedded 9606.ENSP00000226105\n"
     ]
    },
    {
     "name": "stderr",
     "output_type": "stream",
     "text": [
      "Embedding proteins:  31%|██████████████████▎                                        | 524/1690 [02:10<02:33,  7.61it/s]"
     ]
    },
    {
     "name": "stdout",
     "output_type": "stream",
     "text": [
      "✅ Embedded 9606.ENSP00000226193\n",
      "✅ Embedded 9606.ENSP00000226207\n"
     ]
    },
    {
     "name": "stderr",
     "output_type": "stream",
     "text": [
      "Embedding proteins:  31%|██████████████████▍                                        | 527/1690 [02:13<09:16,  2.09it/s]"
     ]
    },
    {
     "name": "stdout",
     "output_type": "stream",
     "text": [
      "✅ Embedded 9606.ENSP00000226209\n",
      "✅ Embedded 9606.ENSP00000226218\n"
     ]
    },
    {
     "name": "stderr",
     "output_type": "stream",
     "text": [
      "Embedding proteins:  31%|██████████████████▌                                        | 530/1690 [02:13<05:50,  3.31it/s]"
     ]
    },
    {
     "name": "stdout",
     "output_type": "stream",
     "text": [
      "✅ Embedded 9606.ENSP00000226247\n",
      "✅ Embedded 9606.ENSP00000226279\n",
      "✅ Embedded 9606.ENSP00000226284\n"
     ]
    },
    {
     "name": "stderr",
     "output_type": "stream",
     "text": [
      "Embedding proteins:  31%|██████████████████▌                                        | 532/1690 [02:13<04:12,  4.58it/s]"
     ]
    },
    {
     "name": "stdout",
     "output_type": "stream",
     "text": [
      "✅ Embedded 9606.ENSP00000226317\n",
      "✅ Embedded 9606.ENSP00000226382\n",
      "✅ Embedded 9606.ENSP00000226413\n"
     ]
    },
    {
     "name": "stderr",
     "output_type": "stream",
     "text": [
      "Embedding proteins:  32%|██████████████████▋                                        | 534/1690 [02:13<03:20,  5.75it/s]"
     ]
    },
    {
     "name": "stdout",
     "output_type": "stream",
     "text": [
      "✅ Embedded 9606.ENSP00000226444\n",
      "✅ Embedded 9606.ENSP00000226524\n"
     ]
    },
    {
     "name": "stderr",
     "output_type": "stream",
     "text": [
      "Embedding proteins:  32%|██████████████████▊                                        | 538/1690 [02:14<02:57,  6.50it/s]"
     ]
    },
    {
     "name": "stdout",
     "output_type": "stream",
     "text": [
      "✅ Embedded 9606.ENSP00000226574\n",
      "✅ Embedded 9606.ENSP00000226730\n",
      "✅ Embedded 9606.ENSP00000227155\n"
     ]
    },
    {
     "name": "stderr",
     "output_type": "stream",
     "text": [
      "Embedding proteins:  32%|██████████████████▊                                        | 540/1690 [02:14<02:47,  6.88it/s]"
     ]
    },
    {
     "name": "stdout",
     "output_type": "stream",
     "text": [
      "✅ Embedded 9606.ENSP00000227163\n",
      "✅ Embedded 9606.ENSP00000227266\n"
     ]
    },
    {
     "name": "stderr",
     "output_type": "stream",
     "text": [
      "Embedding proteins:  32%|██████████████████▉                                        | 541/1690 [02:14<03:06,  6.16it/s]"
     ]
    },
    {
     "name": "stdout",
     "output_type": "stream",
     "text": [
      "✅ Embedded 9606.ENSP00000227378\n"
     ]
    },
    {
     "name": "stderr",
     "output_type": "stream",
     "text": [
      "Embedding proteins:  32%|██████████████████▉                                        | 544/1690 [02:15<02:37,  7.30it/s]"
     ]
    },
    {
     "name": "stdout",
     "output_type": "stream",
     "text": [
      "✅ Embedded 9606.ENSP00000227451\n",
      "✅ Embedded 9606.ENSP00000227507\n",
      "✅ Embedded 9606.ENSP00000227618\n"
     ]
    },
    {
     "name": "stderr",
     "output_type": "stream",
     "text": [
      "Embedding proteins:  32%|███████████████████                                        | 545/1690 [02:15<02:32,  7.50it/s]"
     ]
    },
    {
     "name": "stdout",
     "output_type": "stream",
     "text": [
      "✅ Embedded 9606.ENSP00000227665\n",
      "✅ Embedded 9606.ENSP00000227667\n"
     ]
    },
    {
     "name": "stderr",
     "output_type": "stream",
     "text": [
      "Embedding proteins:  32%|███████████████████                                        | 547/1690 [02:15<02:24,  7.89it/s]"
     ]
    },
    {
     "name": "stdout",
     "output_type": "stream",
     "text": [
      "✅ Embedded 9606.ENSP00000227752\n"
     ]
    },
    {
     "name": "stderr",
     "output_type": "stream",
     "text": [
      "Embedding proteins:  32%|███████████████████▏                                       | 549/1690 [02:15<02:41,  7.07it/s]"
     ]
    },
    {
     "name": "stdout",
     "output_type": "stream",
     "text": [
      "✅ Embedded 9606.ENSP00000227758\n",
      "✅ Embedded 9606.ENSP00000228251\n",
      "✅ Embedded 9606.ENSP00000228280\n"
     ]
    },
    {
     "name": "stderr",
     "output_type": "stream",
     "text": [
      "Embedding proteins:  33%|███████████████████▏                                       | 551/1690 [02:16<03:42,  5.11it/s]"
     ]
    },
    {
     "name": "stdout",
     "output_type": "stream",
     "text": [
      "✅ Embedded 9606.ENSP00000228289\n"
     ]
    },
    {
     "name": "stderr",
     "output_type": "stream",
     "text": [
      "Embedding proteins:  33%|███████████████████▎                                       | 552/1690 [02:16<03:49,  4.96it/s]"
     ]
    },
    {
     "name": "stdout",
     "output_type": "stream",
     "text": [
      "✅ Embedded 9606.ENSP00000228307\n"
     ]
    },
    {
     "name": "stderr",
     "output_type": "stream",
     "text": [
      "Embedding proteins:  33%|███████████████████▎                                       | 553/1690 [02:17<05:42,  3.32it/s]"
     ]
    },
    {
     "name": "stdout",
     "output_type": "stream",
     "text": [
      "✅ Embedded 9606.ENSP00000228347\n",
      "✅ Embedded 9606.ENSP00000228434\n"
     ]
    },
    {
     "name": "stderr",
     "output_type": "stream",
     "text": [
      "Embedding proteins:  33%|███████████████████▍                                       | 556/1690 [02:17<04:25,  4.26it/s]"
     ]
    },
    {
     "name": "stdout",
     "output_type": "stream",
     "text": [
      "✅ Embedded 9606.ENSP00000228437\n",
      "✅ Embedded 9606.ENSP00000228463\n"
     ]
    },
    {
     "name": "stderr",
     "output_type": "stream",
     "text": [
      "Embedding proteins:  33%|███████████████████▍                                       | 557/1690 [02:18<03:55,  4.82it/s]"
     ]
    },
    {
     "name": "stdout",
     "output_type": "stream",
     "text": [
      "✅ Embedded 9606.ENSP00000228510\n",
      "✅ Embedded 9606.ENSP00000228534\n"
     ]
    },
    {
     "name": "stderr",
     "output_type": "stream",
     "text": [
      "Embedding proteins:  33%|███████████████████▌                                       | 561/1690 [02:18<02:30,  7.49it/s]"
     ]
    },
    {
     "name": "stdout",
     "output_type": "stream",
     "text": [
      "✅ Embedded 9606.ENSP00000228606\n",
      "✅ Embedded 9606.ENSP00000228641\n",
      "✅ Embedded 9606.ENSP00000228644\n"
     ]
    },
    {
     "name": "stderr",
     "output_type": "stream",
     "text": [
      "Embedding proteins:  33%|███████████████████▋                                       | 563/1690 [02:19<03:40,  5.11it/s]"
     ]
    },
    {
     "name": "stdout",
     "output_type": "stream",
     "text": [
      "✅ Embedded 9606.ENSP00000228682\n",
      "✅ Embedded 9606.ENSP00000228741\n",
      "✅ Embedded 9606.ENSP00000228825\n"
     ]
    },
    {
     "name": "stderr",
     "output_type": "stream",
     "text": [
      "Embedding proteins:  33%|███████████████████▋                                       | 565/1690 [02:19<02:37,  7.15it/s]"
     ]
    },
    {
     "name": "stdout",
     "output_type": "stream",
     "text": [
      "✅ Embedded 9606.ENSP00000228837\n",
      "✅ Embedded 9606.ENSP00000228841\n"
     ]
    },
    {
     "name": "stderr",
     "output_type": "stream",
     "text": [
      "Embedding proteins:  34%|███████████████████▊                                       | 567/1690 [02:19<02:47,  6.72it/s]"
     ]
    },
    {
     "name": "stdout",
     "output_type": "stream",
     "text": [
      "✅ Embedded 9606.ENSP00000228862\n",
      "✅ Embedded 9606.ENSP00000228872\n"
     ]
    },
    {
     "name": "stderr",
     "output_type": "stream",
     "text": [
      "Embedding proteins:  34%|███████████████████▊                                       | 569/1690 [02:19<02:28,  7.53it/s]"
     ]
    },
    {
     "name": "stdout",
     "output_type": "stream",
     "text": [
      "✅ Embedded 9606.ENSP00000228918\n"
     ]
    },
    {
     "name": "stderr",
     "output_type": "stream",
     "text": [
      "Embedding proteins:  34%|███████████████████▉                                       | 572/1690 [02:20<03:08,  5.94it/s]"
     ]
    },
    {
     "name": "stdout",
     "output_type": "stream",
     "text": [
      "✅ Embedded 9606.ENSP00000228928\n",
      "✅ Embedded 9606.ENSP00000228945\n",
      "✅ Embedded 9606.ENSP00000229002\n"
     ]
    },
    {
     "name": "stderr",
     "output_type": "stream",
     "text": [
      "Embedding proteins:  34%|████████████████████                                       | 573/1690 [02:20<03:25,  5.44it/s]"
     ]
    },
    {
     "name": "stdout",
     "output_type": "stream",
     "text": [
      "✅ Embedded 9606.ENSP00000229030\n",
      "✅ Embedded 9606.ENSP00000229135\n"
     ]
    },
    {
     "name": "stderr",
     "output_type": "stream",
     "text": [
      "Embedding proteins:  34%|████████████████████                                       | 576/1690 [02:21<03:37,  5.12it/s]"
     ]
    },
    {
     "name": "stdout",
     "output_type": "stream",
     "text": [
      "✅ Embedded 9606.ENSP00000229179\n",
      "✅ Embedded 9606.ENSP00000229239\n"
     ]
    },
    {
     "name": "stderr",
     "output_type": "stream",
     "text": [
      "Embedding proteins:  34%|████████████████████▏                                      | 578/1690 [02:21<03:00,  6.16it/s]"
     ]
    },
    {
     "name": "stdout",
     "output_type": "stream",
     "text": [
      "✅ Embedded 9606.ENSP00000229251\n",
      "✅ Embedded 9606.ENSP00000229264\n"
     ]
    },
    {
     "name": "stderr",
     "output_type": "stream",
     "text": [
      "Embedding proteins:  34%|████████████████████▎                                      | 581/1690 [02:21<02:31,  7.32it/s]"
     ]
    },
    {
     "name": "stdout",
     "output_type": "stream",
     "text": [
      "✅ Embedded 9606.ENSP00000229277\n",
      "✅ Embedded 9606.ENSP00000229304\n",
      "✅ Embedded 9606.ENSP00000229307\n"
     ]
    },
    {
     "name": "stderr",
     "output_type": "stream",
     "text": [
      "Embedding proteins:  34%|████████████████████▎                                      | 582/1690 [02:22<02:26,  7.54it/s]"
     ]
    },
    {
     "name": "stdout",
     "output_type": "stream",
     "text": [
      "✅ Embedded 9606.ENSP00000229319\n",
      "✅ Embedded 9606.ENSP00000229328\n"
     ]
    },
    {
     "name": "stderr",
     "output_type": "stream",
     "text": [
      "Embedding proteins:  35%|████████████████████▍                                      | 586/1690 [02:22<02:32,  7.23it/s]"
     ]
    },
    {
     "name": "stdout",
     "output_type": "stream",
     "text": [
      "✅ Embedded 9606.ENSP00000229330\n",
      "✅ Embedded 9606.ENSP00000229332\n",
      "✅ Embedded 9606.ENSP00000229335\n",
      "✅ Embedded 9606.ENSP00000229390\n"
     ]
    },
    {
     "name": "stderr",
     "output_type": "stream",
     "text": [
      "Embedding proteins:  35%|████████████████████▌                                      | 590/1690 [02:23<02:15,  8.12it/s]"
     ]
    },
    {
     "name": "stdout",
     "output_type": "stream",
     "text": [
      "✅ Embedded 9606.ENSP00000229416\n",
      "✅ Embedded 9606.ENSP00000229595\n",
      "✅ Embedded 9606.ENSP00000229708\n"
     ]
    },
    {
     "name": "stderr",
     "output_type": "stream",
     "text": [
      "Embedding proteins:  35%|████████████████████▋                                      | 592/1690 [02:23<02:33,  7.13it/s]"
     ]
    },
    {
     "name": "stdout",
     "output_type": "stream",
     "text": [
      "✅ Embedded 9606.ENSP00000229758\n",
      "✅ Embedded 9606.ENSP00000229769\n"
     ]
    },
    {
     "name": "stderr",
     "output_type": "stream",
     "text": [
      "Embedding proteins:  35%|████████████████████▋                                      | 594/1690 [02:23<02:36,  7.02it/s]"
     ]
    },
    {
     "name": "stdout",
     "output_type": "stream",
     "text": [
      "✅ Embedded 9606.ENSP00000229794\n",
      "✅ Embedded 9606.ENSP00000229812\n"
     ]
    },
    {
     "name": "stderr",
     "output_type": "stream",
     "text": [
      "Embedding proteins:  35%|████████████████████▊                                      | 596/1690 [02:23<02:00,  9.09it/s]"
     ]
    },
    {
     "name": "stdout",
     "output_type": "stream",
     "text": [
      "✅ Embedded 9606.ENSP00000229824\n",
      "✅ Embedded 9606.ENSP00000229829\n"
     ]
    },
    {
     "name": "stderr",
     "output_type": "stream",
     "text": [
      "Embedding proteins:  35%|████████████████████▉                                      | 598/1690 [02:24<02:59,  6.07it/s]"
     ]
    },
    {
     "name": "stdout",
     "output_type": "stream",
     "text": [
      "✅ Embedded 9606.ENSP00000229854\n",
      "✅ Embedded 9606.ENSP00000229955\n"
     ]
    },
    {
     "name": "stderr",
     "output_type": "stream",
     "text": [
      "Embedding proteins:  35%|████████████████████▉                                      | 599/1690 [02:24<03:24,  5.34it/s]"
     ]
    },
    {
     "name": "stdout",
     "output_type": "stream",
     "text": [
      "✅ Embedded 9606.ENSP00000229971\n"
     ]
    },
    {
     "name": "stderr",
     "output_type": "stream",
     "text": [
      "Embedding proteins:  36%|█████████████████████                                      | 602/1690 [02:25<02:50,  6.39it/s]"
     ]
    },
    {
     "name": "stdout",
     "output_type": "stream",
     "text": [
      "✅ Embedded 9606.ENSP00000230036\n",
      "✅ Embedded 9606.ENSP00000230050\n",
      "✅ Embedded 9606.ENSP00000230056\n"
     ]
    },
    {
     "name": "stderr",
     "output_type": "stream",
     "text": [
      "Embedding proteins:  36%|█████████████████████                                      | 604/1690 [02:25<03:19,  5.43it/s]"
     ]
    },
    {
     "name": "stdout",
     "output_type": "stream",
     "text": [
      "✅ Embedded 9606.ENSP00000230122\n",
      "✅ Embedded 9606.ENSP00000230323\n"
     ]
    },
    {
     "name": "stderr",
     "output_type": "stream",
     "text": [
      "Embedding proteins:  36%|█████████████████████                                      | 605/1690 [02:25<02:59,  6.03it/s]"
     ]
    },
    {
     "name": "stdout",
     "output_type": "stream",
     "text": [
      "✅ Embedded 9606.ENSP00000230354\n",
      "✅ Embedded 9606.ENSP00000230361\n"
     ]
    },
    {
     "name": "stderr",
     "output_type": "stream",
     "text": [
      "Embedding proteins:  36%|█████████████████████▏                                     | 607/1690 [02:26<04:14,  4.26it/s]"
     ]
    },
    {
     "name": "stdout",
     "output_type": "stream",
     "text": [
      "✅ Embedded 9606.ENSP00000230419\n"
     ]
    },
    {
     "name": "stderr",
     "output_type": "stream",
     "text": [
      "Embedding proteins:  36%|█████████████████████▏                                     | 608/1690 [02:26<05:07,  3.52it/s]"
     ]
    },
    {
     "name": "stdout",
     "output_type": "stream",
     "text": [
      "✅ Embedded 9606.ENSP00000230449\n"
     ]
    },
    {
     "name": "stderr",
     "output_type": "stream",
     "text": [
      "Embedding proteins:  36%|█████████████████████▎                                     | 610/1690 [02:28<07:56,  2.27it/s]"
     ]
    },
    {
     "name": "stdout",
     "output_type": "stream",
     "text": [
      "✅ Embedded 9606.ENSP00000230538\n",
      "✅ Embedded 9606.ENSP00000230658\n"
     ]
    },
    {
     "name": "stderr",
     "output_type": "stream",
     "text": [
      "Embedding proteins:  36%|█████████████████████▎                                     | 611/1690 [02:28<06:43,  2.67it/s]"
     ]
    },
    {
     "name": "stdout",
     "output_type": "stream",
     "text": [
      "✅ Embedded 9606.ENSP00000230771\n"
     ]
    },
    {
     "name": "stderr",
     "output_type": "stream",
     "text": [
      "Embedding proteins:  36%|█████████████████████▎                                     | 612/1690 [02:28<06:05,  2.95it/s]"
     ]
    },
    {
     "name": "stdout",
     "output_type": "stream",
     "text": [
      "✅ Embedded 9606.ENSP00000230882\n",
      "✅ Embedded 9606.ENSP00000230895\n",
      "✅ Embedded 9606.ENSP00000230990\n"
     ]
    },
    {
     "name": "stderr",
     "output_type": "stream",
     "text": [
      "Embedding proteins:  36%|█████████████████████▍                                     | 615/1690 [02:29<04:09,  4.30it/s]"
     ]
    },
    {
     "name": "stdout",
     "output_type": "stream",
     "text": [
      "✅ Embedded 9606.ENSP00000231021\n"
     ]
    },
    {
     "name": "stderr",
     "output_type": "stream",
     "text": [
      "Embedding proteins:  36%|█████████████████████▌                                     | 616/1690 [02:29<04:35,  3.90it/s]"
     ]
    },
    {
     "name": "stdout",
     "output_type": "stream",
     "text": [
      "✅ Embedded 9606.ENSP00000231130\n"
     ]
    },
    {
     "name": "stderr",
     "output_type": "stream",
     "text": [
      "Embedding proteins:  37%|█████████████████████▌                                     | 617/1690 [02:29<04:54,  3.65it/s]"
     ]
    },
    {
     "name": "stdout",
     "output_type": "stream",
     "text": [
      "✅ Embedded 9606.ENSP00000231134\n"
     ]
    },
    {
     "name": "stderr",
     "output_type": "stream",
     "text": [
      "Embedding proteins:  37%|█████████████████████▌                                     | 618/1690 [02:30<05:15,  3.39it/s]"
     ]
    },
    {
     "name": "stdout",
     "output_type": "stream",
     "text": [
      "✅ Embedded 9606.ENSP00000231136\n"
     ]
    },
    {
     "name": "stderr",
     "output_type": "stream",
     "text": [
      "Embedding proteins:  37%|█████████████████████▌                                     | 619/1690 [02:30<05:31,  3.23it/s]"
     ]
    },
    {
     "name": "stdout",
     "output_type": "stream",
     "text": [
      "✅ Embedded 9606.ENSP00000231137\n"
     ]
    },
    {
     "name": "stderr",
     "output_type": "stream",
     "text": [
      "Embedding proteins:  37%|█████████████████████▋                                     | 620/1690 [02:30<05:48,  3.07it/s]"
     ]
    },
    {
     "name": "stdout",
     "output_type": "stream",
     "text": [
      "✅ Embedded 9606.ENSP00000231173\n",
      "✅ Embedded 9606.ENSP00000231228\n"
     ]
    },
    {
     "name": "stderr",
     "output_type": "stream",
     "text": [
      "Embedding proteins:  37%|█████████████████████▋                                     | 622/1690 [02:31<05:40,  3.13it/s]"
     ]
    },
    {
     "name": "stdout",
     "output_type": "stream",
     "text": [
      "✅ Embedded 9606.ENSP00000231368\n",
      "✅ Embedded 9606.ENSP00000231449\n",
      "✅ Embedded 9606.ENSP00000231454\n"
     ]
    },
    {
     "name": "stderr",
     "output_type": "stream",
     "text": [
      "Embedding proteins:  37%|█████████████████████▊                                     | 625/1690 [02:32<04:51,  3.65it/s]"
     ]
    },
    {
     "name": "stdout",
     "output_type": "stream",
     "text": [
      "✅ Embedded 9606.ENSP00000231484\n",
      "✅ Embedded 9606.ENSP00000231487\n"
     ]
    },
    {
     "name": "stderr",
     "output_type": "stream",
     "text": [
      "Embedding proteins:  37%|█████████████████████▉                                     | 627/1690 [02:33<05:54,  2.99it/s]"
     ]
    },
    {
     "name": "stdout",
     "output_type": "stream",
     "text": [
      "✅ Embedded 9606.ENSP00000231498\n"
     ]
    },
    {
     "name": "stderr",
     "output_type": "stream",
     "text": [
      "Embedding proteins:  37%|█████████████████████▉                                     | 629/1690 [02:33<05:20,  3.31it/s]"
     ]
    },
    {
     "name": "stdout",
     "output_type": "stream",
     "text": [
      "✅ Embedded 9606.ENSP00000231509\n",
      "✅ Embedded 9606.ENSP00000231524\n"
     ]
    },
    {
     "name": "stderr",
     "output_type": "stream",
     "text": [
      "Embedding proteins:  37%|█████████████████████▉                                     | 630/1690 [02:33<05:11,  3.41it/s]"
     ]
    },
    {
     "name": "stdout",
     "output_type": "stream",
     "text": [
      "✅ Embedded 9606.ENSP00000231572\n",
      "✅ Embedded 9606.ENSP00000231668\n"
     ]
    },
    {
     "name": "stderr",
     "output_type": "stream",
     "text": [
      "Embedding proteins:  37%|██████████████████████                                     | 632/1690 [02:34<04:30,  3.92it/s]"
     ]
    },
    {
     "name": "stdout",
     "output_type": "stream",
     "text": [
      "✅ Embedded 9606.ENSP00000231790\n"
     ]
    },
    {
     "name": "stderr",
     "output_type": "stream",
     "text": [
      "Embedding proteins:  37%|██████████████████████                                     | 633/1690 [02:34<04:34,  3.85it/s]"
     ]
    },
    {
     "name": "stdout",
     "output_type": "stream",
     "text": [
      "✅ Embedded 9606.ENSP00000232014\n",
      "✅ Embedded 9606.ENSP00000232217\n",
      "✅ Embedded 9606.ENSP00000232219\n"
     ]
    },
    {
     "name": "stderr",
     "output_type": "stream",
     "text": [
      "Embedding proteins:  38%|██████████████████████▎                                    | 638/1690 [02:35<02:30,  6.98it/s]"
     ]
    },
    {
     "name": "stdout",
     "output_type": "stream",
     "text": [
      "✅ Embedded 9606.ENSP00000232375\n",
      "✅ Embedded 9606.ENSP00000232424\n",
      "✅ Embedded 9606.ENSP00000232461\n"
     ]
    },
    {
     "name": "stderr",
     "output_type": "stream",
     "text": [
      "Embedding proteins:  38%|██████████████████████▎                                    | 639/1690 [02:35<02:24,  7.26it/s]"
     ]
    },
    {
     "name": "stdout",
     "output_type": "stream",
     "text": [
      "✅ Embedded 9606.ENSP00000232501\n",
      "✅ Embedded 9606.ENSP00000232564\n"
     ]
    },
    {
     "name": "stderr",
     "output_type": "stream",
     "text": [
      "Embedding proteins:  38%|██████████████████████▍                                    | 641/1690 [02:35<02:28,  7.04it/s]"
     ]
    },
    {
     "name": "stdout",
     "output_type": "stream",
     "text": [
      "✅ Embedded 9606.ENSP00000232607\n"
     ]
    },
    {
     "name": "stderr",
     "output_type": "stream",
     "text": [
      "Embedding proteins:  38%|██████████████████████▍                                    | 642/1690 [02:35<03:00,  5.80it/s]"
     ]
    },
    {
     "name": "stdout",
     "output_type": "stream",
     "text": [
      "✅ Embedded 9606.ENSP00000232974\n",
      "✅ Embedded 9606.ENSP00000232975\n"
     ]
    },
    {
     "name": "stderr",
     "output_type": "stream",
     "text": [
      "Embedding proteins:  38%|██████████████████████▌                                    | 645/1690 [02:36<04:14,  4.11it/s]"
     ]
    },
    {
     "name": "stdout",
     "output_type": "stream",
     "text": [
      "✅ Embedded 9606.ENSP00000232978\n",
      "✅ Embedded 9606.ENSP00000233055\n"
     ]
    },
    {
     "name": "stderr",
     "output_type": "stream",
     "text": [
      "Embedding proteins:  38%|██████████████████████▌                                    | 646/1690 [02:36<03:59,  4.36it/s]"
     ]
    },
    {
     "name": "stdout",
     "output_type": "stream",
     "text": [
      "✅ Embedded 9606.ENSP00000233057\n"
     ]
    },
    {
     "name": "stderr",
     "output_type": "stream",
     "text": [
      "Embedding proteins:  38%|██████████████████████▌                                    | 647/1690 [02:37<04:13,  4.12it/s]"
     ]
    },
    {
     "name": "stdout",
     "output_type": "stream",
     "text": [
      "✅ Embedded 9606.ENSP00000233084\n",
      "✅ Embedded 9606.ENSP00000233121\n"
     ]
    },
    {
     "name": "stderr",
     "output_type": "stream",
     "text": [
      "Embedding proteins:  38%|██████████████████████▋                                    | 650/1690 [02:37<03:41,  4.69it/s]"
     ]
    },
    {
     "name": "stdout",
     "output_type": "stream",
     "text": [
      "✅ Embedded 9606.ENSP00000233146\n",
      "✅ Embedded 9606.ENSP00000233154\n"
     ]
    },
    {
     "name": "stderr",
     "output_type": "stream",
     "text": [
      "Embedding proteins:  39%|██████████████████████▊                                    | 652/1690 [02:38<03:11,  5.41it/s]"
     ]
    },
    {
     "name": "stdout",
     "output_type": "stream",
     "text": [
      "✅ Embedded 9606.ENSP00000233156\n",
      "✅ Embedded 9606.ENSP00000233202\n"
     ]
    },
    {
     "name": "stderr",
     "output_type": "stream",
     "text": [
      "Embedding proteins:  39%|██████████████████████▊                                    | 654/1690 [02:46<27:03,  1.57s/it]"
     ]
    },
    {
     "name": "stdout",
     "output_type": "stream",
     "text": [
      "✅ Embedded 9606.ENSP00000233242\n",
      "✅ Embedded 9606.ENSP00000233331\n"
     ]
    },
    {
     "name": "stderr",
     "output_type": "stream",
     "text": [
      "Embedding proteins:  39%|██████████████████████▊                                    | 655/1690 [02:46<20:46,  1.20s/it]"
     ]
    },
    {
     "name": "stdout",
     "output_type": "stream",
     "text": [
      "✅ Embedded 9606.ENSP00000233535\n",
      "✅ Embedded 9606.ENSP00000233545\n"
     ]
    },
    {
     "name": "stderr",
     "output_type": "stream",
     "text": [
      "Embedding proteins:  39%|██████████████████████▉                                    | 657/1690 [02:48<19:06,  1.11s/it]"
     ]
    },
    {
     "name": "stdout",
     "output_type": "stream",
     "text": [
      "✅ Embedded 9606.ENSP00000233607\n",
      "✅ Embedded 9606.ENSP00000233630\n"
     ]
    },
    {
     "name": "stderr",
     "output_type": "stream",
     "text": [
      "Embedding proteins:  39%|███████████████████████                                    | 660/1690 [02:49<10:22,  1.65it/s]"
     ]
    },
    {
     "name": "stdout",
     "output_type": "stream",
     "text": [
      "✅ Embedded 9606.ENSP00000233668\n",
      "✅ Embedded 9606.ENSP00000233809\n",
      "✅ Embedded 9606.ENSP00000233813\n"
     ]
    },
    {
     "name": "stderr",
     "output_type": "stream",
     "text": [
      "Embedding proteins:  39%|███████████████████████▏                                   | 664/1690 [02:49<05:08,  3.33it/s]"
     ]
    },
    {
     "name": "stdout",
     "output_type": "stream",
     "text": [
      "✅ Embedded 9606.ENSP00000233826\n",
      "✅ Embedded 9606.ENSP00000233893\n",
      "✅ Embedded 9606.ENSP00000233944\n"
     ]
    },
    {
     "name": "stderr",
     "output_type": "stream",
     "text": [
      "Embedding proteins:  39%|███████████████████████▎                                   | 666/1690 [02:49<04:08,  4.13it/s]"
     ]
    },
    {
     "name": "stdout",
     "output_type": "stream",
     "text": [
      "✅ Embedded 9606.ENSP00000233946\n",
      "✅ Embedded 9606.ENSP00000233948\n"
     ]
    },
    {
     "name": "stderr",
     "output_type": "stream",
     "text": [
      "Embedding proteins:  40%|███████████████████████▎                                   | 668/1690 [02:50<03:46,  4.51it/s]"
     ]
    },
    {
     "name": "stdout",
     "output_type": "stream",
     "text": [
      "✅ Embedded 9606.ENSP00000233954\n",
      "✅ Embedded 9606.ENSP00000233957\n"
     ]
    },
    {
     "name": "stderr",
     "output_type": "stream",
     "text": [
      "Embedding proteins:  40%|███████████████████████▎                                   | 669/1690 [02:50<03:16,  5.21it/s]"
     ]
    },
    {
     "name": "stdout",
     "output_type": "stream",
     "text": [
      "✅ Embedded 9606.ENSP00000234038\n"
     ]
    },
    {
     "name": "stderr",
     "output_type": "stream",
     "text": [
      "Embedding proteins:  40%|███████████████████████▍                                   | 671/1690 [02:51<04:46,  3.55it/s]"
     ]
    },
    {
     "name": "stdout",
     "output_type": "stream",
     "text": [
      "✅ Embedded 9606.ENSP00000234040\n",
      "✅ Embedded 9606.ENSP00000234071\n",
      "✅ Embedded 9606.ENSP00000234091\n"
     ]
    },
    {
     "name": "stderr",
     "output_type": "stream",
     "text": [
      "Embedding proteins:  40%|███████████████████████▍                                   | 673/1690 [02:51<03:18,  5.14it/s]"
     ]
    },
    {
     "name": "stdout",
     "output_type": "stream",
     "text": [
      "✅ Embedded 9606.ENSP00000234111\n"
     ]
    },
    {
     "name": "stderr",
     "output_type": "stream",
     "text": [
      "Embedding proteins:  40%|███████████████████████▌                                   | 674/1690 [02:52<08:17,  2.04it/s]"
     ]
    },
    {
     "name": "stdout",
     "output_type": "stream",
     "text": [
      "✅ Embedded 9606.ENSP00000234142\n"
     ]
    },
    {
     "name": "stderr",
     "output_type": "stream",
     "text": [
      "Embedding proteins:  40%|███████████████████████▌                                   | 675/1690 [02:53<08:16,  2.04it/s]"
     ]
    },
    {
     "name": "stdout",
     "output_type": "stream",
     "text": [
      "✅ Embedded 9606.ENSP00000234170\n"
     ]
    },
    {
     "name": "stderr",
     "output_type": "stream",
     "text": [
      "Embedding proteins:  40%|███████████████████████▌                                   | 676/1690 [02:53<07:55,  2.13it/s]"
     ]
    },
    {
     "name": "stdout",
     "output_type": "stream",
     "text": [
      "✅ Embedded 9606.ENSP00000234179\n",
      "✅ Embedded 9606.ENSP00000234198\n"
     ]
    },
    {
     "name": "stderr",
     "output_type": "stream",
     "text": [
      "Embedding proteins:  40%|███████████████████████▋                                   | 680/1690 [02:54<03:47,  4.44it/s]"
     ]
    },
    {
     "name": "stdout",
     "output_type": "stream",
     "text": [
      "✅ Embedded 9606.ENSP00000234296\n",
      "✅ Embedded 9606.ENSP00000234310\n",
      "✅ Embedded 9606.ENSP00000234347\n"
     ]
    },
    {
     "name": "stderr",
     "output_type": "stream",
     "text": [
      "Embedding proteins:  40%|███████████████████████▊                                   | 682/1690 [02:54<03:14,  5.18it/s]"
     ]
    },
    {
     "name": "stdout",
     "output_type": "stream",
     "text": [
      "✅ Embedded 9606.ENSP00000234371\n",
      "✅ Embedded 9606.ENSP00000234396\n"
     ]
    },
    {
     "name": "stderr",
     "output_type": "stream",
     "text": [
      "Embedding proteins:  40%|███████████████████████▉                                   | 684/1690 [02:54<03:04,  5.45it/s]"
     ]
    },
    {
     "name": "stdout",
     "output_type": "stream",
     "text": [
      "✅ Embedded 9606.ENSP00000234626\n",
      "✅ Embedded 9606.ENSP00000234816\n"
     ]
    },
    {
     "name": "stderr",
     "output_type": "stream",
     "text": [
      "Embedding proteins:  41%|███████████████████████▉                                   | 685/1690 [02:54<02:44,  6.11it/s]"
     ]
    },
    {
     "name": "stdout",
     "output_type": "stream",
     "text": [
      "✅ Embedded 9606.ENSP00000234961\n",
      "✅ Embedded 9606.ENSP00000235090\n"
     ]
    },
    {
     "name": "stderr",
     "output_type": "stream",
     "text": [
      "Embedding proteins:  41%|███████████████████████▉                                   | 687/1690 [02:55<03:30,  4.76it/s]"
     ]
    },
    {
     "name": "stdout",
     "output_type": "stream",
     "text": [
      "✅ Embedded 9606.ENSP00000235180\n",
      "✅ Embedded 9606.ENSP00000235310\n"
     ]
    },
    {
     "name": "stderr",
     "output_type": "stream",
     "text": [
      "Embedding proteins:  41%|████████████████████████                                   | 689/1690 [02:55<03:20,  4.98it/s]"
     ]
    },
    {
     "name": "stdout",
     "output_type": "stream",
     "text": [
      "✅ Embedded 9606.ENSP00000235329\n"
     ]
    },
    {
     "name": "stderr",
     "output_type": "stream",
     "text": [
      "Embedding proteins:  41%|████████████████████████▏                                  | 692/1690 [02:57<04:28,  3.71it/s]"
     ]
    },
    {
     "name": "stdout",
     "output_type": "stream",
     "text": [
      "✅ Embedded 9606.ENSP00000235372\n",
      "✅ Embedded 9606.ENSP00000235382\n",
      "✅ Embedded 9606.ENSP00000235933\n"
     ]
    },
    {
     "name": "stderr",
     "output_type": "stream",
     "text": [
      "Embedding proteins:  41%|████████████████████████▎                                  | 695/1690 [02:57<02:58,  5.56it/s]"
     ]
    },
    {
     "name": "stdout",
     "output_type": "stream",
     "text": [
      "✅ Embedded 9606.ENSP00000236147\n",
      "✅ Embedded 9606.ENSP00000236192\n",
      "✅ Embedded 9606.ENSP00000236671\n"
     ]
    },
    {
     "name": "stderr",
     "output_type": "stream",
     "text": [
      "Embedding proteins:  41%|████████████████████████▎                                  | 696/1690 [02:57<02:52,  5.75it/s]"
     ]
    },
    {
     "name": "stdout",
     "output_type": "stream",
     "text": [
      "✅ Embedded 9606.ENSP00000236826\n",
      "✅ Embedded 9606.ENSP00000236850\n"
     ]
    },
    {
     "name": "stderr",
     "output_type": "stream",
     "text": [
      "Embedding proteins:  41%|████████████████████████▎                                  | 698/1690 [02:57<02:41,  6.13it/s]"
     ]
    },
    {
     "name": "stdout",
     "output_type": "stream",
     "text": [
      "✅ Embedded 9606.ENSP00000236959\n",
      "✅ Embedded 9606.ENSP00000237014\n",
      "✅ Embedded 9606.ENSP00000237264\n"
     ]
    },
    {
     "name": "stderr",
     "output_type": "stream",
     "text": [
      "Embedding proteins:  42%|████████████████████████▌                                  | 704/1690 [02:58<01:51,  8.82it/s]"
     ]
    },
    {
     "name": "stdout",
     "output_type": "stream",
     "text": [
      "✅ Embedded 9606.ENSP00000237289\n",
      "✅ Embedded 9606.ENSP00000237316\n",
      "✅ Embedded 9606.ENSP00000237380\n",
      "✅ Embedded 9606.ENSP00000237500\n",
      "✅ Embedded 9606.ENSP00000237527\n"
     ]
    },
    {
     "name": "stderr",
     "output_type": "stream",
     "text": [
      "Embedding proteins:  42%|████████████████████████▋                                  | 706/1690 [02:58<02:24,  6.82it/s]"
     ]
    },
    {
     "name": "stdout",
     "output_type": "stream",
     "text": [
      "✅ Embedded 9606.ENSP00000237596\n"
     ]
    },
    {
     "name": "stderr",
     "output_type": "stream",
     "text": [
      "Embedding proteins:  42%|████████████████████████▋                                  | 708/1690 [02:59<02:31,  6.47it/s]"
     ]
    },
    {
     "name": "stdout",
     "output_type": "stream",
     "text": [
      "✅ Embedded 9606.ENSP00000237612\n",
      "✅ Embedded 9606.ENSP00000237654\n",
      "✅ Embedded 9606.ENSP00000237837\n"
     ]
    },
    {
     "name": "stderr",
     "output_type": "stream",
     "text": [
      "Embedding proteins:  42%|████████████████████████▊                                  | 710/1690 [02:59<01:56,  8.41it/s]"
     ]
    },
    {
     "name": "stdout",
     "output_type": "stream",
     "text": [
      "✅ Embedded 9606.ENSP00000237858\n",
      "✅ Embedded 9606.ENSP00000238081\n"
     ]
    },
    {
     "name": "stderr",
     "output_type": "stream",
     "text": [
      "Embedding proteins:  42%|████████████████████████▊                                  | 712/1690 [02:59<02:12,  7.38it/s]"
     ]
    },
    {
     "name": "stdout",
     "output_type": "stream",
     "text": [
      "✅ Embedded 9606.ENSP00000238112\n"
     ]
    },
    {
     "name": "stderr",
     "output_type": "stream",
     "text": [
      "Embedding proteins:  42%|████████████████████████▉                                  | 714/1690 [03:01<06:26,  2.52it/s]"
     ]
    },
    {
     "name": "stdout",
     "output_type": "stream",
     "text": [
      "✅ Embedded 9606.ENSP00000238341\n",
      "✅ Embedded 9606.ENSP00000238508\n",
      "✅ Embedded 9606.ENSP00000238558\n"
     ]
    },
    {
     "name": "stderr",
     "output_type": "stream",
     "text": [
      "Embedding proteins:  42%|█████████████████████████                                  | 718/1690 [03:02<03:23,  4.79it/s]"
     ]
    },
    {
     "name": "stdout",
     "output_type": "stream",
     "text": [
      "✅ Embedded 9606.ENSP00000238682\n",
      "✅ Embedded 9606.ENSP00000238721\n",
      "✅ Embedded 9606.ENSP00000238738\n"
     ]
    },
    {
     "name": "stderr",
     "output_type": "stream",
     "text": [
      "Embedding proteins:  43%|█████████████████████████▏                                 | 720/1690 [03:02<02:42,  5.99it/s]"
     ]
    },
    {
     "name": "stdout",
     "output_type": "stream",
     "text": [
      "✅ Embedded 9606.ENSP00000238994\n",
      "✅ Embedded 9606.ENSP00000239151\n",
      "✅ Embedded 9606.ENSP00000239223\n"
     ]
    },
    {
     "name": "stderr",
     "output_type": "stream",
     "text": [
      "Embedding proteins:  43%|█████████████████████████▏                                 | 722/1690 [03:02<02:18,  6.98it/s]"
     ]
    },
    {
     "name": "stdout",
     "output_type": "stream",
     "text": [
      "✅ Embedded 9606.ENSP00000239243\n",
      "✅ Embedded 9606.ENSP00000239347\n"
     ]
    },
    {
     "name": "stderr",
     "output_type": "stream",
     "text": [
      "Embedding proteins:  43%|█████████████████████████▎                                 | 724/1690 [03:03<03:30,  4.58it/s]"
     ]
    },
    {
     "name": "stdout",
     "output_type": "stream",
     "text": [
      "✅ Embedded 9606.ENSP00000239462\n"
     ]
    },
    {
     "name": "stderr",
     "output_type": "stream",
     "text": [
      "Embedding proteins:  43%|█████████████████████████▎                                 | 725/1690 [03:03<05:13,  3.08it/s]"
     ]
    },
    {
     "name": "stdout",
     "output_type": "stream",
     "text": [
      "✅ Embedded 9606.ENSP00000239761\n",
      "✅ Embedded 9606.ENSP00000239849\n"
     ]
    },
    {
     "name": "stderr",
     "output_type": "stream",
     "text": [
      "Embedding proteins:  43%|█████████████████████████▍                                 | 728/1690 [03:04<04:00,  4.00it/s]"
     ]
    },
    {
     "name": "stdout",
     "output_type": "stream",
     "text": [
      "✅ Embedded 9606.ENSP00000239882\n",
      "✅ Embedded 9606.ENSP00000239938\n",
      "✅ Embedded 9606.ENSP00000240055\n"
     ]
    },
    {
     "name": "stderr",
     "output_type": "stream",
     "text": [
      "Embedding proteins:  43%|█████████████████████████▌                                 | 731/1690 [03:04<03:07,  5.11it/s]"
     ]
    },
    {
     "name": "stdout",
     "output_type": "stream",
     "text": [
      "✅ Embedded 9606.ENSP00000240093\n",
      "✅ Embedded 9606.ENSP00000240100\n"
     ]
    },
    {
     "name": "stderr",
     "output_type": "stream",
     "text": [
      "Embedding proteins:  43%|█████████████████████████▌                                 | 733/1690 [03:05<03:07,  5.10it/s]"
     ]
    },
    {
     "name": "stdout",
     "output_type": "stream",
     "text": [
      "✅ Embedded 9606.ENSP00000240123\n",
      "✅ Embedded 9606.ENSP00000240139\n"
     ]
    },
    {
     "name": "stderr",
     "output_type": "stream",
     "text": [
      "Embedding proteins:  43%|█████████████████████████▋                                 | 735/1690 [03:05<02:35,  6.14it/s]"
     ]
    },
    {
     "name": "stdout",
     "output_type": "stream",
     "text": [
      "✅ Embedded 9606.ENSP00000240185\n",
      "✅ Embedded 9606.ENSP00000240327\n"
     ]
    },
    {
     "name": "stderr",
     "output_type": "stream",
     "text": [
      "Embedding proteins:  44%|█████████████████████████▋                                 | 737/1690 [03:05<03:00,  5.28it/s]"
     ]
    },
    {
     "name": "stdout",
     "output_type": "stream",
     "text": [
      "✅ Embedded 9606.ENSP00000240328\n",
      "✅ Embedded 9606.ENSP00000240335\n"
     ]
    },
    {
     "name": "stderr",
     "output_type": "stream",
     "text": [
      "Embedding proteins:  44%|█████████████████████████▊                                 | 738/1690 [03:06<04:25,  3.58it/s]"
     ]
    },
    {
     "name": "stdout",
     "output_type": "stream",
     "text": [
      "✅ Embedded 9606.ENSP00000240587\n",
      "✅ Embedded 9606.ENSP00000240652\n"
     ]
    },
    {
     "name": "stderr",
     "output_type": "stream",
     "text": [
      "Embedding proteins:  44%|█████████████████████████▊                                 | 741/1690 [03:06<03:06,  5.09it/s]"
     ]
    },
    {
     "name": "stdout",
     "output_type": "stream",
     "text": [
      "✅ Embedded 9606.ENSP00000241014\n",
      "✅ Embedded 9606.ENSP00000241256\n",
      "✅ Embedded 9606.ENSP00000241261\n"
     ]
    },
    {
     "name": "stderr",
     "output_type": "stream",
     "text": [
      "Embedding proteins:  44%|█████████████████████████▉                                 | 743/1690 [03:11<17:24,  1.10s/it]"
     ]
    },
    {
     "name": "stdout",
     "output_type": "stream",
     "text": [
      "✅ Embedded 9606.ENSP00000241312\n"
     ]
    },
    {
     "name": "stderr",
     "output_type": "stream",
     "text": [
      "Embedding proteins:  44%|█████████████████████████▉                                 | 744/1690 [03:11<14:19,  1.10it/s]"
     ]
    },
    {
     "name": "stdout",
     "output_type": "stream",
     "text": [
      "✅ Embedded 9606.ENSP00000241416\n"
     ]
    },
    {
     "name": "stderr",
     "output_type": "stream",
     "text": [
      "Embedding proteins:  44%|██████████████████████████                                 | 747/1690 [03:12<08:00,  1.96it/s]"
     ]
    },
    {
     "name": "stdout",
     "output_type": "stream",
     "text": [
      "✅ Embedded 9606.ENSP00000241453\n",
      "✅ Embedded 9606.ENSP00000241463\n",
      "✅ Embedded 9606.ENSP00000241651\n"
     ]
    },
    {
     "name": "stderr",
     "output_type": "stream",
     "text": [
      "Embedding proteins:  44%|██████████████████████████                                 | 748/1690 [03:13<07:38,  2.06it/s]"
     ]
    },
    {
     "name": "stdout",
     "output_type": "stream",
     "text": [
      "✅ Embedded 9606.ENSP00000242057\n"
     ]
    },
    {
     "name": "stderr",
     "output_type": "stream",
     "text": [
      "Embedding proteins:  44%|██████████████████████████▎                                | 752/1690 [03:13<03:48,  4.11it/s]"
     ]
    },
    {
     "name": "stdout",
     "output_type": "stream",
     "text": [
      "✅ Embedded 9606.ENSP00000242067\n",
      "✅ Embedded 9606.ENSP00000242104\n",
      "✅ Embedded 9606.ENSP00000242152\n",
      "✅ Embedded 9606.ENSP00000242159\n"
     ]
    },
    {
     "name": "stderr",
     "output_type": "stream",
     "text": [
      "Embedding proteins:  45%|██████████████████████████▍                                | 756/1690 [03:13<02:20,  6.63it/s]"
     ]
    },
    {
     "name": "stdout",
     "output_type": "stream",
     "text": [
      "✅ Embedded 9606.ENSP00000242208\n",
      "✅ Embedded 9606.ENSP00000242261\n",
      "✅ Embedded 9606.ENSP00000242285\n",
      "✅ Embedded 9606.ENSP00000242462\n"
     ]
    },
    {
     "name": "stderr",
     "output_type": "stream",
     "text": [
      "Embedding proteins:  45%|██████████████████████████▍                                | 758/1690 [03:14<02:21,  6.59it/s]"
     ]
    },
    {
     "name": "stdout",
     "output_type": "stream",
     "text": [
      "✅ Embedded 9606.ENSP00000242480\n",
      "✅ Embedded 9606.ENSP00000242728\n",
      "✅ Embedded 9606.ENSP00000243077\n"
     ]
    },
    {
     "name": "stderr",
     "output_type": "stream",
     "text": [
      "Embedding proteins:  45%|██████████████████████████▌                                | 761/1690 [03:22<18:25,  1.19s/it]"
     ]
    },
    {
     "name": "stdout",
     "output_type": "stream",
     "text": [
      "✅ Embedded 9606.ENSP00000243222\n",
      "✅ Embedded 9606.ENSP00000243349\n"
     ]
    },
    {
     "name": "stderr",
     "output_type": "stream",
     "text": [
      "Embedding proteins:  45%|██████████████████████████▋                                | 764/1690 [03:23<09:52,  1.56it/s]"
     ]
    },
    {
     "name": "stdout",
     "output_type": "stream",
     "text": [
      "✅ Embedded 9606.ENSP00000243389\n",
      "✅ Embedded 9606.ENSP00000243440\n",
      "✅ Embedded 9606.ENSP00000243563\n",
      "✅ Embedded 9606.ENSP00000243786\n"
     ]
    },
    {
     "name": "stderr",
     "output_type": "stream",
     "text": [
      "Embedding proteins:  45%|██████████████████████████▋                                | 766/1690 [03:23<06:46,  2.27it/s]"
     ]
    },
    {
     "name": "stdout",
     "output_type": "stream",
     "text": [
      "✅ Embedded 9606.ENSP00000243924\n"
     ]
    },
    {
     "name": "stderr",
     "output_type": "stream",
     "text": [
      "Embedding proteins:  45%|██████████████████████████▊                                | 768/1690 [03:23<06:34,  2.34it/s]"
     ]
    },
    {
     "name": "stdout",
     "output_type": "stream",
     "text": [
      "✅ Embedded 9606.ENSP00000244007\n",
      "✅ Embedded 9606.ENSP00000244050\n"
     ]
    },
    {
     "name": "stderr",
     "output_type": "stream",
     "text": [
      "Embedding proteins:  46%|██████████████████████████▉                                | 772/1690 [03:24<04:03,  3.77it/s]"
     ]
    },
    {
     "name": "stdout",
     "output_type": "stream",
     "text": [
      "✅ Embedded 9606.ENSP00000244289\n",
      "✅ Embedded 9606.ENSP00000244534\n",
      "✅ Embedded 9606.ENSP00000244537\n",
      "✅ Embedded 9606.ENSP00000244573\n",
      "✅ Embedded 9606.ENSP00000244661\n",
      "✅ Embedded 9606.ENSP00000244741\n"
     ]
    },
    {
     "name": "stderr",
     "output_type": "stream",
     "text": [
      "Embedding proteins:  46%|███████████████████████████                                | 775/1690 [03:24<02:55,  5.22it/s]"
     ]
    },
    {
     "name": "stdout",
     "output_type": "stream",
     "text": [
      "✅ Embedded 9606.ENSP00000244745\n",
      "✅ Embedded 9606.ENSP00000244869\n"
     ]
    },
    {
     "name": "stderr",
     "output_type": "stream",
     "text": [
      "Embedding proteins:  46%|███████████████████████████▏                               | 777/1690 [03:25<02:48,  5.43it/s]"
     ]
    },
    {
     "name": "stdout",
     "output_type": "stream",
     "text": [
      "✅ Embedded 9606.ENSP00000245157\n"
     ]
    },
    {
     "name": "stderr",
     "output_type": "stream",
     "text": [
      "Embedding proteins:  46%|███████████████████████████▏                               | 779/1690 [03:25<02:36,  5.84it/s]"
     ]
    },
    {
     "name": "stdout",
     "output_type": "stream",
     "text": [
      "✅ Embedded 9606.ENSP00000245222\n",
      "✅ Embedded 9606.ENSP00000245304\n",
      "✅ Embedded 9606.ENSP00000245323\n"
     ]
    },
    {
     "name": "stderr",
     "output_type": "stream",
     "text": [
      "Embedding proteins:  46%|███████████████████████████▎                               | 782/1690 [03:25<02:13,  6.82it/s]"
     ]
    },
    {
     "name": "stdout",
     "output_type": "stream",
     "text": [
      "✅ Embedded 9606.ENSP00000245414\n",
      "✅ Embedded 9606.ENSP00000245451\n"
     ]
    },
    {
     "name": "stderr",
     "output_type": "stream",
     "text": [
      "Embedding proteins:  46%|███████████████████████████▎                               | 783/1690 [03:25<02:15,  6.69it/s]"
     ]
    },
    {
     "name": "stdout",
     "output_type": "stream",
     "text": [
      "✅ Embedded 9606.ENSP00000245479\n"
     ]
    },
    {
     "name": "stderr",
     "output_type": "stream",
     "text": [
      "Embedding proteins:  46%|███████████████████████████▎                               | 784/1690 [03:27<06:27,  2.34it/s]"
     ]
    },
    {
     "name": "stdout",
     "output_type": "stream",
     "text": [
      "✅ Embedded 9606.ENSP00000245503\n"
     ]
    },
    {
     "name": "stderr",
     "output_type": "stream",
     "text": [
      "Embedding proteins:  47%|███████████████████████████▍                               | 787/1690 [03:27<04:00,  3.76it/s]"
     ]
    },
    {
     "name": "stdout",
     "output_type": "stream",
     "text": [
      "✅ Embedded 9606.ENSP00000245541\n",
      "✅ Embedded 9606.ENSP00000245787\n",
      "✅ Embedded 9606.ENSP00000245816\n",
      "✅ Embedded 9606.ENSP00000245903\n"
     ]
    },
    {
     "name": "stderr",
     "output_type": "stream",
     "text": [
      "Embedding proteins:  47%|███████████████████████████▌                               | 790/1690 [03:29<04:55,  3.04it/s]"
     ]
    },
    {
     "name": "stdout",
     "output_type": "stream",
     "text": [
      "✅ Embedded 9606.ENSP00000245907\n",
      "✅ Embedded 9606.ENSP00000245908\n"
     ]
    },
    {
     "name": "stderr",
     "output_type": "stream",
     "text": [
      "Embedding proteins:  47%|███████████████████████████▋                               | 792/1690 [03:29<03:49,  3.92it/s]"
     ]
    },
    {
     "name": "stdout",
     "output_type": "stream",
     "text": [
      "✅ Embedded 9606.ENSP00000245919\n",
      "✅ Embedded 9606.ENSP00000245960\n"
     ]
    },
    {
     "name": "stderr",
     "output_type": "stream",
     "text": [
      "Embedding proteins:  47%|███████████████████████████▋                               | 793/1690 [03:29<03:35,  4.15it/s]"
     ]
    },
    {
     "name": "stdout",
     "output_type": "stream",
     "text": [
      "✅ Embedded 9606.ENSP00000246062\n",
      "✅ Embedded 9606.ENSP00000246069\n"
     ]
    },
    {
     "name": "stderr",
     "output_type": "stream",
     "text": [
      "Embedding proteins:  47%|███████████████████████████▊                               | 796/1690 [03:29<02:39,  5.62it/s]"
     ]
    },
    {
     "name": "stdout",
     "output_type": "stream",
     "text": [
      "✅ Embedded 9606.ENSP00000246186\n",
      "✅ Embedded 9606.ENSP00000246657\n"
     ]
    },
    {
     "name": "stderr",
     "output_type": "stream",
     "text": [
      "Embedding proteins:  47%|███████████████████████████▊                               | 797/1690 [03:30<02:49,  5.28it/s]"
     ]
    },
    {
     "name": "stdout",
     "output_type": "stream",
     "text": [
      "✅ Embedded 9606.ENSP00000246672\n",
      "✅ Embedded 9606.ENSP00000246747\n",
      "✅ Embedded 9606.ENSP00000246792\n"
     ]
    },
    {
     "name": "stderr",
     "output_type": "stream",
     "text": [
      "Embedding proteins:  47%|███████████████████████████▉                               | 800/1690 [03:30<03:12,  4.63it/s]"
     ]
    },
    {
     "name": "stdout",
     "output_type": "stream",
     "text": [
      "✅ Embedded 9606.ENSP00000246914\n"
     ]
    },
    {
     "name": "stderr",
     "output_type": "stream",
     "text": [
      "Embedding proteins:  47%|███████████████████████████▉                               | 802/1690 [03:31<03:00,  4.91it/s]"
     ]
    },
    {
     "name": "stdout",
     "output_type": "stream",
     "text": [
      "✅ Embedded 9606.ENSP00000246957\n",
      "✅ Embedded 9606.ENSP00000247138\n"
     ]
    },
    {
     "name": "stderr",
     "output_type": "stream",
     "text": [
      "Embedding proteins:  48%|████████████████████████████                               | 804/1690 [03:31<02:33,  5.77it/s]"
     ]
    },
    {
     "name": "stdout",
     "output_type": "stream",
     "text": [
      "✅ Embedded 9606.ENSP00000247153\n",
      "✅ Embedded 9606.ENSP00000247161\n",
      "✅ Embedded 9606.ENSP00000247182\n"
     ]
    },
    {
     "name": "stderr",
     "output_type": "stream",
     "text": [
      "Embedding proteins:  48%|████████████████████████████▏                              | 806/1690 [03:32<02:50,  5.19it/s]"
     ]
    },
    {
     "name": "stdout",
     "output_type": "stream",
     "text": [
      "✅ Embedded 9606.ENSP00000247191\n"
     ]
    },
    {
     "name": "stderr",
     "output_type": "stream",
     "text": [
      "Embedding proteins:  48%|████████████████████████████▏                              | 807/1690 [03:32<02:55,  5.04it/s]"
     ]
    },
    {
     "name": "stdout",
     "output_type": "stream",
     "text": [
      "✅ Embedded 9606.ENSP00000247207\n"
     ]
    },
    {
     "name": "stderr",
     "output_type": "stream",
     "text": [
      "Embedding proteins:  48%|████████████████████████████▏                              | 808/1690 [03:32<02:57,  4.96it/s]"
     ]
    },
    {
     "name": "stdout",
     "output_type": "stream",
     "text": [
      "✅ Embedded 9606.ENSP00000247461\n",
      "✅ Embedded 9606.ENSP00000247470\n"
     ]
    },
    {
     "name": "stderr",
     "output_type": "stream",
     "text": [
      "Embedding proteins:  48%|████████████████████████████▎                              | 810/1690 [03:32<02:25,  6.05it/s]"
     ]
    },
    {
     "name": "stdout",
     "output_type": "stream",
     "text": [
      "✅ Embedded 9606.ENSP00000247668\n"
     ]
    },
    {
     "name": "stderr",
     "output_type": "stream",
     "text": [
      "Embedding proteins:  48%|████████████████████████████▎                              | 811/1690 [03:33<03:39,  4.01it/s]"
     ]
    },
    {
     "name": "stdout",
     "output_type": "stream",
     "text": [
      "✅ Embedded 9606.ENSP00000247815\n",
      "✅ Embedded 9606.ENSP00000247970\n"
     ]
    },
    {
     "name": "stderr",
     "output_type": "stream",
     "text": [
      "Embedding proteins:  48%|████████████████████████████▍                              | 814/1690 [03:33<02:56,  4.97it/s]"
     ]
    },
    {
     "name": "stdout",
     "output_type": "stream",
     "text": [
      "✅ Embedded 9606.ENSP00000248070\n",
      "✅ Embedded 9606.ENSP00000248071\n",
      "✅ Embedded 9606.ENSP00000248150\n"
     ]
    },
    {
     "name": "stderr",
     "output_type": "stream",
     "text": [
      "Embedding proteins:  48%|████████████████████████████▌                              | 817/1690 [03:34<02:31,  5.77it/s]"
     ]
    },
    {
     "name": "stdout",
     "output_type": "stream",
     "text": [
      "✅ Embedded 9606.ENSP00000248244\n",
      "✅ Embedded 9606.ENSP00000248437\n",
      "✅ Embedded 9606.ENSP00000248553\n",
      "✅ Embedded 9606.ENSP00000248564\n",
      "✅ Embedded 9606.ENSP00000248572\n"
     ]
    },
    {
     "name": "stderr",
     "output_type": "stream",
     "text": [
      "Embedding proteins:  49%|████████████████████████████▋                              | 822/1690 [03:34<01:57,  7.39it/s]"
     ]
    },
    {
     "name": "stdout",
     "output_type": "stream",
     "text": [
      "✅ Embedded 9606.ENSP00000248594\n",
      "✅ Embedded 9606.ENSP00000248598\n"
     ]
    },
    {
     "name": "stderr",
     "output_type": "stream",
     "text": [
      "Embedding proteins:  49%|████████████████████████████▊                              | 824/1690 [03:34<01:45,  8.24it/s]"
     ]
    },
    {
     "name": "stdout",
     "output_type": "stream",
     "text": [
      "✅ Embedded 9606.ENSP00000248600\n",
      "✅ Embedded 9606.ENSP00000248673\n",
      "✅ Embedded 9606.ENSP00000248706\n"
     ]
    },
    {
     "name": "stderr",
     "output_type": "stream",
     "text": [
      "Embedding proteins:  49%|████████████████████████████▊                              | 826/1690 [03:35<01:31,  9.40it/s]"
     ]
    },
    {
     "name": "stdout",
     "output_type": "stream",
     "text": [
      "✅ Embedded 9606.ENSP00000248975\n",
      "✅ Embedded 9606.ENSP00000248996\n"
     ]
    },
    {
     "name": "stderr",
     "output_type": "stream",
     "text": [
      "Embedding proteins:  49%|████████████████████████████▉                              | 830/1690 [03:35<01:20, 10.72it/s]"
     ]
    },
    {
     "name": "stdout",
     "output_type": "stream",
     "text": [
      "✅ Embedded 9606.ENSP00000249016\n",
      "✅ Embedded 9606.ENSP00000249071\n",
      "✅ Embedded 9606.ENSP00000249075\n",
      "✅ Embedded 9606.ENSP00000249356\n"
     ]
    },
    {
     "name": "stderr",
     "output_type": "stream",
     "text": [
      "Embedding proteins:  49%|█████████████████████████████                              | 832/1690 [03:35<01:45,  8.16it/s]"
     ]
    },
    {
     "name": "stdout",
     "output_type": "stream",
     "text": [
      "✅ Embedded 9606.ENSP00000249373\n",
      "✅ Embedded 9606.ENSP00000249396\n"
     ]
    },
    {
     "name": "stderr",
     "output_type": "stream",
     "text": [
      "Embedding proteins:  49%|█████████████████████████████▏                             | 835/1690 [03:36<01:41,  8.40it/s]"
     ]
    },
    {
     "name": "stdout",
     "output_type": "stream",
     "text": [
      "✅ Embedded 9606.ENSP00000249440\n",
      "✅ Embedded 9606.ENSP00000249504\n"
     ]
    },
    {
     "name": "stderr",
     "output_type": "stream",
     "text": [
      "Embedding proteins:  49%|█████████████████████████████▏                             | 836/1690 [03:36<01:44,  8.16it/s]"
     ]
    },
    {
     "name": "stdout",
     "output_type": "stream",
     "text": [
      "✅ Embedded 9606.ENSP00000249598\n"
     ]
    },
    {
     "name": "stderr",
     "output_type": "stream",
     "text": [
      "Embedding proteins:  50%|█████████████████████████████▎                             | 838/1690 [03:36<02:22,  5.97it/s]"
     ]
    },
    {
     "name": "stdout",
     "output_type": "stream",
     "text": [
      "✅ Embedded 9606.ENSP00000249749\n",
      "✅ Embedded 9606.ENSP00000249750\n"
     ]
    },
    {
     "name": "stderr",
     "output_type": "stream",
     "text": [
      "Embedding proteins:  50%|█████████████████████████████▎                             | 841/1690 [03:37<02:21,  5.99it/s]"
     ]
    },
    {
     "name": "stdout",
     "output_type": "stream",
     "text": [
      "✅ Embedded 9606.ENSP00000249923\n",
      "✅ Embedded 9606.ENSP00000250003\n",
      "✅ Embedded 9606.ENSP00000250144\n",
      "✅ Embedded 9606.ENSP00000250151\n"
     ]
    },
    {
     "name": "stderr",
     "output_type": "stream",
     "text": [
      "Embedding proteins:  50%|█████████████████████████████▍                             | 843/1690 [03:37<01:50,  7.67it/s]"
     ]
    },
    {
     "name": "stdout",
     "output_type": "stream",
     "text": [
      "✅ Embedded 9606.ENSP00000250160\n",
      "✅ Embedded 9606.ENSP00000250378\n"
     ]
    },
    {
     "name": "stderr",
     "output_type": "stream",
     "text": [
      "Embedding proteins:  50%|█████████████████████████████▌                             | 846/1690 [03:37<01:55,  7.31it/s]"
     ]
    },
    {
     "name": "stdout",
     "output_type": "stream",
     "text": [
      "✅ Embedded 9606.ENSP00000250416\n",
      "✅ Embedded 9606.ENSP00000250448\n"
     ]
    },
    {
     "name": "stderr",
     "output_type": "stream",
     "text": [
      "Embedding proteins:  50%|█████████████████████████████▌                             | 848/1690 [03:37<01:28,  9.49it/s]"
     ]
    },
    {
     "name": "stdout",
     "output_type": "stream",
     "text": [
      "✅ Embedded 9606.ENSP00000250457\n",
      "✅ Embedded 9606.ENSP00000250495\n",
      "✅ Embedded 9606.ENSP00000250498\n",
      "✅ Embedded 9606.ENSP00000250559\n"
     ]
    },
    {
     "name": "stderr",
     "output_type": "stream",
     "text": [
      "Embedding proteins:  50%|█████████████████████████████▋                             | 851/1690 [03:38<01:41,  8.23it/s]"
     ]
    },
    {
     "name": "stdout",
     "output_type": "stream",
     "text": [
      "✅ Embedded 9606.ENSP00000250617\n",
      "✅ Embedded 9606.ENSP00000250863\n"
     ]
    },
    {
     "name": "stderr",
     "output_type": "stream",
     "text": [
      "Embedding proteins:  51%|█████████████████████████████▊                             | 855/1690 [03:38<01:33,  8.93it/s]"
     ]
    },
    {
     "name": "stdout",
     "output_type": "stream",
     "text": [
      "✅ Embedded 9606.ENSP00000250896\n",
      "✅ Embedded 9606.ENSP00000250916\n",
      "✅ Embedded 9606.ENSP00000250937\n",
      "✅ Embedded 9606.ENSP00000250971\n"
     ]
    },
    {
     "name": "stderr",
     "output_type": "stream",
     "text": [
      "Embedding proteins:  51%|█████████████████████████████▉                             | 857/1690 [03:39<02:39,  5.22it/s]"
     ]
    },
    {
     "name": "stdout",
     "output_type": "stream",
     "text": [
      "✅ Embedded 9606.ENSP00000251020\n",
      "✅ Embedded 9606.ENSP00000251337\n"
     ]
    },
    {
     "name": "stderr",
     "output_type": "stream",
     "text": [
      "Embedding proteins:  51%|██████████████████████████████                             | 860/1690 [03:40<02:22,  5.84it/s]"
     ]
    },
    {
     "name": "stdout",
     "output_type": "stream",
     "text": [
      "✅ Embedded 9606.ENSP00000251535\n",
      "✅ Embedded 9606.ENSP00000251630\n"
     ]
    },
    {
     "name": "stderr",
     "output_type": "stream",
     "text": [
      "Embedding proteins:  51%|██████████████████████████████                             | 861/1690 [03:40<02:34,  5.36it/s]"
     ]
    },
    {
     "name": "stdout",
     "output_type": "stream",
     "text": [
      "✅ Embedded 9606.ENSP00000251642\n"
     ]
    },
    {
     "name": "stderr",
     "output_type": "stream",
     "text": [
      "Embedding proteins:  51%|██████████████████████████████                             | 862/1690 [03:40<03:12,  4.30it/s]"
     ]
    },
    {
     "name": "stdout",
     "output_type": "stream",
     "text": [
      "✅ Embedded 9606.ENSP00000251809\n"
     ]
    },
    {
     "name": "stderr",
     "output_type": "stream",
     "text": [
      "Embedding proteins:  51%|██████████████████████████████▏                            | 864/1690 [03:41<02:51,  4.82it/s]"
     ]
    },
    {
     "name": "stdout",
     "output_type": "stream",
     "text": [
      "✅ Embedded 9606.ENSP00000251849\n",
      "✅ Embedded 9606.ENSP00000252029\n"
     ]
    },
    {
     "name": "stderr",
     "output_type": "stream",
     "text": [
      "Embedding proteins:  51%|██████████████████████████████▏                            | 865/1690 [03:41<03:09,  4.35it/s]"
     ]
    },
    {
     "name": "stdout",
     "output_type": "stream",
     "text": [
      "✅ Embedded 9606.ENSP00000252034\n"
     ]
    },
    {
     "name": "stderr",
     "output_type": "stream",
     "text": [
      "Embedding proteins:  51%|██████████████████████████████▏                            | 866/1690 [03:41<03:09,  4.35it/s]"
     ]
    },
    {
     "name": "stdout",
     "output_type": "stream",
     "text": [
      "✅ Embedded 9606.ENSP00000252321\n"
     ]
    },
    {
     "name": "stderr",
     "output_type": "stream",
     "text": [
      "Embedding proteins:  51%|██████████████████████████████▎                            | 869/1690 [03:41<02:08,  6.39it/s]"
     ]
    },
    {
     "name": "stdout",
     "output_type": "stream",
     "text": [
      "✅ Embedded 9606.ENSP00000252463\n",
      "✅ Embedded 9606.ENSP00000252486\n",
      "✅ Embedded 9606.ENSP00000252491\n",
      "✅ Embedded 9606.ENSP00000252506\n"
     ]
    },
    {
     "name": "stderr",
     "output_type": "stream",
     "text": [
      "Embedding proteins:  52%|██████████████████████████████▍                            | 871/1690 [03:42<02:18,  5.91it/s]"
     ]
    },
    {
     "name": "stdout",
     "output_type": "stream",
     "text": [
      "✅ Embedded 9606.ENSP00000252519\n"
     ]
    },
    {
     "name": "stderr",
     "output_type": "stream",
     "text": [
      "Embedding proteins:  52%|██████████████████████████████▌                            | 874/1690 [03:42<01:52,  7.25it/s]"
     ]
    },
    {
     "name": "stdout",
     "output_type": "stream",
     "text": [
      "✅ Embedded 9606.ENSP00000252595\n",
      "✅ Embedded 9606.ENSP00000252602\n",
      "✅ Embedded 9606.ENSP00000252677\n",
      "✅ Embedded 9606.ENSP00000252723\n"
     ]
    },
    {
     "name": "stderr",
     "output_type": "stream",
     "text": [
      "Embedding proteins:  52%|██████████████████████████████▋                            | 878/1690 [03:42<01:26,  9.36it/s]"
     ]
    },
    {
     "name": "stdout",
     "output_type": "stream",
     "text": [
      "✅ Embedded 9606.ENSP00000252729\n",
      "✅ Embedded 9606.ENSP00000252809\n",
      "✅ Embedded 9606.ENSP00000252818\n"
     ]
    },
    {
     "name": "stderr",
     "output_type": "stream",
     "text": [
      "Embedding proteins:  52%|██████████████████████████████▋                            | 880/1690 [03:43<01:49,  7.37it/s]"
     ]
    },
    {
     "name": "stdout",
     "output_type": "stream",
     "text": [
      "✅ Embedded 9606.ENSP00000252891\n",
      "✅ Embedded 9606.ENSP00000252945\n",
      "✅ Embedded 9606.ENSP00000252951\n"
     ]
    },
    {
     "name": "stderr",
     "output_type": "stream",
     "text": [
      "Embedding proteins:  52%|██████████████████████████████▊                            | 883/1690 [03:43<02:03,  6.54it/s]"
     ]
    },
    {
     "name": "stdout",
     "output_type": "stream",
     "text": [
      "✅ Embedded 9606.ENSP00000253024\n",
      "✅ Embedded 9606.ENSP00000253039\n"
     ]
    },
    {
     "name": "stderr",
     "output_type": "stream",
     "text": [
      "Embedding proteins:  52%|██████████████████████████████▉                            | 885/1690 [03:44<02:35,  5.18it/s]"
     ]
    },
    {
     "name": "stdout",
     "output_type": "stream",
     "text": [
      "✅ Embedded 9606.ENSP00000253055\n",
      "✅ Embedded 9606.ENSP00000253063\n"
     ]
    },
    {
     "name": "stderr",
     "output_type": "stream",
     "text": [
      "Embedding proteins:  52%|██████████████████████████████▉                            | 886/1690 [03:44<02:24,  5.55it/s]"
     ]
    },
    {
     "name": "stdout",
     "output_type": "stream",
     "text": [
      "✅ Embedded 9606.ENSP00000253109\n",
      "✅ Embedded 9606.ENSP00000253303\n"
     ]
    },
    {
     "name": "stderr",
     "output_type": "stream",
     "text": [
      "Embedding proteins:  53%|███████████████████████████████                            | 888/1690 [03:45<04:50,  2.76it/s]"
     ]
    },
    {
     "name": "stdout",
     "output_type": "stream",
     "text": [
      "✅ Embedded 9606.ENSP00000253332\n"
     ]
    },
    {
     "name": "stderr",
     "output_type": "stream",
     "text": [
      "Embedding proteins:  53%|███████████████████████████████                            | 889/1690 [03:46<05:22,  2.48it/s]"
     ]
    },
    {
     "name": "stdout",
     "output_type": "stream",
     "text": [
      "✅ Embedded 9606.ENSP00000253339\n"
     ]
    },
    {
     "name": "stderr",
     "output_type": "stream",
     "text": [
      "Embedding proteins:  53%|███████████████████████████████                            | 891/1690 [03:46<04:05,  3.25it/s]"
     ]
    },
    {
     "name": "stdout",
     "output_type": "stream",
     "text": [
      "✅ Embedded 9606.ENSP00000253382\n",
      "✅ Embedded 9606.ENSP00000253408\n"
     ]
    },
    {
     "name": "stderr",
     "output_type": "stream",
     "text": [
      "Embedding proteins:  53%|███████████████████████████████▏                           | 893/1690 [03:47<03:12,  4.15it/s]"
     ]
    },
    {
     "name": "stdout",
     "output_type": "stream",
     "text": [
      "✅ Embedded 9606.ENSP00000253496\n",
      "✅ Embedded 9606.ENSP00000253680\n"
     ]
    },
    {
     "name": "stderr",
     "output_type": "stream",
     "text": [
      "Embedding proteins:  53%|███████████████████████████████▏                           | 895/1690 [03:47<03:12,  4.12it/s]"
     ]
    },
    {
     "name": "stdout",
     "output_type": "stream",
     "text": [
      "✅ Embedded 9606.ENSP00000253693\n",
      "✅ Embedded 9606.ENSP00000253727\n"
     ]
    },
    {
     "name": "stderr",
     "output_type": "stream",
     "text": [
      "Embedding proteins:  53%|███████████████████████████████▎                           | 896/1690 [03:47<03:07,  4.23it/s]"
     ]
    },
    {
     "name": "stdout",
     "output_type": "stream",
     "text": [
      "✅ Embedded 9606.ENSP00000253778\n"
     ]
    },
    {
     "name": "stderr",
     "output_type": "stream",
     "text": [
      "Embedding proteins:  53%|███████████████████████████████▎                           | 898/1690 [03:48<03:29,  3.78it/s]"
     ]
    },
    {
     "name": "stdout",
     "output_type": "stream",
     "text": [
      "✅ Embedded 9606.ENSP00000253792\n",
      "✅ Embedded 9606.ENSP00000253801\n",
      "✅ Embedded 9606.ENSP00000253968\n"
     ]
    },
    {
     "name": "stderr",
     "output_type": "stream",
     "text": [
      "Embedding proteins:  53%|███████████████████████████████▍                           | 901/1690 [03:49<02:33,  5.14it/s]"
     ]
    },
    {
     "name": "stdout",
     "output_type": "stream",
     "text": [
      "✅ Embedded 9606.ENSP00000254051\n",
      "✅ Embedded 9606.ENSP00000254066\n",
      "✅ Embedded 9606.ENSP00000254079\n"
     ]
    },
    {
     "name": "stderr",
     "output_type": "stream",
     "text": [
      "Embedding proteins:  53%|███████████████████████████████▌                           | 904/1690 [03:49<02:01,  6.44it/s]"
     ]
    },
    {
     "name": "stdout",
     "output_type": "stream",
     "text": [
      "✅ Embedded 9606.ENSP00000254101\n",
      "✅ Embedded 9606.ENSP00000254108\n",
      "✅ Embedded 9606.ENSP00000254122\n",
      "✅ Embedded 9606.ENSP00000254227\n"
     ]
    },
    {
     "name": "stderr",
     "output_type": "stream",
     "text": [
      "Embedding proteins:  54%|███████████████████████████████▋                           | 909/1690 [03:50<01:59,  6.51it/s]"
     ]
    },
    {
     "name": "stdout",
     "output_type": "stream",
     "text": [
      "✅ Embedded 9606.ENSP00000254235\n",
      "✅ Embedded 9606.ENSP00000254301\n",
      "✅ Embedded 9606.ENSP00000254322\n"
     ]
    },
    {
     "name": "stderr",
     "output_type": "stream",
     "text": [
      "Embedding proteins:  54%|███████████████████████████████▊                           | 910/1690 [03:50<02:38,  4.92it/s]"
     ]
    },
    {
     "name": "stdout",
     "output_type": "stream",
     "text": [
      "✅ Embedded 9606.ENSP00000254325\n",
      "✅ Embedded 9606.ENSP00000254351\n"
     ]
    },
    {
     "name": "stderr",
     "output_type": "stream",
     "text": [
      "Embedding proteins:  54%|███████████████████████████████▊                           | 913/1690 [03:50<02:03,  6.27it/s]"
     ]
    },
    {
     "name": "stdout",
     "output_type": "stream",
     "text": [
      "✅ Embedded 9606.ENSP00000254436\n",
      "✅ Embedded 9606.ENSP00000254457\n"
     ]
    },
    {
     "name": "stderr",
     "output_type": "stream",
     "text": [
      "Embedding proteins:  54%|███████████████████████████████▉                           | 914/1690 [03:51<01:57,  6.62it/s]"
     ]
    },
    {
     "name": "stdout",
     "output_type": "stream",
     "text": [
      "✅ Embedded 9606.ENSP00000254654\n"
     ]
    },
    {
     "name": "stderr",
     "output_type": "stream",
     "text": [
      "Embedding proteins:  54%|███████████████████████████████▉                           | 915/1690 [03:51<03:30,  3.68it/s]"
     ]
    },
    {
     "name": "stdout",
     "output_type": "stream",
     "text": [
      "✅ Embedded 9606.ENSP00000254657\n"
     ]
    },
    {
     "name": "stderr",
     "output_type": "stream",
     "text": [
      "Embedding proteins:  54%|███████████████████████████████▉                           | 916/1690 [03:51<03:28,  3.71it/s]"
     ]
    },
    {
     "name": "stdout",
     "output_type": "stream",
     "text": [
      "✅ Embedded 9606.ENSP00000254667\n"
     ]
    },
    {
     "name": "stderr",
     "output_type": "stream",
     "text": [
      "Embedding proteins:  54%|████████████████████████████████                           | 918/1690 [03:52<02:59,  4.30it/s]"
     ]
    },
    {
     "name": "stdout",
     "output_type": "stream",
     "text": [
      "✅ Embedded 9606.ENSP00000254695\n",
      "✅ Embedded 9606.ENSP00000254722\n",
      "✅ Embedded 9606.ENSP00000254801\n",
      "✅ Embedded 9606.ENSP00000254810\n"
     ]
    },
    {
     "name": "stderr",
     "output_type": "stream",
     "text": [
      "Embedding proteins:  54%|████████████████████████████████▏                          | 921/1690 [03:52<02:21,  5.42it/s]"
     ]
    },
    {
     "name": "stdout",
     "output_type": "stream",
     "text": [
      "✅ Embedded 9606.ENSP00000254835\n"
     ]
    },
    {
     "name": "stderr",
     "output_type": "stream",
     "text": [
      "Embedding proteins:  55%|████████████████████████████████▏                          | 922/1690 [03:53<04:47,  2.68it/s]"
     ]
    },
    {
     "name": "stdout",
     "output_type": "stream",
     "text": [
      "✅ Embedded 9606.ENSP00000254846\n"
     ]
    },
    {
     "name": "stderr",
     "output_type": "stream",
     "text": [
      "Embedding proteins:  55%|████████████████████████████████▎                          | 924/1690 [03:54<04:25,  2.89it/s]"
     ]
    },
    {
     "name": "stdout",
     "output_type": "stream",
     "text": [
      "✅ Embedded 9606.ENSP00000254854\n",
      "✅ Embedded 9606.ENSP00000254950\n"
     ]
    },
    {
     "name": "stderr",
     "output_type": "stream",
     "text": [
      "Embedding proteins:  55%|████████████████████████████████▎                          | 925/1690 [03:55<05:23,  2.36it/s]"
     ]
    },
    {
     "name": "stdout",
     "output_type": "stream",
     "text": [
      "✅ Embedded 9606.ENSP00000254958\n"
     ]
    },
    {
     "name": "stderr",
     "output_type": "stream",
     "text": [
      "Embedding proteins:  55%|████████████████████████████████▍                          | 928/1690 [03:55<03:06,  4.08it/s]"
     ]
    },
    {
     "name": "stdout",
     "output_type": "stream",
     "text": [
      "✅ Embedded 9606.ENSP00000254963\n",
      "✅ Embedded 9606.ENSP00000254976\n",
      "✅ Embedded 9606.ENSP00000255030\n"
     ]
    },
    {
     "name": "stderr",
     "output_type": "stream",
     "text": [
      "Embedding proteins:  55%|████████████████████████████████▍                          | 930/1690 [03:56<03:15,  3.89it/s]"
     ]
    },
    {
     "name": "stdout",
     "output_type": "stream",
     "text": [
      "✅ Embedded 9606.ENSP00000255078\n",
      "✅ Embedded 9606.ENSP00000255087\n"
     ]
    },
    {
     "name": "stderr",
     "output_type": "stream",
     "text": [
      "Embedding proteins:  55%|████████████████████████████████▌                          | 931/1690 [03:56<04:11,  3.02it/s]"
     ]
    },
    {
     "name": "stdout",
     "output_type": "stream",
     "text": [
      "✅ Embedded 9606.ENSP00000255194\n"
     ]
    },
    {
     "name": "stderr",
     "output_type": "stream",
     "text": [
      "Embedding proteins:  55%|████████████████████████████████▌                          | 932/1690 [03:57<04:15,  2.97it/s]"
     ]
    },
    {
     "name": "stdout",
     "output_type": "stream",
     "text": [
      "✅ Embedded 9606.ENSP00000255266\n"
     ]
    },
    {
     "name": "stderr",
     "output_type": "stream",
     "text": [
      "Embedding proteins:  55%|████████████████████████████████▌                          | 933/1690 [03:58<07:55,  1.59it/s]"
     ]
    },
    {
     "name": "stdout",
     "output_type": "stream",
     "text": [
      "✅ Embedded 9606.ENSP00000255381\n",
      "✅ Embedded 9606.ENSP00000255409\n"
     ]
    },
    {
     "name": "stderr",
     "output_type": "stream",
     "text": [
      "Embedding proteins:  55%|████████████████████████████████▋                          | 936/1690 [03:59<04:30,  2.79it/s]"
     ]
    },
    {
     "name": "stdout",
     "output_type": "stream",
     "text": [
      "✅ Embedded 9606.ENSP00000255448\n",
      "✅ Embedded 9606.ENSP00000255465\n"
     ]
    },
    {
     "name": "stderr",
     "output_type": "stream",
     "text": [
      "Embedding proteins:  56%|████████████████████████████████▊                          | 939/1690 [03:59<02:34,  4.87it/s]"
     ]
    },
    {
     "name": "stdout",
     "output_type": "stream",
     "text": [
      "✅ Embedded 9606.ENSP00000255499\n",
      "✅ Embedded 9606.ENSP00000255681\n",
      "✅ Embedded 9606.ENSP00000256078\n",
      "✅ Embedded 9606.ENSP00000256104\n"
     ]
    },
    {
     "name": "stderr",
     "output_type": "stream",
     "text": [
      "Embedding proteins:  56%|████████████████████████████████▉                          | 943/1690 [03:59<01:28,  8.43it/s]"
     ]
    },
    {
     "name": "stdout",
     "output_type": "stream",
     "text": [
      "✅ Embedded 9606.ENSP00000256178\n",
      "✅ Embedded 9606.ENSP00000256196\n",
      "✅ Embedded 9606.ENSP00000256261\n",
      "✅ Embedded 9606.ENSP00000256383\n"
     ]
    },
    {
     "name": "stderr",
     "output_type": "stream",
     "text": [
      "Embedding proteins:  56%|████████████████████████████████▉                          | 945/1690 [03:59<01:16,  9.77it/s]"
     ]
    },
    {
     "name": "stdout",
     "output_type": "stream",
     "text": [
      "✅ Embedded 9606.ENSP00000256404\n",
      "✅ Embedded 9606.ENSP00000256442\n"
     ]
    },
    {
     "name": "stderr",
     "output_type": "stream",
     "text": [
      "Embedding proteins:  56%|█████████████████████████████████                          | 947/1690 [03:59<01:21,  9.13it/s]"
     ]
    },
    {
     "name": "stdout",
     "output_type": "stream",
     "text": [
      "✅ Embedded 9606.ENSP00000256443\n"
     ]
    },
    {
     "name": "stderr",
     "output_type": "stream",
     "text": [
      "Embedding proteins:  56%|█████████████████████████████████▏                         | 949/1690 [04:00<01:36,  7.69it/s]"
     ]
    },
    {
     "name": "stdout",
     "output_type": "stream",
     "text": [
      "✅ Embedded 9606.ENSP00000256458\n",
      "✅ Embedded 9606.ENSP00000256460\n",
      "✅ Embedded 9606.ENSP00000256474\n"
     ]
    },
    {
     "name": "stderr",
     "output_type": "stream",
     "text": [
      "Embedding proteins:  56%|█████████████████████████████████▏                         | 951/1690 [04:00<01:28,  8.36it/s]"
     ]
    },
    {
     "name": "stdout",
     "output_type": "stream",
     "text": [
      "✅ Embedded 9606.ENSP00000256495\n"
     ]
    },
    {
     "name": "stderr",
     "output_type": "stream",
     "text": [
      "Embedding proteins:  57%|█████████████████████████████████▎                         | 955/1690 [04:01<01:49,  6.74it/s]"
     ]
    },
    {
     "name": "stdout",
     "output_type": "stream",
     "text": [
      "✅ Embedded 9606.ENSP00000256509\n",
      "✅ Embedded 9606.ENSP00000256585\n",
      "✅ Embedded 9606.ENSP00000256594\n",
      "✅ Embedded 9606.ENSP00000256644\n",
      "✅ Embedded 9606.ENSP00000256646\n"
     ]
    },
    {
     "name": "stderr",
     "output_type": "stream",
     "text": [
      "Embedding proteins:  57%|█████████████████████████████████▍                         | 957/1690 [04:03<06:10,  1.98it/s]"
     ]
    },
    {
     "name": "stdout",
     "output_type": "stream",
     "text": [
      "✅ Embedded 9606.ENSP00000256652\n"
     ]
    },
    {
     "name": "stderr",
     "output_type": "stream",
     "text": [
      "Embedding proteins:  57%|█████████████████████████████████▍                         | 958/1690 [04:04<05:45,  2.12it/s]"
     ]
    },
    {
     "name": "stdout",
     "output_type": "stream",
     "text": [
      "✅ Embedded 9606.ENSP00000256658\n",
      "✅ Embedded 9606.ENSP00000256682\n"
     ]
    },
    {
     "name": "stderr",
     "output_type": "stream",
     "text": [
      "Embedding proteins:  57%|█████████████████████████████████▌                         | 960/1690 [04:05<06:14,  1.95it/s]"
     ]
    },
    {
     "name": "stdout",
     "output_type": "stream",
     "text": [
      "✅ Embedded 9606.ENSP00000256707\n"
     ]
    },
    {
     "name": "stderr",
     "output_type": "stream",
     "text": [
      "Embedding proteins:  57%|█████████████████████████████████▌                         | 961/1690 [04:05<05:54,  2.06it/s]"
     ]
    },
    {
     "name": "stdout",
     "output_type": "stream",
     "text": [
      "✅ Embedded 9606.ENSP00000256720\n",
      "✅ Embedded 9606.ENSP00000256759\n"
     ]
    },
    {
     "name": "stderr",
     "output_type": "stream",
     "text": [
      "Embedding proteins:  57%|█████████████████████████████████▋                         | 965/1690 [04:06<03:30,  3.45it/s]"
     ]
    },
    {
     "name": "stdout",
     "output_type": "stream",
     "text": [
      "✅ Embedded 9606.ENSP00000256797\n",
      "✅ Embedded 9606.ENSP00000256857\n",
      "✅ Embedded 9606.ENSP00000256897\n"
     ]
    },
    {
     "name": "stderr",
     "output_type": "stream",
     "text": [
      "Embedding proteins:  57%|█████████████████████████████████▊                         | 968/1690 [04:07<04:04,  2.95it/s]"
     ]
    },
    {
     "name": "stdout",
     "output_type": "stream",
     "text": [
      "✅ Embedded 9606.ENSP00000256935\n",
      "✅ Embedded 9606.ENSP00000256953\n",
      "✅ Embedded 9606.ENSP00000256996\n"
     ]
    },
    {
     "name": "stderr",
     "output_type": "stream",
     "text": [
      "Embedding proteins:  57%|█████████████████████████████████▊                         | 969/1690 [04:08<04:21,  2.75it/s]"
     ]
    },
    {
     "name": "stdout",
     "output_type": "stream",
     "text": [
      "✅ Embedded 9606.ENSP00000257189\n"
     ]
    },
    {
     "name": "stderr",
     "output_type": "stream",
     "text": [
      "Embedding proteins:  57%|█████████████████████████████████▊                         | 970/1690 [04:08<04:50,  2.48it/s]"
     ]
    },
    {
     "name": "stdout",
     "output_type": "stream",
     "text": [
      "✅ Embedded 9606.ENSP00000257290\n"
     ]
    },
    {
     "name": "stderr",
     "output_type": "stream",
     "text": [
      "Embedding proteins:  57%|█████████████████████████████████▉                         | 971/1690 [04:09<05:02,  2.37it/s]"
     ]
    },
    {
     "name": "stdout",
     "output_type": "stream",
     "text": [
      "✅ Embedded 9606.ENSP00000257408\n"
     ]
    },
    {
     "name": "stderr",
     "output_type": "stream",
     "text": [
      "Embedding proteins:  58%|█████████████████████████████████▉                         | 973/1690 [04:12<09:07,  1.31it/s]"
     ]
    },
    {
     "name": "stdout",
     "output_type": "stream",
     "text": [
      "✅ Embedded 9606.ENSP00000257430\n",
      "✅ Embedded 9606.ENSP00000257497\n"
     ]
    },
    {
     "name": "stderr",
     "output_type": "stream",
     "text": [
      "Embedding proteins:  58%|██████████████████████████████████                         | 974/1690 [04:12<07:25,  1.61it/s]"
     ]
    },
    {
     "name": "stdout",
     "output_type": "stream",
     "text": [
      "✅ Embedded 9606.ENSP00000257555\n"
     ]
    },
    {
     "name": "stderr",
     "output_type": "stream",
     "text": [
      "Embedding proteins:  58%|██████████████████████████████████                         | 975/1690 [04:12<06:20,  1.88it/s]"
     ]
    },
    {
     "name": "stdout",
     "output_type": "stream",
     "text": [
      "✅ Embedded 9606.ENSP00000257566\n",
      "✅ Embedded 9606.ENSP00000257627\n"
     ]
    },
    {
     "name": "stderr",
     "output_type": "stream",
     "text": [
      "Embedding proteins:  58%|██████████████████████████████████▏                        | 978/1690 [04:13<03:56,  3.01it/s]"
     ]
    },
    {
     "name": "stdout",
     "output_type": "stream",
     "text": [
      "✅ Embedded 9606.ENSP00000257749\n",
      "✅ Embedded 9606.ENSP00000257770\n"
     ]
    },
    {
     "name": "stderr",
     "output_type": "stream",
     "text": [
      "Embedding proteins:  58%|██████████████████████████████████▏                        | 980/1690 [04:13<02:52,  4.11it/s]"
     ]
    },
    {
     "name": "stdout",
     "output_type": "stream",
     "text": [
      "✅ Embedded 9606.ENSP00000257857\n",
      "✅ Embedded 9606.ENSP00000257860\n"
     ]
    },
    {
     "name": "stderr",
     "output_type": "stream",
     "text": [
      "Embedding proteins:  58%|██████████████████████████████████▎                        | 983/1690 [04:13<01:51,  6.34it/s]"
     ]
    },
    {
     "name": "stdout",
     "output_type": "stream",
     "text": [
      "✅ Embedded 9606.ENSP00000257868\n",
      "✅ Embedded 9606.ENSP00000257904\n",
      "✅ Embedded 9606.ENSP00000257905\n"
     ]
    },
    {
     "name": "stderr",
     "output_type": "stream",
     "text": [
      "Embedding proteins:  58%|██████████████████████████████████▍                        | 985/1690 [04:14<01:45,  6.67it/s]"
     ]
    },
    {
     "name": "stdout",
     "output_type": "stream",
     "text": [
      "✅ Embedded 9606.ENSP00000257915\n",
      "✅ Embedded 9606.ENSP00000258042\n"
     ]
    },
    {
     "name": "stderr",
     "output_type": "stream",
     "text": [
      "Embedding proteins:  58%|██████████████████████████████████▍                        | 987/1690 [04:14<01:45,  6.63it/s]"
     ]
    },
    {
     "name": "stdout",
     "output_type": "stream",
     "text": [
      "✅ Embedded 9606.ENSP00000258052\n",
      "✅ Embedded 9606.ENSP00000258080\n"
     ]
    },
    {
     "name": "stderr",
     "output_type": "stream",
     "text": [
      "Embedding proteins:  59%|██████████████████████████████████▌                        | 989/1690 [04:14<01:56,  6.01it/s]"
     ]
    },
    {
     "name": "stdout",
     "output_type": "stream",
     "text": [
      "✅ Embedded 9606.ENSP00000258091\n",
      "✅ Embedded 9606.ENSP00000258168\n"
     ]
    },
    {
     "name": "stderr",
     "output_type": "stream",
     "text": [
      "Embedding proteins:  59%|██████████████████████████████████▌                        | 991/1690 [04:14<01:52,  6.20it/s]"
     ]
    },
    {
     "name": "stdout",
     "output_type": "stream",
     "text": [
      "✅ Embedded 9606.ENSP00000258411\n",
      "✅ Embedded 9606.ENSP00000258415\n"
     ]
    },
    {
     "name": "stderr",
     "output_type": "stream",
     "text": [
      "Embedding proteins:  59%|██████████████████████████████████▋                        | 993/1690 [04:15<01:27,  7.97it/s]"
     ]
    },
    {
     "name": "stdout",
     "output_type": "stream",
     "text": [
      "✅ Embedded 9606.ENSP00000258416\n",
      "✅ Embedded 9606.ENSP00000258418\n",
      "✅ Embedded 9606.ENSP00000258743\n"
     ]
    },
    {
     "name": "stderr",
     "output_type": "stream",
     "text": [
      "Embedding proteins:  59%|██████████████████████████████████▊                        | 997/1690 [04:15<01:36,  7.18it/s]"
     ]
    },
    {
     "name": "stdout",
     "output_type": "stream",
     "text": [
      "✅ Embedded 9606.ENSP00000258787\n",
      "✅ Embedded 9606.ENSP00000258930\n",
      "✅ Embedded 9606.ENSP00000258962\n"
     ]
    },
    {
     "name": "stderr",
     "output_type": "stream",
     "text": [
      "Embedding proteins:  59%|██████████████████████████████████▉                        | 999/1690 [04:16<01:47,  6.43it/s]"
     ]
    },
    {
     "name": "stdout",
     "output_type": "stream",
     "text": [
      "✅ Embedded 9606.ENSP00000259021\n",
      "✅ Embedded 9606.ENSP00000259089\n"
     ]
    },
    {
     "name": "stderr",
     "output_type": "stream",
     "text": [
      "Embedding proteins:  59%|██████████████████████████████████▎                       | 1000/1690 [04:16<02:05,  5.49it/s]"
     ]
    },
    {
     "name": "stdout",
     "output_type": "stream",
     "text": [
      "✅ Embedded 9606.ENSP00000259119\n",
      "✅ Embedded 9606.ENSP00000259206\n"
     ]
    },
    {
     "name": "stderr",
     "output_type": "stream",
     "text": [
      "Embedding proteins:  59%|██████████████████████████████████▍                       | 1002/1690 [04:17<02:38,  4.33it/s]"
     ]
    },
    {
     "name": "stdout",
     "output_type": "stream",
     "text": [
      "✅ Embedded 9606.ENSP00000259406\n",
      "✅ Embedded 9606.ENSP00000259469\n"
     ]
    },
    {
     "name": "stderr",
     "output_type": "stream",
     "text": [
      "Embedding proteins:  59%|██████████████████████████████████▍                       | 1004/1690 [04:17<02:34,  4.43it/s]"
     ]
    },
    {
     "name": "stdout",
     "output_type": "stream",
     "text": [
      "✅ Embedded 9606.ENSP00000259486\n"
     ]
    },
    {
     "name": "stderr",
     "output_type": "stream",
     "text": [
      "Embedding proteins:  60%|██████████████████████████████████▌                       | 1006/1690 [04:17<02:13,  5.14it/s]"
     ]
    },
    {
     "name": "stdout",
     "output_type": "stream",
     "text": [
      "✅ Embedded 9606.ENSP00000259708\n",
      "✅ Embedded 9606.ENSP00000259727\n"
     ]
    },
    {
     "name": "stderr",
     "output_type": "stream",
     "text": [
      "Embedding proteins:  60%|██████████████████████████████████▌                       | 1008/1690 [04:18<03:08,  3.61it/s]"
     ]
    },
    {
     "name": "stdout",
     "output_type": "stream",
     "text": [
      "✅ Embedded 9606.ENSP00000259750\n",
      "✅ Embedded 9606.ENSP00000259806\n"
     ]
    },
    {
     "name": "stderr",
     "output_type": "stream",
     "text": [
      "Embedding proteins:  60%|██████████████████████████████████▋                       | 1011/1690 [04:19<02:06,  5.37it/s]"
     ]
    },
    {
     "name": "stdout",
     "output_type": "stream",
     "text": [
      "✅ Embedded 9606.ENSP00000259808\n",
      "✅ Embedded 9606.ENSP00000259874\n",
      "✅ Embedded 9606.ENSP00000259915\n",
      "✅ Embedded 9606.ENSP00000259988\n"
     ]
    },
    {
     "name": "stderr",
     "output_type": "stream",
     "text": [
      "Embedding proteins:  60%|██████████████████████████████████▊                       | 1013/1690 [04:19<02:06,  5.36it/s]"
     ]
    },
    {
     "name": "stdout",
     "output_type": "stream",
     "text": [
      "✅ Embedded 9606.ENSP00000260010\n"
     ]
    },
    {
     "name": "stderr",
     "output_type": "stream",
     "text": [
      "Embedding proteins:  60%|██████████████████████████████████▊                       | 1014/1690 [04:19<02:32,  4.44it/s]"
     ]
    },
    {
     "name": "stdout",
     "output_type": "stream",
     "text": [
      "✅ Embedded 9606.ENSP00000260128\n"
     ]
    },
    {
     "name": "stderr",
     "output_type": "stream",
     "text": [
      "Embedding proteins:  60%|██████████████████████████████████▉                       | 1017/1690 [04:20<01:58,  5.67it/s]"
     ]
    },
    {
     "name": "stdout",
     "output_type": "stream",
     "text": [
      "✅ Embedded 9606.ENSP00000260187\n",
      "✅ Embedded 9606.ENSP00000260227\n",
      "✅ Embedded 9606.ENSP00000260264\n"
     ]
    },
    {
     "name": "stderr",
     "output_type": "stream",
     "text": [
      "Embedding proteins:  60%|██████████████████████████████████▉                       | 1018/1690 [04:20<01:55,  5.84it/s]"
     ]
    },
    {
     "name": "stdout",
     "output_type": "stream",
     "text": [
      "✅ Embedded 9606.ENSP00000260302\n"
     ]
    },
    {
     "name": "stderr",
     "output_type": "stream",
     "text": [
      "Embedding proteins:  60%|██████████████████████████████████▉                       | 1019/1690 [04:21<03:08,  3.57it/s]"
     ]
    },
    {
     "name": "stdout",
     "output_type": "stream",
     "text": [
      "✅ Embedded 9606.ENSP00000260356\n"
     ]
    },
    {
     "name": "stderr",
     "output_type": "stream",
     "text": [
      "Embedding proteins:  60%|███████████████████████████████████                       | 1020/1690 [04:21<03:38,  3.06it/s]"
     ]
    },
    {
     "name": "stdout",
     "output_type": "stream",
     "text": [
      "✅ Embedded 9606.ENSP00000260363\n"
     ]
    },
    {
     "name": "stderr",
     "output_type": "stream",
     "text": [
      "Embedding proteins:  60%|███████████████████████████████████                       | 1021/1690 [04:21<03:23,  3.29it/s]"
     ]
    },
    {
     "name": "stdout",
     "output_type": "stream",
     "text": [
      "✅ Embedded 9606.ENSP00000260404\n"
     ]
    },
    {
     "name": "stderr",
     "output_type": "stream",
     "text": [
      "Embedding proteins:  61%|███████████████████████████████████                       | 1023/1690 [04:22<02:57,  3.76it/s]"
     ]
    },
    {
     "name": "stdout",
     "output_type": "stream",
     "text": [
      "✅ Embedded 9606.ENSP00000260408\n",
      "✅ Embedded 9606.ENSP00000260433\n"
     ]
    },
    {
     "name": "stderr",
     "output_type": "stream",
     "text": [
      "Embedding proteins:  61%|███████████████████████████████████▏                      | 1025/1690 [04:22<03:18,  3.35it/s]"
     ]
    },
    {
     "name": "stdout",
     "output_type": "stream",
     "text": [
      "✅ Embedded 9606.ENSP00000260600\n",
      "✅ Embedded 9606.ENSP00000260630\n"
     ]
    },
    {
     "name": "stderr",
     "output_type": "stream",
     "text": [
      "Embedding proteins:  61%|███████████████████████████████████▏                      | 1027/1690 [04:23<02:26,  4.54it/s]"
     ]
    },
    {
     "name": "stdout",
     "output_type": "stream",
     "text": [
      "✅ Embedded 9606.ENSP00000260643\n",
      "✅ Embedded 9606.ENSP00000260682\n"
     ]
    },
    {
     "name": "stderr",
     "output_type": "stream",
     "text": [
      "Embedding proteins:  61%|███████████████████████████████████▎                      | 1028/1690 [04:23<03:21,  3.29it/s]"
     ]
    },
    {
     "name": "stdout",
     "output_type": "stream",
     "text": [
      "✅ Embedded 9606.ENSP00000260731\n"
     ]
    },
    {
     "name": "stderr",
     "output_type": "stream",
     "text": [
      "Embedding proteins:  61%|███████████████████████████████████▎                      | 1030/1690 [04:24<02:44,  4.02it/s]"
     ]
    },
    {
     "name": "stdout",
     "output_type": "stream",
     "text": [
      "✅ Embedded 9606.ENSP00000260926\n",
      "✅ Embedded 9606.ENSP00000260950\n"
     ]
    },
    {
     "name": "stderr",
     "output_type": "stream",
     "text": [
      "Embedding proteins:  61%|███████████████████████████████████▍                      | 1031/1690 [04:24<02:20,  4.71it/s]"
     ]
    },
    {
     "name": "stdout",
     "output_type": "stream",
     "text": [
      "✅ Embedded 9606.ENSP00000260967\n"
     ]
    },
    {
     "name": "stderr",
     "output_type": "stream",
     "text": [
      "Embedding proteins:  61%|███████████████████████████████████▍                      | 1032/1690 [04:24<02:35,  4.24it/s]"
     ]
    },
    {
     "name": "stdout",
     "output_type": "stream",
     "text": [
      "✅ Embedded 9606.ENSP00000260970\n"
     ]
    },
    {
     "name": "stderr",
     "output_type": "stream",
     "text": [
      "Embedding proteins:  61%|███████████████████████████████████▍                      | 1034/1690 [04:25<03:53,  2.81it/s]"
     ]
    },
    {
     "name": "stdout",
     "output_type": "stream",
     "text": [
      "✅ Embedded 9606.ENSP00000260983\n",
      "✅ Embedded 9606.ENSP00000261024\n",
      "✅ Embedded 9606.ENSP00000261047\n"
     ]
    },
    {
     "name": "stderr",
     "output_type": "stream",
     "text": [
      "Embedding proteins:  61%|███████████████████████████████████▌                      | 1036/1690 [04:25<02:54,  3.74it/s]"
     ]
    },
    {
     "name": "stdout",
     "output_type": "stream",
     "text": [
      "✅ Embedded 9606.ENSP00000261195\n"
     ]
    },
    {
     "name": "stderr",
     "output_type": "stream",
     "text": [
      "Embedding proteins:  61%|███████████████████████████████████▌                      | 1037/1690 [04:26<04:42,  2.31it/s]"
     ]
    },
    {
     "name": "stdout",
     "output_type": "stream",
     "text": [
      "✅ Embedded 9606.ENSP00000261200\n"
     ]
    },
    {
     "name": "stderr",
     "output_type": "stream",
     "text": [
      "Embedding proteins:  61%|███████████████████████████████████▋                      | 1039/1690 [04:27<04:08,  2.62it/s]"
     ]
    },
    {
     "name": "stdout",
     "output_type": "stream",
     "text": [
      "✅ Embedded 9606.ENSP00000261207\n",
      "✅ Embedded 9606.ENSP00000261211\n"
     ]
    },
    {
     "name": "stderr",
     "output_type": "stream",
     "text": [
      "Embedding proteins:  62%|███████████████████████████████████▊                      | 1042/1690 [04:27<02:20,  4.62it/s]"
     ]
    },
    {
     "name": "stdout",
     "output_type": "stream",
     "text": [
      "✅ Embedded 9606.ENSP00000261233\n",
      "✅ Embedded 9606.ENSP00000261254\n",
      "✅ Embedded 9606.ENSP00000261267\n"
     ]
    },
    {
     "name": "stderr",
     "output_type": "stream",
     "text": [
      "Embedding proteins:  62%|███████████████████████████████████▊                      | 1043/1690 [04:28<02:12,  4.90it/s]"
     ]
    },
    {
     "name": "stdout",
     "output_type": "stream",
     "text": [
      "✅ Embedded 9606.ENSP00000261302\n",
      "✅ Embedded 9606.ENSP00000261313\n"
     ]
    },
    {
     "name": "stderr",
     "output_type": "stream",
     "text": [
      "Embedding proteins:  62%|███████████████████████████████████▊                      | 1045/1690 [04:29<03:39,  2.93it/s]"
     ]
    },
    {
     "name": "stdout",
     "output_type": "stream",
     "text": [
      "✅ Embedded 9606.ENSP00000261349\n"
     ]
    },
    {
     "name": "stderr",
     "output_type": "stream",
     "text": [
      "Embedding proteins:  62%|███████████████████████████████████▉                      | 1047/1690 [04:29<03:13,  3.33it/s]"
     ]
    },
    {
     "name": "stdout",
     "output_type": "stream",
     "text": [
      "✅ Embedded 9606.ENSP00000261381\n",
      "✅ Embedded 9606.ENSP00000261386\n"
     ]
    },
    {
     "name": "stderr",
     "output_type": "stream",
     "text": [
      "Embedding proteins:  62%|███████████████████████████████████▉                      | 1048/1690 [04:29<03:05,  3.47it/s]"
     ]
    },
    {
     "name": "stdout",
     "output_type": "stream",
     "text": [
      "✅ Embedded 9606.ENSP00000261402\n"
     ]
    },
    {
     "name": "stderr",
     "output_type": "stream",
     "text": [
      "Embedding proteins:  62%|████████████████████████████████████                      | 1049/1690 [04:30<03:57,  2.70it/s]"
     ]
    },
    {
     "name": "stdout",
     "output_type": "stream",
     "text": [
      "✅ Embedded 9606.ENSP00000261439\n"
     ]
    },
    {
     "name": "stderr",
     "output_type": "stream",
     "text": [
      "Embedding proteins:  62%|████████████████████████████████████                      | 1051/1690 [04:31<03:10,  3.35it/s]"
     ]
    },
    {
     "name": "stdout",
     "output_type": "stream",
     "text": [
      "✅ Embedded 9606.ENSP00000261454\n",
      "✅ Embedded 9606.ENSP00000261461\n"
     ]
    },
    {
     "name": "stderr",
     "output_type": "stream",
     "text": [
      "Embedding proteins:  62%|████████████████████████████████████                      | 1052/1690 [04:31<02:42,  3.92it/s]"
     ]
    },
    {
     "name": "stdout",
     "output_type": "stream",
     "text": [
      "✅ Embedded 9606.ENSP00000261475\n"
     ]
    },
    {
     "name": "stderr",
     "output_type": "stream",
     "text": [
      "Embedding proteins:  62%|████████████████████████████████████▏                     | 1053/1690 [04:31<02:33,  4.16it/s]"
     ]
    },
    {
     "name": "stdout",
     "output_type": "stream",
     "text": [
      "✅ Embedded 9606.ENSP00000261523\n"
     ]
    },
    {
     "name": "stderr",
     "output_type": "stream",
     "text": [
      "Embedding proteins:  62%|████████████████████████████████████▏                     | 1054/1690 [04:31<03:05,  3.43it/s]"
     ]
    },
    {
     "name": "stdout",
     "output_type": "stream",
     "text": [
      "✅ Embedded 9606.ENSP00000261596\n"
     ]
    },
    {
     "name": "stderr",
     "output_type": "stream",
     "text": [
      "Embedding proteins:  62%|████████████████████████████████████▏                     | 1055/1690 [04:32<02:56,  3.61it/s]"
     ]
    },
    {
     "name": "stdout",
     "output_type": "stream",
     "text": [
      "✅ Embedded 9606.ENSP00000261597\n"
     ]
    },
    {
     "name": "stderr",
     "output_type": "stream",
     "text": [
      "Embedding proteins:  62%|████████████████████████████████████▏                     | 1056/1690 [04:41<31:14,  2.96s/it]"
     ]
    },
    {
     "name": "stdout",
     "output_type": "stream",
     "text": [
      "✅ Embedded 9606.ENSP00000261609\n",
      "✅ Embedded 9606.ENSP00000261636\n"
     ]
    },
    {
     "name": "stderr",
     "output_type": "stream",
     "text": [
      "Embedding proteins:  63%|████████████████████████████████████▎                     | 1059/1690 [04:41<13:23,  1.27s/it]"
     ]
    },
    {
     "name": "stdout",
     "output_type": "stream",
     "text": [
      "✅ Embedded 9606.ENSP00000261647\n",
      "✅ Embedded 9606.ENSP00000261669\n"
     ]
    },
    {
     "name": "stderr",
     "output_type": "stream",
     "text": [
      "Embedding proteins:  63%|████████████████████████████████████▍                     | 1060/1690 [04:41<10:21,  1.01it/s]"
     ]
    },
    {
     "name": "stdout",
     "output_type": "stream",
     "text": [
      "✅ Embedded 9606.ENSP00000261693\n"
     ]
    },
    {
     "name": "stderr",
     "output_type": "stream",
     "text": [
      "Embedding proteins:  63%|████████████████████████████████████▍                     | 1062/1690 [04:42<06:17,  1.66it/s]"
     ]
    },
    {
     "name": "stdout",
     "output_type": "stream",
     "text": [
      "✅ Embedded 9606.ENSP00000261707\n",
      "✅ Embedded 9606.ENSP00000261731\n"
     ]
    },
    {
     "name": "stderr",
     "output_type": "stream",
     "text": [
      "Embedding proteins:  63%|████████████████████████████████████▍                     | 1063/1690 [04:42<05:01,  2.08it/s]"
     ]
    },
    {
     "name": "stdout",
     "output_type": "stream",
     "text": [
      "✅ Embedded 9606.ENSP00000261733\n"
     ]
    },
    {
     "name": "stderr",
     "output_type": "stream",
     "text": [
      "Embedding proteins:  63%|████████████████████████████████████▌                     | 1064/1690 [04:42<04:44,  2.20it/s]"
     ]
    },
    {
     "name": "stdout",
     "output_type": "stream",
     "text": [
      "✅ Embedded 9606.ENSP00000261740\n"
     ]
    },
    {
     "name": "stderr",
     "output_type": "stream",
     "text": [
      "Embedding proteins:  63%|████████████████████████████████████▌                     | 1065/1690 [04:43<04:28,  2.33it/s]"
     ]
    },
    {
     "name": "stdout",
     "output_type": "stream",
     "text": [
      "✅ Embedded 9606.ENSP00000261769\n"
     ]
    },
    {
     "name": "stderr",
     "output_type": "stream",
     "text": [
      "Embedding proteins:  63%|████████████████████████████████████▌                     | 1066/1690 [04:43<04:42,  2.21it/s]"
     ]
    },
    {
     "name": "stdout",
     "output_type": "stream",
     "text": [
      "✅ Embedded 9606.ENSP00000261799\n"
     ]
    },
    {
     "name": "stderr",
     "output_type": "stream",
     "text": [
      "Embedding proteins:  63%|████████████████████████████████████▌                     | 1067/1690 [04:44<04:14,  2.45it/s]"
     ]
    },
    {
     "name": "stdout",
     "output_type": "stream",
     "text": [
      "✅ Embedded 9606.ENSP00000261819\n"
     ]
    },
    {
     "name": "stderr",
     "output_type": "stream",
     "text": [
      "Embedding proteins:  63%|████████████████████████████████████▋                     | 1068/1690 [04:45<06:32,  1.59it/s]"
     ]
    },
    {
     "name": "stdout",
     "output_type": "stream",
     "text": [
      "✅ Embedded 9606.ENSP00000261839\n"
     ]
    },
    {
     "name": "stderr",
     "output_type": "stream",
     "text": [
      "Embedding proteins:  63%|████████████████████████████████████▊                     | 1071/1690 [04:45<03:15,  3.16it/s]"
     ]
    },
    {
     "name": "stdout",
     "output_type": "stream",
     "text": [
      "✅ Embedded 9606.ENSP00000261845\n",
      "✅ Embedded 9606.ENSP00000261890\n",
      "✅ Embedded 9606.ENSP00000261891\n"
     ]
    },
    {
     "name": "stderr",
     "output_type": "stream",
     "text": [
      "Embedding proteins:  63%|████████████████████████████████████▊                     | 1072/1690 [04:45<03:09,  3.27it/s]"
     ]
    },
    {
     "name": "stdout",
     "output_type": "stream",
     "text": [
      "✅ Embedded 9606.ENSP00000261900\n"
     ]
    },
    {
     "name": "stderr",
     "output_type": "stream",
     "text": [
      "Embedding proteins:  63%|████████████████████████████████████▊                     | 1073/1690 [04:46<04:31,  2.27it/s]"
     ]
    },
    {
     "name": "stdout",
     "output_type": "stream",
     "text": [
      "✅ Embedded 9606.ENSP00000261908\n"
     ]
    },
    {
     "name": "stderr",
     "output_type": "stream",
     "text": [
      "Embedding proteins:  64%|████████████████████████████████████▊                     | 1074/1690 [04:46<04:01,  2.55it/s]"
     ]
    },
    {
     "name": "stdout",
     "output_type": "stream",
     "text": [
      "✅ Embedded 9606.ENSP00000261918\n"
     ]
    },
    {
     "name": "stderr",
     "output_type": "stream",
     "text": [
      "Embedding proteins:  64%|████████████████████████████████████▉                     | 1075/1690 [04:47<05:01,  2.04it/s]"
     ]
    },
    {
     "name": "stdout",
     "output_type": "stream",
     "text": [
      "✅ Embedded 9606.ENSP00000261937\n"
     ]
    },
    {
     "name": "stderr",
     "output_type": "stream",
     "text": [
      "Embedding proteins:  64%|████████████████████████████████████▉                     | 1077/1690 [04:48<03:31,  2.89it/s]"
     ]
    },
    {
     "name": "stdout",
     "output_type": "stream",
     "text": [
      "✅ Embedded 9606.ENSP00000261991\n",
      "✅ Embedded 9606.ENSP00000262018\n"
     ]
    },
    {
     "name": "stderr",
     "output_type": "stream",
     "text": [
      "Embedding proteins:  64%|████████████████████████████████████▉                     | 1078/1690 [04:48<03:32,  2.88it/s]"
     ]
    },
    {
     "name": "stdout",
     "output_type": "stream",
     "text": [
      "✅ Embedded 9606.ENSP00000262039\n",
      "✅ Embedded 9606.ENSP00000262053\n"
     ]
    },
    {
     "name": "stderr",
     "output_type": "stream",
     "text": [
      "Embedding proteins:  64%|█████████████████████████████████████                     | 1081/1690 [04:48<02:16,  4.48it/s]"
     ]
    },
    {
     "name": "stdout",
     "output_type": "stream",
     "text": [
      "✅ Embedded 9606.ENSP00000262056\n",
      "✅ Embedded 9606.ENSP00000262101\n",
      "✅ Embedded 9606.ENSP00000262103\n"
     ]
    },
    {
     "name": "stderr",
     "output_type": "stream",
     "text": [
      "Embedding proteins:  64%|█████████████████████████████████████▏                    | 1083/1690 [04:49<02:16,  4.45it/s]"
     ]
    },
    {
     "name": "stdout",
     "output_type": "stream",
     "text": [
      "✅ Embedded 9606.ENSP00000262105\n"
     ]
    },
    {
     "name": "stderr",
     "output_type": "stream",
     "text": [
      "Embedding proteins:  64%|█████████████████████████████████████▏                    | 1084/1690 [04:49<03:02,  3.33it/s]"
     ]
    },
    {
     "name": "stdout",
     "output_type": "stream",
     "text": [
      "✅ Embedded 9606.ENSP00000262133\n"
     ]
    },
    {
     "name": "stderr",
     "output_type": "stream",
     "text": [
      "Embedding proteins:  64%|█████████████████████████████████████▏                    | 1085/1690 [04:50<02:46,  3.64it/s]"
     ]
    },
    {
     "name": "stdout",
     "output_type": "stream",
     "text": [
      "✅ Embedded 9606.ENSP00000262134\n",
      "✅ Embedded 9606.ENSP00000262138\n"
     ]
    },
    {
     "name": "stderr",
     "output_type": "stream",
     "text": [
      "Embedding proteins:  64%|█████████████████████████████████████▎                    | 1088/1690 [04:50<02:25,  4.14it/s]"
     ]
    },
    {
     "name": "stdout",
     "output_type": "stream",
     "text": [
      "✅ Embedded 9606.ENSP00000262144\n",
      "✅ Embedded 9606.ENSP00000262158\n"
     ]
    },
    {
     "name": "stderr",
     "output_type": "stream",
     "text": [
      "Embedding proteins:  64%|█████████████████████████████████████▎                    | 1089/1690 [04:50<02:12,  4.53it/s]"
     ]
    },
    {
     "name": "stdout",
     "output_type": "stream",
     "text": [
      "✅ Embedded 9606.ENSP00000262160\n",
      "✅ Embedded 9606.ENSP00000262187\n"
     ]
    },
    {
     "name": "stderr",
     "output_type": "stream",
     "text": [
      "Embedding proteins:  65%|█████████████████████████████████████▍                    | 1092/1690 [04:51<01:39,  5.99it/s]"
     ]
    },
    {
     "name": "stdout",
     "output_type": "stream",
     "text": [
      "✅ Embedded 9606.ENSP00000262211\n",
      "✅ Embedded 9606.ENSP00000262238\n"
     ]
    },
    {
     "name": "stderr",
     "output_type": "stream",
     "text": [
      "Embedding proteins:  65%|█████████████████████████████████████▌                    | 1094/1690 [04:52<03:50,  2.58it/s]"
     ]
    },
    {
     "name": "stdout",
     "output_type": "stream",
     "text": [
      "✅ Embedded 9606.ENSP00000262269\n",
      "✅ Embedded 9606.ENSP00000262291\n"
     ]
    },
    {
     "name": "stderr",
     "output_type": "stream",
     "text": [
      "Embedding proteins:  65%|█████████████████████████████████████▌                    | 1095/1690 [04:52<03:15,  3.05it/s]"
     ]
    },
    {
     "name": "stdout",
     "output_type": "stream",
     "text": [
      "✅ Embedded 9606.ENSP00000262300\n"
     ]
    },
    {
     "name": "stderr",
     "output_type": "stream",
     "text": [
      "Embedding proteins:  65%|█████████████████████████████████████▌                    | 1096/1690 [05:00<23:05,  2.33s/it]"
     ]
    },
    {
     "name": "stdout",
     "output_type": "stream",
     "text": [
      "✅ Embedded 9606.ENSP00000262304\n"
     ]
    },
    {
     "name": "stderr",
     "output_type": "stream",
     "text": [
      "Embedding proteins:  65%|█████████████████████████████████████▋                    | 1097/1690 [05:00<17:40,  1.79s/it]"
     ]
    },
    {
     "name": "stdout",
     "output_type": "stream",
     "text": [
      "✅ Embedded 9606.ENSP00000262320\n"
     ]
    },
    {
     "name": "stderr",
     "output_type": "stream",
     "text": [
      "Embedding proteins:  65%|█████████████████████████████████████▋                    | 1099/1690 [05:01<10:01,  1.02s/it]"
     ]
    },
    {
     "name": "stdout",
     "output_type": "stream",
     "text": [
      "✅ Embedded 9606.ENSP00000262345\n",
      "✅ Embedded 9606.ENSP00000248901\n"
     ]
    },
    {
     "name": "stderr",
     "output_type": "stream",
     "text": [
      "Embedding proteins:  65%|█████████████████████████████████████▊                    | 1100/1690 [05:02<10:04,  1.02s/it]"
     ]
    },
    {
     "name": "stdout",
     "output_type": "stream",
     "text": [
      "✅ Embedded 9606.ENSP00000240874\n"
     ]
    },
    {
     "name": "stderr",
     "output_type": "stream",
     "text": [
      "Embedding proteins:  65%|█████████████████████████████████████▊                    | 1102/1690 [05:03<06:23,  1.53it/s]"
     ]
    },
    {
     "name": "stdout",
     "output_type": "stream",
     "text": [
      "✅ Embedded 9606.ENSP00000245796\n",
      "✅ Embedded 9606.ENSP00000250244\n",
      "✅ Embedded 9606.ENSP00000254878\n"
     ]
    },
    {
     "name": "stderr",
     "output_type": "stream",
     "text": [
      "Embedding proteins:  65%|█████████████████████████████████████▉                    | 1105/1690 [05:03<03:11,  3.05it/s]"
     ]
    },
    {
     "name": "stdout",
     "output_type": "stream",
     "text": [
      "✅ Embedded 9606.ENSP00000253401\n",
      "✅ Embedded 9606.ENSP00000254584\n",
      "✅ Embedded 9606.ENSP00000253754\n"
     ]
    },
    {
     "name": "stderr",
     "output_type": "stream",
     "text": [
      "Embedding proteins:  66%|█████████████████████████████████████▉                    | 1107/1690 [05:03<02:11,  4.43it/s]"
     ]
    },
    {
     "name": "stdout",
     "output_type": "stream",
     "text": [
      "✅ Embedded 9606.ENSP00000258739\n"
     ]
    },
    {
     "name": "stderr",
     "output_type": "stream",
     "text": [
      "Embedding proteins:  66%|██████████████████████████████████████                    | 1108/1690 [05:03<02:23,  4.06it/s]"
     ]
    },
    {
     "name": "stdout",
     "output_type": "stream",
     "text": [
      "✅ Embedded 9606.ENSP00000262305\n"
     ]
    },
    {
     "name": "stderr",
     "output_type": "stream",
     "text": [
      "Embedding proteins:  66%|██████████████████████████████████████                    | 1109/1690 [05:04<03:09,  3.07it/s]"
     ]
    },
    {
     "name": "stdout",
     "output_type": "stream",
     "text": [
      "✅ Embedded 9606.ENSP00000261842\n"
     ]
    },
    {
     "name": "stderr",
     "output_type": "stream",
     "text": [
      "Embedding proteins:  66%|██████████████████████████████████████▏                   | 1111/1690 [05:05<03:07,  3.10it/s]"
     ]
    },
    {
     "name": "stdout",
     "output_type": "stream",
     "text": [
      "✅ Embedded 9606.ENSP00000261722\n",
      "✅ Embedded 9606.ENSP00000261558\n"
     ]
    },
    {
     "name": "stderr",
     "output_type": "stream",
     "text": [
      "Embedding proteins:  66%|██████████████████████████████████████▏                   | 1113/1690 [05:05<01:59,  4.85it/s]"
     ]
    },
    {
     "name": "stdout",
     "output_type": "stream",
     "text": [
      "✅ Embedded 9606.ENSP00000262061\n",
      "✅ Embedded 9606.ENSP00000262225\n"
     ]
    },
    {
     "name": "stderr",
     "output_type": "stream",
     "text": [
      "Embedding proteins:  66%|██████████████████████████████████████▎                   | 1115/1690 [05:06<03:36,  2.66it/s]"
     ]
    },
    {
     "name": "stdout",
     "output_type": "stream",
     "text": [
      "✅ Embedded 9606.ENSP00000262215\n",
      "✅ Embedded 9606.ENSP00000221957\n"
     ]
    },
    {
     "name": "stderr",
     "output_type": "stream",
     "text": [
      "Embedding proteins:  66%|██████████████████████████████████████▎                   | 1117/1690 [05:06<02:31,  3.77it/s]"
     ]
    },
    {
     "name": "stdout",
     "output_type": "stream",
     "text": [
      "✅ Embedded 9606.ENSP00000222219\n",
      "✅ Embedded 9606.ENSP00000244458\n",
      "✅ Embedded 9606.ENSP00000243298\n"
     ]
    },
    {
     "name": "stderr",
     "output_type": "stream",
     "text": [
      "Embedding proteins:  66%|██████████████████████████████████████▍                   | 1119/1690 [05:07<01:55,  4.95it/s]"
     ]
    },
    {
     "name": "stdout",
     "output_type": "stream",
     "text": [
      "✅ Embedded 9606.ENSP00000258145\n"
     ]
    },
    {
     "name": "stderr",
     "output_type": "stream",
     "text": [
      "Embedding proteins:  66%|██████████████████████████████████████▍                   | 1120/1690 [05:07<02:33,  3.70it/s]"
     ]
    },
    {
     "name": "stdout",
     "output_type": "stream",
     "text": [
      "✅ Embedded 9606.ENSP00000253083\n"
     ]
    },
    {
     "name": "stderr",
     "output_type": "stream",
     "text": [
      "Embedding proteins:  66%|██████████████████████████████████████▍                   | 1121/1690 [05:08<02:49,  3.36it/s]"
     ]
    },
    {
     "name": "stdout",
     "output_type": "stream",
     "text": [
      "✅ Embedded 9606.ENSP00000252771\n"
     ]
    },
    {
     "name": "stderr",
     "output_type": "stream",
     "text": [
      "Embedding proteins:  66%|██████████████████████████████████████▌                   | 1123/1690 [05:08<02:26,  3.86it/s]"
     ]
    },
    {
     "name": "stdout",
     "output_type": "stream",
     "text": [
      "✅ Embedded 9606.ENSP00000258062\n",
      "✅ Embedded 9606.ENSP00000261205\n"
     ]
    },
    {
     "name": "stderr",
     "output_type": "stream",
     "text": [
      "Embedding proteins:  67%|██████████████████████████████████████▌                   | 1125/1690 [05:08<02:01,  4.65it/s]"
     ]
    },
    {
     "name": "stdout",
     "output_type": "stream",
     "text": [
      "✅ Embedded 9606.ENSP00000262030\n",
      "✅ Embedded 9606.ENSP00000246802\n",
      "✅ Embedded 9606.ENSP00000222247\n"
     ]
    },
    {
     "name": "stderr",
     "output_type": "stream",
     "text": [
      "Embedding proteins:  67%|██████████████████████████████████████▋                   | 1129/1690 [05:09<01:12,  7.71it/s]"
     ]
    },
    {
     "name": "stdout",
     "output_type": "stream",
     "text": [
      "✅ Embedded 9606.ENSP00000238146\n",
      "✅ Embedded 9606.ENSP00000254940\n",
      "✅ Embedded 9606.ENSP00000259239\n",
      "✅ Embedded 9606.ENSP00000262033\n"
     ]
    },
    {
     "name": "stderr",
     "output_type": "stream",
     "text": [
      "Embedding proteins:  67%|██████████████████████████████████████▊                   | 1132/1690 [05:09<01:10,  7.87it/s]"
     ]
    },
    {
     "name": "stdout",
     "output_type": "stream",
     "text": [
      "✅ Embedded 9606.ENSP00000261942\n",
      "✅ Embedded 9606.ENSP00000222982\n"
     ]
    },
    {
     "name": "stderr",
     "output_type": "stream",
     "text": [
      "Embedding proteins:  67%|██████████████████████████████████████▉                   | 1135/1690 [05:09<01:03,  8.78it/s]"
     ]
    },
    {
     "name": "stdout",
     "output_type": "stream",
     "text": [
      "✅ Embedded 9606.ENSP00000222382\n",
      "✅ Embedded 9606.ENSP00000260270\n",
      "✅ Embedded 9606.ENSP00000260361\n"
     ]
    },
    {
     "name": "stderr",
     "output_type": "stream",
     "text": [
      "Embedding proteins:  67%|███████████████████████████████████████                   | 1137/1690 [05:10<00:55,  9.97it/s]"
     ]
    },
    {
     "name": "stdout",
     "output_type": "stream",
     "text": [
      "✅ Embedded 9606.ENSP00000259037\n",
      "✅ Embedded 9606.ENSP00000252711\n",
      "✅ Embedded 9606.ENSP00000233627\n",
      "✅ Embedded 9606.ENSP00000215565\n"
     ]
    },
    {
     "name": "stderr",
     "output_type": "stream",
     "text": [
      "Embedding proteins:  67%|███████████████████████████████████████                   | 1140/1690 [05:10<00:41, 13.38it/s]"
     ]
    },
    {
     "name": "stdout",
     "output_type": "stream",
     "text": [
      "✅ Embedded 9606.ENSP00000252102\n",
      "✅ Embedded 9606.ENSP00000237889\n",
      "✅ Embedded 9606.ENSP00000247866\n"
     ]
    },
    {
     "name": "stderr",
     "output_type": "stream",
     "text": [
      "Embedding proteins:  68%|███████████████████████████████████████▏                  | 1143/1690 [05:10<00:43, 12.57it/s]"
     ]
    },
    {
     "name": "stdout",
     "output_type": "stream",
     "text": [
      "✅ Embedded 9606.ENSP00000261858\n",
      "✅ Embedded 9606.ENSP00000261303\n"
     ]
    },
    {
     "name": "stderr",
     "output_type": "stream",
     "text": [
      "Embedding proteins:  68%|███████████████████████████████████████▎                  | 1145/1690 [05:10<00:50, 10.74it/s]"
     ]
    },
    {
     "name": "stdout",
     "output_type": "stream",
     "text": [
      "✅ Embedded 9606.ENSP00000218075\n",
      "✅ Embedded 9606.ENSP00000216455\n"
     ]
    },
    {
     "name": "stderr",
     "output_type": "stream",
     "text": [
      "Embedding proteins:  68%|███████████████████████████████████████▍                  | 1149/1690 [05:11<00:56,  9.60it/s]"
     ]
    },
    {
     "name": "stdout",
     "output_type": "stream",
     "text": [
      "✅ Embedded 9606.ENSP00000219473\n",
      "✅ Embedded 9606.ENSP00000225426\n",
      "✅ Embedded 9606.ENSP00000230085\n"
     ]
    },
    {
     "name": "stderr",
     "output_type": "stream",
     "text": [
      "Embedding proteins:  68%|███████████████████████████████████████▌                  | 1151/1690 [05:11<00:54,  9.93it/s]"
     ]
    },
    {
     "name": "stdout",
     "output_type": "stream",
     "text": [
      "✅ Embedded 9606.ENSP00000243253\n",
      "✅ Embedded 9606.ENSP00000248566\n",
      "✅ Embedded 9606.ENSP00000249647\n"
     ]
    },
    {
     "name": "stderr",
     "output_type": "stream",
     "text": [
      "Embedding proteins:  68%|███████████████████████████████████████▌                  | 1153/1690 [05:11<01:09,  7.76it/s]"
     ]
    },
    {
     "name": "stdout",
     "output_type": "stream",
     "text": [
      "✅ Embedded 9606.ENSP00000253577\n",
      "✅ Embedded 9606.ENSP00000254286\n"
     ]
    },
    {
     "name": "stderr",
     "output_type": "stream",
     "text": [
      "Embedding proteins:  68%|███████████████████████████████████████▋                  | 1155/1690 [05:12<01:05,  8.20it/s]"
     ]
    },
    {
     "name": "stdout",
     "output_type": "stream",
     "text": [
      "✅ Embedded 9606.ENSP00000258301\n"
     ]
    },
    {
     "name": "stderr",
     "output_type": "stream",
     "text": [
      "Embedding proteins:  68%|███████████████████████████████████████▋                  | 1156/1690 [05:12<01:14,  7.21it/s]"
     ]
    },
    {
     "name": "stdout",
     "output_type": "stream",
     "text": [
      "✅ Embedded 9606.ENSP00000256497\n",
      "✅ Embedded 9606.ENSP00000259512\n"
     ]
    },
    {
     "name": "stderr",
     "output_type": "stream",
     "text": [
      "Embedding proteins:  69%|███████████████████████████████████████▋                  | 1158/1690 [05:12<01:10,  7.51it/s]"
     ]
    },
    {
     "name": "stdout",
     "output_type": "stream",
     "text": [
      "✅ Embedded 9606.ENSP00000258796\n",
      "✅ Embedded 9606.ENSP00000259457\n"
     ]
    },
    {
     "name": "stderr",
     "output_type": "stream",
     "text": [
      "Embedding proteins:  69%|███████████████████████████████████████▉                  | 1162/1690 [05:13<01:07,  7.85it/s]"
     ]
    },
    {
     "name": "stdout",
     "output_type": "stream",
     "text": [
      "✅ Embedded 9606.ENSP00000260645\n",
      "✅ Embedded 9606.ENSP00000261479\n",
      "✅ Embedded 9606.ENSP00000261712\n"
     ]
    },
    {
     "name": "stderr",
     "output_type": "stream",
     "text": [
      "Embedding proteins:  69%|███████████████████████████████████████▉                  | 1164/1690 [05:13<01:05,  8.07it/s]"
     ]
    },
    {
     "name": "stdout",
     "output_type": "stream",
     "text": [
      "✅ Embedded 9606.ENSP00000262193\n",
      "✅ Embedded 9606.ENSP00000257570\n"
     ]
    },
    {
     "name": "stderr",
     "output_type": "stream",
     "text": [
      "Embedding proteins:  69%|███████████████████████████████████████▉                  | 1165/1690 [05:13<01:10,  7.46it/s]"
     ]
    },
    {
     "name": "stdout",
     "output_type": "stream",
     "text": [
      "✅ Embedded 9606.ENSP00000227868\n",
      "✅ Embedded 9606.ENSP00000259216\n",
      "✅ Embedded 9606.ENSP00000225525\n"
     ]
    },
    {
     "name": "stderr",
     "output_type": "stream",
     "text": [
      "Embedding proteins:  69%|████████████████████████████████████████                  | 1168/1690 [05:13<01:18,  6.68it/s]"
     ]
    },
    {
     "name": "stdout",
     "output_type": "stream",
     "text": [
      "✅ Embedded 9606.ENSP00000253861\n"
     ]
    },
    {
     "name": "stderr",
     "output_type": "stream",
     "text": [
      "Embedding proteins:  69%|████████████████████████████████████████                  | 1169/1690 [05:15<03:08,  2.77it/s]"
     ]
    },
    {
     "name": "stdout",
     "output_type": "stream",
     "text": [
      "✅ Embedded 9606.ENSP00000252172\n"
     ]
    },
    {
     "name": "stderr",
     "output_type": "stream",
     "text": [
      "Embedding proteins:  69%|████████████████████████████████████████▏                 | 1170/1690 [05:15<03:06,  2.80it/s]"
     ]
    },
    {
     "name": "stdout",
     "output_type": "stream",
     "text": [
      "✅ Embedded 9606.ENSP00000260762\n"
     ]
    },
    {
     "name": "stderr",
     "output_type": "stream",
     "text": [
      "Embedding proteins:  69%|████████████████████████████████████████▏                 | 1171/1690 [05:16<03:19,  2.60it/s]"
     ]
    },
    {
     "name": "stdout",
     "output_type": "stream",
     "text": [
      "✅ Embedded 9606.ENSP00000234389\n"
     ]
    },
    {
     "name": "stderr",
     "output_type": "stream",
     "text": [
      "Embedding proteins:  69%|████████████████████████████████████████▎                 | 1173/1690 [05:16<02:59,  2.88it/s]"
     ]
    },
    {
     "name": "stdout",
     "output_type": "stream",
     "text": [
      "✅ Embedded 9606.ENSP00000256343\n",
      "✅ Embedded 9606.ENSP00000261448\n",
      "✅ Embedded 9606.ENSP00000216366\n"
     ]
    },
    {
     "name": "stderr",
     "output_type": "stream",
     "text": [
      "Embedding proteins:  70%|████████████████████████████████████████▎                 | 1175/1690 [05:16<01:59,  4.31it/s]"
     ]
    },
    {
     "name": "stdout",
     "output_type": "stream",
     "text": [
      "✅ Embedded 9606.ENSP00000259470\n"
     ]
    },
    {
     "name": "stderr",
     "output_type": "stream",
     "text": [
      "Embedding proteins:  70%|████████████████████████████████████████▎                 | 1176/1690 [05:17<02:25,  3.54it/s]"
     ]
    },
    {
     "name": "stdout",
     "output_type": "stream",
     "text": [
      "✅ Embedded 9606.ENSP00000247986\n"
     ]
    },
    {
     "name": "stderr",
     "output_type": "stream",
     "text": [
      "Embedding proteins:  70%|████████████████████████████████████████▍                 | 1178/1690 [05:18<02:24,  3.55it/s]"
     ]
    },
    {
     "name": "stdout",
     "output_type": "stream",
     "text": [
      "✅ Embedded 9606.ENSP00000247170\n",
      "✅ Embedded 9606.ENSP00000255641\n",
      "✅ Embedded 9606.ENSP00000258302\n"
     ]
    },
    {
     "name": "stderr",
     "output_type": "stream",
     "text": [
      "Embedding proteins:  70%|████████████████████████████████████████▍                 | 1180/1690 [05:18<02:19,  3.64it/s]"
     ]
    },
    {
     "name": "stdout",
     "output_type": "stream",
     "text": [
      "✅ Embedded 9606.ENSP00000261537\n"
     ]
    },
    {
     "name": "stderr",
     "output_type": "stream",
     "text": [
      "Embedding proteins:  70%|████████████████████████████████████████▌                 | 1183/1690 [05:19<01:41,  5.00it/s]"
     ]
    },
    {
     "name": "stdout",
     "output_type": "stream",
     "text": [
      "✅ Embedded 9606.ENSP00000262319\n",
      "✅ Embedded 9606.ENSP00000262265\n",
      "✅ Embedded 9606.ENSP00000221114\n"
     ]
    },
    {
     "name": "stderr",
     "output_type": "stream",
     "text": [
      "Embedding proteins:  70%|████████████████████████████████████████▋                 | 1185/1690 [05:19<01:14,  6.80it/s]"
     ]
    },
    {
     "name": "stdout",
     "output_type": "stream",
     "text": [
      "✅ Embedded 9606.ENSP00000225724\n",
      "✅ Embedded 9606.ENSP00000240343\n"
     ]
    },
    {
     "name": "stderr",
     "output_type": "stream",
     "text": [
      "Embedding proteins:  70%|████████████████████████████████████████▊                 | 1188/1690 [05:19<01:22,  6.10it/s]"
     ]
    },
    {
     "name": "stdout",
     "output_type": "stream",
     "text": [
      "✅ Embedded 9606.ENSP00000238855\n",
      "✅ Embedded 9606.ENSP00000242577\n",
      "✅ Embedded 9606.ENSP00000260605\n"
     ]
    },
    {
     "name": "stderr",
     "output_type": "stream",
     "text": [
      "Embedding proteins:  70%|████████████████████████████████████████▊                 | 1189/1690 [05:19<01:22,  6.09it/s]"
     ]
    },
    {
     "name": "stdout",
     "output_type": "stream",
     "text": [
      "✅ Embedded 9606.ENSP00000258198\n"
     ]
    },
    {
     "name": "stderr",
     "output_type": "stream",
     "text": [
      "Embedding proteins:  70%|████████████████████████████████████████▊                 | 1190/1690 [05:20<01:42,  4.88it/s]"
     ]
    },
    {
     "name": "stdout",
     "output_type": "stream",
     "text": [
      "✅ Embedded 9606.ENSP00000257700\n"
     ]
    },
    {
     "name": "stderr",
     "output_type": "stream",
     "text": [
      "Embedding proteins:  70%|████████████████████████████████████████▊                 | 1191/1690 [05:20<02:03,  4.05it/s]"
     ]
    },
    {
     "name": "stdout",
     "output_type": "stream",
     "text": [
      "✅ Embedded 9606.ENSP00000258654\n",
      "✅ Embedded 9606.ENSP00000259632\n"
     ]
    },
    {
     "name": "stderr",
     "output_type": "stream",
     "text": [
      "Embedding proteins:  71%|████████████████████████████████████████▉                 | 1193/1690 [05:21<03:21,  2.46it/s]"
     ]
    },
    {
     "name": "stdout",
     "output_type": "stream",
     "text": [
      "✅ Embedded 9606.ENSP00000260753\n",
      "✅ Embedded 9606.ENSP00000216416\n"
     ]
    },
    {
     "name": "stderr",
     "output_type": "stream",
     "text": [
      "Embedding proteins:  71%|█████████████████████████████████████████                 | 1197/1690 [05:22<01:52,  4.38it/s]"
     ]
    },
    {
     "name": "stdout",
     "output_type": "stream",
     "text": [
      "✅ Embedded 9606.ENSP00000251047\n",
      "✅ Embedded 9606.ENSP00000257017\n",
      "✅ Embedded 9606.ENSP00000220659\n"
     ]
    },
    {
     "name": "stderr",
     "output_type": "stream",
     "text": [
      "Embedding proteins:  71%|█████████████████████████████████████████▏                | 1199/1690 [05:22<01:31,  5.38it/s]"
     ]
    },
    {
     "name": "stdout",
     "output_type": "stream",
     "text": [
      "✅ Embedded 9606.ENSP00000242592\n",
      "✅ Embedded 9606.ENSP00000240285\n",
      "✅ Embedded 9606.ENSP00000219481\n"
     ]
    },
    {
     "name": "stderr",
     "output_type": "stream",
     "text": [
      "Embedding proteins:  71%|█████████████████████████████████████████▎                | 1202/1690 [05:22<01:11,  6.84it/s]"
     ]
    },
    {
     "name": "stdout",
     "output_type": "stream",
     "text": [
      "✅ Embedded 9606.ENSP00000222800\n",
      "✅ Embedded 9606.ENSP00000222214\n"
     ]
    },
    {
     "name": "stderr",
     "output_type": "stream",
     "text": [
      "Embedding proteins:  71%|█████████████████████████████████████████▎                | 1203/1690 [05:22<01:11,  6.78it/s]"
     ]
    },
    {
     "name": "stdout",
     "output_type": "stream",
     "text": [
      "✅ Embedded 9606.ENSP00000254663\n",
      "✅ Embedded 9606.ENSP00000261465\n"
     ]
    },
    {
     "name": "stderr",
     "output_type": "stream",
     "text": [
      "Embedding proteins:  71%|█████████████████████████████████████████▎                | 1205/1690 [05:23<01:04,  7.48it/s]"
     ]
    },
    {
     "name": "stdout",
     "output_type": "stream",
     "text": [
      "✅ Embedded 9606.ENSP00000242776\n"
     ]
    },
    {
     "name": "stderr",
     "output_type": "stream",
     "text": [
      "Embedding proteins:  71%|█████████████████████████████████████████▍                | 1206/1690 [05:24<02:57,  2.73it/s]"
     ]
    },
    {
     "name": "stdout",
     "output_type": "stream",
     "text": [
      "✅ Embedded 9606.ENSP00000257177\n"
     ]
    },
    {
     "name": "stderr",
     "output_type": "stream",
     "text": [
      "Embedding proteins:  71%|█████████████████████████████████████████▍                | 1208/1690 [05:31<11:39,  1.45s/it]"
     ]
    },
    {
     "name": "stdout",
     "output_type": "stream",
     "text": [
      "✅ Embedded 9606.ENSP00000252999\n",
      "✅ Embedded 9606.ENSP00000245932\n"
     ]
    },
    {
     "name": "stderr",
     "output_type": "stream",
     "text": [
      "Embedding proteins:  72%|█████████████████████████████████████████▍                | 1209/1690 [05:31<09:34,  1.19s/it]"
     ]
    },
    {
     "name": "stdout",
     "output_type": "stream",
     "text": [
      "✅ Embedded 9606.ENSP00000252699\n"
     ]
    },
    {
     "name": "stderr",
     "output_type": "stream",
     "text": [
      "Embedding proteins:  72%|█████████████████████████████████████████▌                | 1211/1690 [05:32<06:49,  1.17it/s]"
     ]
    },
    {
     "name": "stdout",
     "output_type": "stream",
     "text": [
      "✅ Embedded 9606.ENSP00000258341\n",
      "✅ Embedded 9606.ENSP00000258969\n"
     ]
    },
    {
     "name": "stderr",
     "output_type": "stream",
     "text": [
      "Embedding proteins:  72%|█████████████████████████████████████████▌                | 1212/1690 [05:35<11:25,  1.43s/it]"
     ]
    },
    {
     "name": "stdout",
     "output_type": "stream",
     "text": [
      "✅ Embedded 9606.ENSP00000261405\n"
     ]
    },
    {
     "name": "stderr",
     "output_type": "stream",
     "text": [
      "Embedding proteins:  72%|█████████████████████████████████████████▋                | 1213/1690 [05:36<09:20,  1.18s/it]"
     ]
    },
    {
     "name": "stdout",
     "output_type": "stream",
     "text": [
      "✅ Embedded 9606.ENSP00000261023\n"
     ]
    },
    {
     "name": "stderr",
     "output_type": "stream",
     "text": [
      "Embedding proteins:  72%|█████████████████████████████████████████▋                | 1214/1690 [05:36<07:23,  1.07it/s]"
     ]
    },
    {
     "name": "stdout",
     "output_type": "stream",
     "text": [
      "✅ Embedded 9606.ENSP00000262017\n",
      "✅ Embedded 9606.ENSP00000222969\n"
     ]
    },
    {
     "name": "stderr",
     "output_type": "stream",
     "text": [
      "Embedding proteins:  72%|█████████████████████████████████████████▋                | 1216/1690 [05:36<04:23,  1.80it/s]"
     ]
    },
    {
     "name": "stdout",
     "output_type": "stream",
     "text": [
      "✅ Embedded 9606.ENSP00000221494\n"
     ]
    },
    {
     "name": "stderr",
     "output_type": "stream",
     "text": [
      "Embedding proteins:  72%|█████████████████████████████████████████▊                | 1218/1690 [05:37<03:15,  2.42it/s]"
     ]
    },
    {
     "name": "stdout",
     "output_type": "stream",
     "text": [
      "✅ Embedded 9606.ENSP00000221232\n",
      "✅ Embedded 9606.ENSP00000227524\n"
     ]
    },
    {
     "name": "stderr",
     "output_type": "stream",
     "text": [
      "Embedding proteins:  72%|█████████████████████████████████████████▊                | 1219/1690 [05:37<02:40,  2.93it/s]"
     ]
    },
    {
     "name": "stdout",
     "output_type": "stream",
     "text": [
      "✅ Embedded 9606.ENSP00000225428\n"
     ]
    },
    {
     "name": "stderr",
     "output_type": "stream",
     "text": [
      "Embedding proteins:  72%|█████████████████████████████████████████▉                | 1222/1690 [05:37<01:34,  4.98it/s]"
     ]
    },
    {
     "name": "stdout",
     "output_type": "stream",
     "text": [
      "✅ Embedded 9606.ENSP00000229195\n",
      "✅ Embedded 9606.ENSP00000236273\n",
      "✅ Embedded 9606.ENSP00000244520\n"
     ]
    },
    {
     "name": "stderr",
     "output_type": "stream",
     "text": [
      "Embedding proteins:  72%|██████████████████████████████████████████                | 1224/1690 [05:38<01:17,  6.03it/s]"
     ]
    },
    {
     "name": "stdout",
     "output_type": "stream",
     "text": [
      "✅ Embedded 9606.ENSP00000246071\n",
      "✅ Embedded 9606.ENSP00000251413\n"
     ]
    },
    {
     "name": "stderr",
     "output_type": "stream",
     "text": [
      "Embedding proteins:  72%|██████████████████████████████████████████                | 1225/1690 [05:38<01:16,  6.06it/s]"
     ]
    },
    {
     "name": "stdout",
     "output_type": "stream",
     "text": [
      "✅ Embedded 9606.ENSP00000251412\n"
     ]
    },
    {
     "name": "stderr",
     "output_type": "stream",
     "text": [
      "Embedding proteins:  73%|██████████████████████████████████████████                | 1227/1690 [05:38<01:23,  5.56it/s]"
     ]
    },
    {
     "name": "stdout",
     "output_type": "stream",
     "text": [
      "✅ Embedded 9606.ENSP00000261531\n",
      "✅ Embedded 9606.ENSP00000259818\n"
     ]
    },
    {
     "name": "stderr",
     "output_type": "stream",
     "text": [
      "Embedding proteins:  73%|██████████████████████████████████████████▏               | 1228/1690 [05:38<01:15,  6.09it/s]"
     ]
    },
    {
     "name": "stdout",
     "output_type": "stream",
     "text": [
      "✅ Embedded 9606.ENSP00000255631\n",
      "✅ Embedded 9606.ENSP00000247829\n"
     ]
    },
    {
     "name": "stderr",
     "output_type": "stream",
     "text": [
      "Embedding proteins:  73%|██████████████████████████████████████████▏               | 1231/1690 [05:39<01:08,  6.71it/s]"
     ]
    },
    {
     "name": "stdout",
     "output_type": "stream",
     "text": [
      "✅ Embedded 9606.ENSP00000222747\n",
      "✅ Embedded 9606.ENSP00000259803\n"
     ]
    },
    {
     "name": "stderr",
     "output_type": "stream",
     "text": [
      "Embedding proteins:  73%|██████████████████████████████████████████▎               | 1233/1690 [05:39<00:50,  9.04it/s]"
     ]
    },
    {
     "name": "stdout",
     "output_type": "stream",
     "text": [
      "✅ Embedded 9606.ENSP00000215754\n",
      "✅ Embedded 9606.ENSP00000219789\n"
     ]
    },
    {
     "name": "stderr",
     "output_type": "stream",
     "text": [
      "Embedding proteins:  73%|██████████████████████████████████████████▍               | 1235/1690 [05:40<01:52,  4.05it/s]"
     ]
    },
    {
     "name": "stdout",
     "output_type": "stream",
     "text": [
      "✅ Embedded 9606.ENSP00000262013\n",
      "✅ Embedded 9606.ENSP00000261245\n"
     ]
    },
    {
     "name": "stderr",
     "output_type": "stream",
     "text": [
      "Embedding proteins:  73%|██████████████████████████████████████████▍               | 1236/1690 [05:40<01:42,  4.41it/s]"
     ]
    },
    {
     "name": "stdout",
     "output_type": "stream",
     "text": [
      "✅ Embedded 9606.ENSP00000222481\n"
     ]
    },
    {
     "name": "stderr",
     "output_type": "stream",
     "text": [
      "Embedding proteins:  73%|██████████████████████████████████████████▍               | 1237/1690 [05:40<02:02,  3.70it/s]"
     ]
    },
    {
     "name": "stdout",
     "output_type": "stream",
     "text": [
      "✅ Embedded 9606.ENSP00000232458\n",
      "✅ Embedded 9606.ENSP00000261177\n"
     ]
    },
    {
     "name": "stderr",
     "output_type": "stream",
     "text": [
      "Embedding proteins:  73%|██████████████████████████████████████████▌               | 1239/1690 [05:41<01:47,  4.19it/s]"
     ]
    },
    {
     "name": "stdout",
     "output_type": "stream",
     "text": [
      "✅ Embedded 9606.ENSP00000238714\n"
     ]
    },
    {
     "name": "stderr",
     "output_type": "stream",
     "text": [
      "Embedding proteins:  73%|██████████████████████████████████████████▌               | 1240/1690 [05:41<02:13,  3.37it/s]"
     ]
    },
    {
     "name": "stdout",
     "output_type": "stream",
     "text": [
      "✅ Embedded 9606.ENSP00000238616\n"
     ]
    },
    {
     "name": "stderr",
     "output_type": "stream",
     "text": [
      "Embedding proteins:  73%|██████████████████████████████████████████▌               | 1242/1690 [05:42<02:35,  2.89it/s]"
     ]
    },
    {
     "name": "stdout",
     "output_type": "stream",
     "text": [
      "✅ Embedded 9606.ENSP00000245934\n",
      "✅ Embedded 9606.ENSP00000258646\n",
      "✅ Embedded 9606.ENSP00000217893\n"
     ]
    },
    {
     "name": "stderr",
     "output_type": "stream",
     "text": [
      "Embedding proteins:  74%|██████████████████████████████████████████▋               | 1244/1690 [05:43<02:48,  2.64it/s]"
     ]
    },
    {
     "name": "stdout",
     "output_type": "stream",
     "text": [
      "✅ Embedded 9606.ENSP00000259008\n"
     ]
    },
    {
     "name": "stderr",
     "output_type": "stream",
     "text": [
      "Embedding proteins:  74%|██████████████████████████████████████████▋               | 1245/1690 [05:43<02:36,  2.85it/s]"
     ]
    },
    {
     "name": "stdout",
     "output_type": "stream",
     "text": [
      "✅ Embedded 9606.ENSP00000254719\n"
     ]
    },
    {
     "name": "stderr",
     "output_type": "stream",
     "text": [
      "Embedding proteins:  74%|██████████████████████████████████████████▊               | 1246/1690 [05:44<02:42,  2.73it/s]"
     ]
    },
    {
     "name": "stdout",
     "output_type": "stream",
     "text": [
      "✅ Embedded 9606.ENSP00000241436\n"
     ]
    },
    {
     "name": "stderr",
     "output_type": "stream",
     "text": [
      "Embedding proteins:  74%|██████████████████████████████████████████▊               | 1247/1690 [05:44<03:26,  2.14it/s]"
     ]
    },
    {
     "name": "stdout",
     "output_type": "stream",
     "text": [
      "✅ Embedded 9606.ENSP00000234420\n"
     ]
    },
    {
     "name": "stderr",
     "output_type": "stream",
     "text": [
      "Embedding proteins:  74%|██████████████████████████████████████████▉               | 1250/1690 [05:45<02:19,  3.16it/s]"
     ]
    },
    {
     "name": "stdout",
     "output_type": "stream",
     "text": [
      "✅ Embedded 9606.ENSP00000252996\n",
      "✅ Embedded 9606.ENSP00000251303\n",
      "✅ Embedded 9606.ENSP00000258774\n"
     ]
    },
    {
     "name": "stderr",
     "output_type": "stream",
     "text": [
      "Embedding proteins:  74%|██████████████████████████████████████████▉               | 1251/1690 [05:45<02:04,  3.52it/s]"
     ]
    },
    {
     "name": "stdout",
     "output_type": "stream",
     "text": [
      "✅ Embedded 9606.ENSP00000259895\n"
     ]
    },
    {
     "name": "stderr",
     "output_type": "stream",
     "text": [
      "Embedding proteins:  74%|██████████████████████████████████████████▉               | 1252/1690 [05:46<03:20,  2.19it/s]"
     ]
    },
    {
     "name": "stdout",
     "output_type": "stream",
     "text": [
      "✅ Embedded 9606.ENSP00000260810\n"
     ]
    },
    {
     "name": "stderr",
     "output_type": "stream",
     "text": [
      "Embedding proteins:  74%|███████████████████████████████████████████               | 1253/1690 [05:47<03:06,  2.35it/s]"
     ]
    },
    {
     "name": "stdout",
     "output_type": "stream",
     "text": [
      "✅ Embedded 9606.ENSP00000260947\n",
      "✅ Embedded 9606.ENSP00000247883\n"
     ]
    },
    {
     "name": "stderr",
     "output_type": "stream",
     "text": [
      "Embedding proteins:  74%|███████████████████████████████████████████▏              | 1258/1690 [05:47<01:29,  4.81it/s]"
     ]
    },
    {
     "name": "stdout",
     "output_type": "stream",
     "text": [
      "✅ Embedded 9606.ENSP00000231188\n",
      "✅ Embedded 9606.ENSP00000225992\n",
      "✅ Embedded 9606.ENSP00000217305\n",
      "✅ Embedded 9606.ENSP00000240691\n"
     ]
    },
    {
     "name": "stderr",
     "output_type": "stream",
     "text": [
      "Embedding proteins:  75%|███████████████████████████████████████████▎              | 1261/1690 [05:48<01:09,  6.20it/s]"
     ]
    },
    {
     "name": "stdout",
     "output_type": "stream",
     "text": [
      "✅ Embedded 9606.ENSP00000240615\n",
      "✅ Embedded 9606.ENSP00000240619\n",
      "✅ Embedded 9606.ENSP00000240687\n"
     ]
    },
    {
     "name": "stderr",
     "output_type": "stream",
     "text": [
      "Embedding proteins:  75%|███████████████████████████████████████████▎              | 1263/1690 [05:48<01:06,  6.45it/s]"
     ]
    },
    {
     "name": "stdout",
     "output_type": "stream",
     "text": [
      "✅ Embedded 9606.ENSP00000246115\n",
      "✅ Embedded 9606.ENSP00000247881\n"
     ]
    },
    {
     "name": "stderr",
     "output_type": "stream",
     "text": [
      "Embedding proteins:  75%|███████████████████████████████████████████▍              | 1266/1690 [05:48<00:53,  7.89it/s]"
     ]
    },
    {
     "name": "stdout",
     "output_type": "stream",
     "text": [
      "✅ Embedded 9606.ENSP00000247879\n",
      "✅ Embedded 9606.ENSP00000257068\n",
      "✅ Embedded 9606.ENSP00000255008\n"
     ]
    },
    {
     "name": "stderr",
     "output_type": "stream",
     "text": [
      "Embedding proteins:  75%|███████████████████████████████████████████▍              | 1267/1690 [05:48<00:51,  8.20it/s]"
     ]
    },
    {
     "name": "stdout",
     "output_type": "stream",
     "text": [
      "✅ Embedded 9606.ENSP00000249041\n",
      "✅ Embedded 9606.ENSP00000249284\n"
     ]
    },
    {
     "name": "stderr",
     "output_type": "stream",
     "text": [
      "Embedding proteins:  75%|███████████████████████████████████████████▌              | 1270/1690 [05:49<00:50,  8.35it/s]"
     ]
    },
    {
     "name": "stdout",
     "output_type": "stream",
     "text": [
      "✅ Embedded 9606.ENSP00000255262\n",
      "✅ Embedded 9606.ENSP00000256906\n",
      "✅ Embedded 9606.ENSP00000259607\n"
     ]
    },
    {
     "name": "stderr",
     "output_type": "stream",
     "text": [
      "Embedding proteins:  75%|███████████████████████████████████████████▋              | 1272/1690 [05:49<00:45,  9.26it/s]"
     ]
    },
    {
     "name": "stdout",
     "output_type": "stream",
     "text": [
      "✅ Embedded 9606.ENSP00000257254\n"
     ]
    },
    {
     "name": "stderr",
     "output_type": "stream",
     "text": [
      "Embedding proteins:  75%|███████████████████████████████████████████▊              | 1275/1690 [05:49<00:59,  6.94it/s]"
     ]
    },
    {
     "name": "stdout",
     "output_type": "stream",
     "text": [
      "✅ Embedded 9606.ENSP00000259455\n",
      "✅ Embedded 9606.ENSP00000259631\n",
      "✅ Embedded 9606.ENSP00000261837\n"
     ]
    },
    {
     "name": "stderr",
     "output_type": "stream",
     "text": [
      "Embedding proteins:  76%|███████████████████████████████████████████▊              | 1277/1690 [05:50<01:02,  6.56it/s]"
     ]
    },
    {
     "name": "stdout",
     "output_type": "stream",
     "text": [
      "✅ Embedded 9606.ENSP00000261643\n",
      "✅ Embedded 9606.ENSP00000249269\n",
      "✅ Embedded 9606.ENSP00000229379\n"
     ]
    },
    {
     "name": "stderr",
     "output_type": "stream",
     "text": [
      "Embedding proteins:  76%|███████████████████████████████████████████▉              | 1280/1690 [05:50<00:38, 10.60it/s]"
     ]
    },
    {
     "name": "stdout",
     "output_type": "stream",
     "text": [
      "✅ Embedded 9606.ENSP00000261070\n",
      "✅ Embedded 9606.ENSP00000253452\n"
     ]
    },
    {
     "name": "stderr",
     "output_type": "stream",
     "text": [
      "Embedding proteins:  76%|███████████████████████████████████████████▉              | 1282/1690 [05:50<00:54,  7.50it/s]"
     ]
    },
    {
     "name": "stdout",
     "output_type": "stream",
     "text": [
      "✅ Embedded 9606.ENSP00000245544\n",
      "✅ Embedded 9606.ENSP00000244020\n"
     ]
    },
    {
     "name": "stderr",
     "output_type": "stream",
     "text": [
      "Embedding proteins:  76%|████████████████████████████████████████████              | 1284/1690 [05:52<02:16,  2.97it/s]"
     ]
    },
    {
     "name": "stdout",
     "output_type": "stream",
     "text": [
      "✅ Embedded 9606.ENSP00000254508\n",
      "✅ Embedded 9606.ENSP00000251074\n",
      "✅ Embedded 9606.ENSP00000254998\n"
     ]
    },
    {
     "name": "stderr",
     "output_type": "stream",
     "text": [
      "Embedding proteins:  76%|████████████████████████████████████████████▏             | 1286/1690 [05:52<02:12,  3.05it/s]"
     ]
    },
    {
     "name": "stdout",
     "output_type": "stream",
     "text": [
      "✅ Embedded 9606.ENSP00000256079\n"
     ]
    },
    {
     "name": "stderr",
     "output_type": "stream",
     "text": [
      "Embedding proteins:  76%|████████████████████████████████████████████▏             | 1287/1690 [05:53<02:37,  2.56it/s]"
     ]
    },
    {
     "name": "stdout",
     "output_type": "stream",
     "text": [
      "✅ Embedded 9606.ENSP00000261396\n"
     ]
    },
    {
     "name": "stderr",
     "output_type": "stream",
     "text": [
      "Embedding proteins:  76%|████████████████████████████████████████████▏             | 1289/1690 [05:54<02:54,  2.30it/s]"
     ]
    },
    {
     "name": "stdout",
     "output_type": "stream",
     "text": [
      "✅ Embedded 9606.ENSP00000262077\n",
      "✅ Embedded 9606.ENSP00000261667\n"
     ]
    },
    {
     "name": "stderr",
     "output_type": "stream",
     "text": [
      "Embedding proteins:  76%|████████████████████████████████████████████▎             | 1290/1690 [05:55<03:21,  1.98it/s]"
     ]
    },
    {
     "name": "stdout",
     "output_type": "stream",
     "text": [
      "✅ Embedded 9606.ENSP00000252575\n",
      "✅ Embedded 9606.ENSP00000243911\n"
     ]
    },
    {
     "name": "stderr",
     "output_type": "stream",
     "text": [
      "Embedding proteins:  77%|████████████████████████████████████████████▍             | 1294/1690 [05:55<01:38,  4.03it/s]"
     ]
    },
    {
     "name": "stdout",
     "output_type": "stream",
     "text": [
      "✅ Embedded 9606.ENSP00000243673\n",
      "✅ Embedded 9606.ENSP00000242249\n",
      "✅ Embedded 9606.ENSP00000245457\n"
     ]
    },
    {
     "name": "stderr",
     "output_type": "stream",
     "text": [
      "Embedding proteins:  77%|████████████████████████████████████████████▍             | 1296/1690 [05:55<01:10,  5.56it/s]"
     ]
    },
    {
     "name": "stdout",
     "output_type": "stream",
     "text": [
      "✅ Embedded 9606.ENSP00000254661\n",
      "✅ Embedded 9606.ENSP00000256592\n",
      "✅ Embedded 9606.ENSP00000253796\n"
     ]
    },
    {
     "name": "stderr",
     "output_type": "stream",
     "text": [
      "Embedding proteins:  77%|████████████████████████████████████████████▌             | 1298/1690 [05:56<00:58,  6.75it/s]"
     ]
    },
    {
     "name": "stdout",
     "output_type": "stream",
     "text": [
      "✅ Embedded 9606.ENSP00000258034\n",
      "✅ Embedded 9606.ENSP00000262178\n"
     ]
    },
    {
     "name": "stderr",
     "output_type": "stream",
     "text": [
      "Embedding proteins:  77%|████████████████████████████████████████████▌             | 1300/1690 [05:56<00:54,  7.18it/s]"
     ]
    },
    {
     "name": "stdout",
     "output_type": "stream",
     "text": [
      "✅ Embedded 9606.ENSP00000258456\n",
      "✅ Embedded 9606.ENSP00000228318\n"
     ]
    },
    {
     "name": "stderr",
     "output_type": "stream",
     "text": [
      "Embedding proteins:  77%|████████████████████████████████████████████▋             | 1303/1690 [05:56<01:03,  6.13it/s]"
     ]
    },
    {
     "name": "stdout",
     "output_type": "stream",
     "text": [
      "✅ Embedded 9606.ENSP00000260649\n",
      "✅ Embedded 9606.ENSP00000247178\n"
     ]
    },
    {
     "name": "stderr",
     "output_type": "stream",
     "text": [
      "Embedding proteins:  77%|████████████████████████████████████████████▊             | 1305/1690 [05:57<00:55,  6.96it/s]"
     ]
    },
    {
     "name": "stdout",
     "output_type": "stream",
     "text": [
      "✅ Embedded 9606.ENSP00000216452\n",
      "✅ Embedded 9606.ENSP00000258324\n"
     ]
    },
    {
     "name": "stderr",
     "output_type": "stream",
     "text": [
      "Embedding proteins:  77%|████████████████████████████████████████████▊             | 1306/1690 [05:57<01:00,  6.38it/s]"
     ]
    },
    {
     "name": "stdout",
     "output_type": "stream",
     "text": [
      "✅ Embedded 9606.ENSP00000219022\n"
     ]
    },
    {
     "name": "stderr",
     "output_type": "stream",
     "text": [
      "Embedding proteins:  77%|████████████████████████████████████████████▉             | 1308/1690 [05:57<01:14,  5.09it/s]"
     ]
    },
    {
     "name": "stdout",
     "output_type": "stream",
     "text": [
      "✅ Embedded 9606.ENSP00000254190\n",
      "✅ Embedded 9606.ENSP00000244051\n"
     ]
    },
    {
     "name": "stderr",
     "output_type": "stream",
     "text": [
      "Embedding proteins:  78%|████████████████████████████████████████████▉             | 1310/1690 [05:58<01:17,  4.88it/s]"
     ]
    },
    {
     "name": "stdout",
     "output_type": "stream",
     "text": [
      "✅ Embedded 9606.ENSP00000246548\n",
      "✅ Embedded 9606.ENSP00000262139\n"
     ]
    },
    {
     "name": "stderr",
     "output_type": "stream",
     "text": [
      "Embedding proteins:  78%|█████████████████████████████████████████████             | 1312/1690 [05:58<00:58,  6.52it/s]"
     ]
    },
    {
     "name": "stdout",
     "output_type": "stream",
     "text": [
      "✅ Embedded 9606.ENSP00000249042\n",
      "✅ Embedded 9606.ENSP00000260102\n",
      "✅ Embedded 9606.ENSP00000220669\n"
     ]
    },
    {
     "name": "stderr",
     "output_type": "stream",
     "text": [
      "Embedding proteins:  78%|█████████████████████████████████████████████▏            | 1315/1690 [05:59<01:02,  6.01it/s]"
     ]
    },
    {
     "name": "stdout",
     "output_type": "stream",
     "text": [
      "✅ Embedded 9606.ENSP00000252136\n",
      "✅ Embedded 9606.ENSP00000229922\n"
     ]
    },
    {
     "name": "stderr",
     "output_type": "stream",
     "text": [
      "Embedding proteins:  78%|█████████████████████████████████████████████▏            | 1316/1690 [05:59<01:01,  6.03it/s]"
     ]
    },
    {
     "name": "stdout",
     "output_type": "stream",
     "text": [
      "✅ Embedded 9606.ENSP00000247271\n",
      "✅ Embedded 9606.ENSP00000216410\n"
     ]
    },
    {
     "name": "stderr",
     "output_type": "stream",
     "text": [
      "Embedding proteins:  78%|█████████████████████████████████████████████▏            | 1318/1690 [05:59<00:52,  7.06it/s]"
     ]
    },
    {
     "name": "stdout",
     "output_type": "stream",
     "text": [
      "✅ Embedded 9606.ENSP00000261601\n",
      "✅ Embedded 9606.ENSP00000223321\n"
     ]
    },
    {
     "name": "stderr",
     "output_type": "stream",
     "text": [
      "Embedding proteins:  78%|█████████████████████████████████████████████▎            | 1320/1690 [05:59<00:54,  6.77it/s]"
     ]
    },
    {
     "name": "stdout",
     "output_type": "stream",
     "text": [
      "✅ Embedded 9606.ENSP00000237530\n",
      "✅ Embedded 9606.ENSP00000231656\n"
     ]
    },
    {
     "name": "stderr",
     "output_type": "stream",
     "text": [
      "Embedding proteins:  78%|█████████████████████████████████████████████▍            | 1323/1690 [06:01<02:12,  2.77it/s]"
     ]
    },
    {
     "name": "stdout",
     "output_type": "stream",
     "text": [
      "✅ Embedded 9606.ENSP00000259335\n",
      "✅ Embedded 9606.ENSP00000253003\n"
     ]
    },
    {
     "name": "stderr",
     "output_type": "stream",
     "text": [
      "Embedding proteins:  78%|█████████████████████████████████████████████▍            | 1325/1690 [06:01<01:36,  3.79it/s]"
     ]
    },
    {
     "name": "stdout",
     "output_type": "stream",
     "text": [
      "✅ Embedded 9606.ENSP00000240618\n",
      "✅ Embedded 9606.ENSP00000230053\n"
     ]
    },
    {
     "name": "stderr",
     "output_type": "stream",
     "text": [
      "Embedding proteins:  78%|█████████████████████████████████████████████▌            | 1326/1690 [06:02<01:24,  4.32it/s]"
     ]
    },
    {
     "name": "stdout",
     "output_type": "stream",
     "text": [
      "✅ Embedded 9606.ENSP00000231061\n"
     ]
    },
    {
     "name": "stderr",
     "output_type": "stream",
     "text": [
      "Embedding proteins:  79%|█████████████████████████████████████████████▌            | 1328/1690 [06:02<01:25,  4.23it/s]"
     ]
    },
    {
     "name": "stdout",
     "output_type": "stream",
     "text": [
      "✅ Embedded 9606.ENSP00000243776\n",
      "✅ Embedded 9606.ENSP00000258711\n"
     ]
    },
    {
     "name": "stderr",
     "output_type": "stream",
     "text": [
      "Embedding proteins:  79%|█████████████████████████████████████████████▌            | 1329/1690 [06:02<01:35,  3.76it/s]"
     ]
    },
    {
     "name": "stdout",
     "output_type": "stream",
     "text": [
      "✅ Embedded 9606.ENSP00000261037\n"
     ]
    },
    {
     "name": "stderr",
     "output_type": "stream",
     "text": [
      "Embedding proteins:  79%|█████████████████████████████████████████████▋            | 1330/1690 [06:03<01:31,  3.93it/s]"
     ]
    },
    {
     "name": "stdout",
     "output_type": "stream",
     "text": [
      "✅ Embedded 9606.ENSP00000261464\n",
      "✅ Embedded 9606.ENSP00000252543\n",
      "✅ Embedded 9606.ENSP00000251453\n"
     ]
    },
    {
     "name": "stderr",
     "output_type": "stream",
     "text": [
      "Embedding proteins:  79%|█████████████████████████████████████████████▊            | 1334/1690 [06:03<00:58,  6.10it/s]"
     ]
    },
    {
     "name": "stdout",
     "output_type": "stream",
     "text": [
      "✅ Embedded 9606.ENSP00000217182\n",
      "✅ Embedded 9606.ENSP00000216774\n"
     ]
    },
    {
     "name": "stderr",
     "output_type": "stream",
     "text": [
      "Embedding proteins:  79%|█████████████████████████████████████████████▉            | 1337/1690 [06:03<00:44,  7.86it/s]"
     ]
    },
    {
     "name": "stdout",
     "output_type": "stream",
     "text": [
      "✅ Embedded 9606.ENSP00000225430\n",
      "✅ Embedded 9606.ENSP00000250784\n",
      "✅ Embedded 9606.ENSP00000235521\n",
      "✅ Embedded 9606.ENSP00000229238\n"
     ]
    },
    {
     "name": "stderr",
     "output_type": "stream",
     "text": [
      "Embedding proteins:  79%|██████████████████████████████████████████████            | 1341/1690 [06:04<00:41,  8.38it/s]"
     ]
    },
    {
     "name": "stdout",
     "output_type": "stream",
     "text": [
      "✅ Embedded 9606.ENSP00000231887\n",
      "✅ Embedded 9606.ENSP00000248342\n",
      "✅ Embedded 9606.ENSP00000241600\n"
     ]
    },
    {
     "name": "stderr",
     "output_type": "stream",
     "text": [
      "Embedding proteins:  79%|██████████████████████████████████████████████            | 1343/1690 [06:04<00:41,  8.40it/s]"
     ]
    },
    {
     "name": "stdout",
     "output_type": "stream",
     "text": [
      "✅ Embedded 9606.ENSP00000245539\n",
      "✅ Embedded 9606.ENSP00000250838\n"
     ]
    },
    {
     "name": "stderr",
     "output_type": "stream",
     "text": [
      "Embedding proteins:  80%|██████████████████████████████████████████████▏           | 1346/1690 [06:04<00:32, 10.61it/s]"
     ]
    },
    {
     "name": "stdout",
     "output_type": "stream",
     "text": [
      "✅ Embedded 9606.ENSP00000253099\n",
      "✅ Embedded 9606.ENSP00000253108\n",
      "✅ Embedded 9606.ENSP00000253686\n"
     ]
    },
    {
     "name": "stderr",
     "output_type": "stream",
     "text": [
      "Embedding proteins:  80%|██████████████████████████████████████████████▎           | 1351/1690 [06:05<00:29, 11.34it/s]"
     ]
    },
    {
     "name": "stdout",
     "output_type": "stream",
     "text": [
      "✅ Embedded 9606.ENSP00000254630\n",
      "✅ Embedded 9606.ENSP00000253788\n",
      "✅ Embedded 9606.ENSP00000258105\n",
      "✅ Embedded 9606.ENSP00000256441\n",
      "✅ Embedded 9606.ENSP00000258455\n"
     ]
    },
    {
     "name": "stderr",
     "output_type": "stream",
     "text": [
      "Embedding proteins:  80%|██████████████████████████████████████████████▍           | 1353/1690 [06:05<00:29, 11.44it/s]"
     ]
    },
    {
     "name": "stdout",
     "output_type": "stream",
     "text": [
      "✅ Embedded 9606.ENSP00000258383\n",
      "✅ Embedded 9606.ENSP00000259873\n",
      "✅ Embedded 9606.ENSP00000260443\n"
     ]
    },
    {
     "name": "stderr",
     "output_type": "stream",
     "text": [
      "Embedding proteins:  80%|██████████████████████████████████████████████▌           | 1355/1690 [06:05<00:28, 11.78it/s]"
     ]
    },
    {
     "name": "stdout",
     "output_type": "stream",
     "text": [
      "✅ Embedded 9606.ENSP00000261413\n"
     ]
    },
    {
     "name": "stderr",
     "output_type": "stream",
     "text": [
      "Embedding proteins:  80%|██████████████████████████████████████████████▌           | 1357/1690 [06:06<00:45,  7.37it/s]"
     ]
    },
    {
     "name": "stdout",
     "output_type": "stream",
     "text": [
      "✅ Embedded 9606.ENSP00000233969\n",
      "✅ Embedded 9606.ENSP00000243052\n"
     ]
    },
    {
     "name": "stderr",
     "output_type": "stream",
     "text": [
      "Embedding proteins:  80%|██████████████████████████████████████████████▋           | 1359/1690 [06:06<00:41,  8.00it/s]"
     ]
    },
    {
     "name": "stdout",
     "output_type": "stream",
     "text": [
      "✅ Embedded 9606.ENSP00000252898\n",
      "✅ Embedded 9606.ENSP00000260386\n",
      "✅ Embedded 9606.ENSP00000261170\n"
     ]
    },
    {
     "name": "stderr",
     "output_type": "stream",
     "text": [
      "Embedding proteins:  81%|██████████████████████████████████████████████▋           | 1361/1690 [06:07<01:14,  4.39it/s]"
     ]
    },
    {
     "name": "stdout",
     "output_type": "stream",
     "text": [
      "✅ Embedded 9606.ENSP00000256637\n"
     ]
    },
    {
     "name": "stderr",
     "output_type": "stream",
     "text": [
      "Embedding proteins:  81%|██████████████████████████████████████████████▋           | 1362/1690 [06:07<01:14,  4.41it/s]"
     ]
    },
    {
     "name": "stdout",
     "output_type": "stream",
     "text": [
      "✅ Embedded 9606.ENSP00000221283\n"
     ]
    },
    {
     "name": "stderr",
     "output_type": "stream",
     "text": [
      "Embedding proteins:  81%|██████████████████████████████████████████████▊           | 1363/1690 [06:08<01:57,  2.78it/s]"
     ]
    },
    {
     "name": "stdout",
     "output_type": "stream",
     "text": [
      "✅ Embedded 9606.ENSP00000238789\n"
     ]
    },
    {
     "name": "stderr",
     "output_type": "stream",
     "text": [
      "Embedding proteins:  81%|██████████████████████████████████████████████▊           | 1365/1690 [06:09<02:02,  2.66it/s]"
     ]
    },
    {
     "name": "stdout",
     "output_type": "stream",
     "text": [
      "✅ Embedded 9606.ENSP00000248633\n",
      "✅ Embedded 9606.ENSP00000251775\n"
     ]
    },
    {
     "name": "stderr",
     "output_type": "stream",
     "text": [
      "Embedding proteins:  81%|██████████████████████████████████████████████▉           | 1366/1690 [06:09<02:25,  2.23it/s]"
     ]
    },
    {
     "name": "stdout",
     "output_type": "stream",
     "text": [
      "✅ Embedded 9606.ENSP00000253925\n"
     ]
    },
    {
     "name": "stderr",
     "output_type": "stream",
     "text": [
      "Embedding proteins:  81%|██████████████████████████████████████████████▉           | 1367/1690 [06:11<04:29,  1.20it/s]"
     ]
    },
    {
     "name": "stdout",
     "output_type": "stream",
     "text": [
      "✅ Embedded 9606.ENSP00000260323\n",
      "✅ Embedded 9606.ENSP00000259400\n"
     ]
    },
    {
     "name": "stderr",
     "output_type": "stream",
     "text": [
      "Embedding proteins:  81%|███████████████████████████████████████████████           | 1370/1690 [06:12<02:20,  2.28it/s]"
     ]
    },
    {
     "name": "stdout",
     "output_type": "stream",
     "text": [
      "✅ Embedded 9606.ENSP00000259951\n",
      "✅ Embedded 9606.ENSP00000248076\n"
     ]
    },
    {
     "name": "stderr",
     "output_type": "stream",
     "text": [
      "Embedding proteins:  81%|███████████████████████████████████████████████▏          | 1374/1690 [06:12<01:01,  5.10it/s]"
     ]
    },
    {
     "name": "stdout",
     "output_type": "stream",
     "text": [
      "✅ Embedded 9606.ENSP00000246549\n",
      "✅ Embedded 9606.ENSP00000245983\n",
      "✅ Embedded 9606.ENSP00000246553\n",
      "✅ Embedded 9606.ENSP00000256010\n"
     ]
    },
    {
     "name": "stderr",
     "output_type": "stream",
     "text": [
      "Embedding proteins:  81%|███████████████████████████████████████████████▏          | 1376/1690 [06:12<01:02,  5.05it/s]"
     ]
    },
    {
     "name": "stdout",
     "output_type": "stream",
     "text": [
      "✅ Embedded 9606.ENSP00000255380\n",
      "✅ Embedded 9606.ENSP00000258400\n"
     ]
    },
    {
     "name": "stderr",
     "output_type": "stream",
     "text": [
      "Embedding proteins:  81%|███████████████████████████████████████████████▎          | 1377/1690 [06:12<00:57,  5.47it/s]"
     ]
    },
    {
     "name": "stdout",
     "output_type": "stream",
     "text": [
      "✅ Embedded 9606.ENSP00000228843\n"
     ]
    },
    {
     "name": "stderr",
     "output_type": "stream",
     "text": [
      "Embedding proteins:  82%|███████████████████████████████████████████████▎          | 1378/1690 [06:13<01:28,  3.54it/s]"
     ]
    },
    {
     "name": "stdout",
     "output_type": "stream",
     "text": [
      "✅ Embedded 9606.ENSP00000258428\n"
     ]
    },
    {
     "name": "stderr",
     "output_type": "stream",
     "text": [
      "Embedding proteins:  82%|███████████████████████████████████████████████▎          | 1379/1690 [06:14<01:36,  3.24it/s]"
     ]
    },
    {
     "name": "stdout",
     "output_type": "stream",
     "text": [
      "✅ Embedded 9606.ENSP00000261368\n"
     ]
    },
    {
     "name": "stderr",
     "output_type": "stream",
     "text": [
      "Embedding proteins:  82%|███████████████████████████████████████████████▎          | 1380/1690 [06:14<01:38,  3.15it/s]"
     ]
    },
    {
     "name": "stdout",
     "output_type": "stream",
     "text": [
      "✅ Embedded 9606.ENSP00000261377\n",
      "✅ Embedded 9606.ENSP00000261881\n"
     ]
    },
    {
     "name": "stderr",
     "output_type": "stream",
     "text": [
      "Embedding proteins:  82%|███████████████████████████████████████████████▍          | 1382/1690 [06:15<01:42,  3.01it/s]"
     ]
    },
    {
     "name": "stdout",
     "output_type": "stream",
     "text": [
      "✅ Embedded 9606.ENSP00000261584\n"
     ]
    },
    {
     "name": "stderr",
     "output_type": "stream",
     "text": [
      "Embedding proteins:  82%|███████████████████████████████████████████████▍          | 1384/1690 [06:15<01:36,  3.17it/s]"
     ]
    },
    {
     "name": "stdout",
     "output_type": "stream",
     "text": [
      "✅ Embedded 9606.ENSP00000262315\n",
      "✅ Embedded 9606.ENSP00000231004\n"
     ]
    },
    {
     "name": "stderr",
     "output_type": "stream",
     "text": [
      "Embedding proteins:  82%|███████████████████████████████████████████████▌          | 1385/1690 [06:15<01:29,  3.39it/s]"
     ]
    },
    {
     "name": "stdout",
     "output_type": "stream",
     "text": [
      "✅ Embedded 9606.ENSP00000261921\n"
     ]
    },
    {
     "name": "stderr",
     "output_type": "stream",
     "text": [
      "Embedding proteins:  82%|███████████████████████████████████████████████▌          | 1386/1690 [06:16<01:30,  3.34it/s]"
     ]
    },
    {
     "name": "stdout",
     "output_type": "stream",
     "text": [
      "✅ Embedded 9606.ENSP00000260702\n"
     ]
    },
    {
     "name": "stderr",
     "output_type": "stream",
     "text": [
      "Embedding proteins:  82%|███████████████████████████████████████████████▌          | 1387/1690 [06:16<02:05,  2.42it/s]"
     ]
    },
    {
     "name": "stdout",
     "output_type": "stream",
     "text": [
      "✅ Embedded 9606.ENSP00000261944\n"
     ]
    },
    {
     "name": "stderr",
     "output_type": "stream",
     "text": [
      "Embedding proteins:  82%|███████████████████████████████████████████████▋          | 1388/1690 [06:17<02:01,  2.49it/s]"
     ]
    },
    {
     "name": "stdout",
     "output_type": "stream",
     "text": [
      "✅ Embedded 9606.ENSP00000239449\n"
     ]
    },
    {
     "name": "stderr",
     "output_type": "stream",
     "text": [
      "Embedding proteins:  82%|███████████████████████████████████████████████▋          | 1389/1690 [06:17<01:56,  2.58it/s]"
     ]
    },
    {
     "name": "stdout",
     "output_type": "stream",
     "text": [
      "✅ Embedded 9606.ENSP00000239444\n"
     ]
    },
    {
     "name": "stderr",
     "output_type": "stream",
     "text": [
      "Embedding proteins:  82%|███████████████████████████████████████████████▋          | 1390/1690 [06:18<01:52,  2.66it/s]"
     ]
    },
    {
     "name": "stdout",
     "output_type": "stream",
     "text": [
      "✅ Embedded 9606.ENSP00000239446\n"
     ]
    },
    {
     "name": "stderr",
     "output_type": "stream",
     "text": [
      "Embedding proteins:  82%|███████████████████████████████████████████████▋          | 1391/1690 [06:18<02:07,  2.35it/s]"
     ]
    },
    {
     "name": "stdout",
     "output_type": "stream",
     "text": [
      "✅ Embedded 9606.ENSP00000253812\n"
     ]
    },
    {
     "name": "stderr",
     "output_type": "stream",
     "text": [
      "Embedding proteins:  82%|███████████████████████████████████████████████▊          | 1392/1690 [06:18<02:03,  2.41it/s]"
     ]
    },
    {
     "name": "stdout",
     "output_type": "stream",
     "text": [
      "✅ Embedded 9606.ENSP00000252087\n"
     ]
    },
    {
     "name": "stderr",
     "output_type": "stream",
     "text": [
      "Embedding proteins:  82%|███████████████████████████████████████████████▊          | 1393/1690 [06:19<01:55,  2.57it/s]"
     ]
    },
    {
     "name": "stdout",
     "output_type": "stream",
     "text": [
      "✅ Embedded 9606.ENSP00000239450\n"
     ]
    },
    {
     "name": "stderr",
     "output_type": "stream",
     "text": [
      "Embedding proteins:  82%|███████████████████████████████████████████████▊          | 1394/1690 [06:19<02:01,  2.43it/s]"
     ]
    },
    {
     "name": "stdout",
     "output_type": "stream",
     "text": [
      "✅ Embedded 9606.ENSP00000252085\n"
     ]
    },
    {
     "name": "stderr",
     "output_type": "stream",
     "text": [
      "Embedding proteins:  83%|███████████████████████████████████████████████▉          | 1395/1690 [06:20<02:11,  2.24it/s]"
     ]
    },
    {
     "name": "stdout",
     "output_type": "stream",
     "text": [
      "✅ Embedded 9606.ENSP00000253807\n"
     ]
    },
    {
     "name": "stderr",
     "output_type": "stream",
     "text": [
      "Embedding proteins:  83%|███████████████████████████████████████████████▉          | 1396/1690 [06:20<02:28,  1.98it/s]"
     ]
    },
    {
     "name": "stdout",
     "output_type": "stream",
     "text": [
      "✅ Embedded 9606.ENSP00000261590\n"
     ]
    },
    {
     "name": "stderr",
     "output_type": "stream",
     "text": [
      "Embedding proteins:  83%|███████████████████████████████████████████████▉          | 1397/1690 [06:21<02:35,  1.88it/s]"
     ]
    },
    {
     "name": "stdout",
     "output_type": "stream",
     "text": [
      "✅ Embedded 9606.ENSP00000257192\n"
     ]
    },
    {
     "name": "stderr",
     "output_type": "stream",
     "text": [
      "Embedding proteins:  83%|███████████████████████████████████████████████▉          | 1398/1690 [06:21<02:28,  1.97it/s]"
     ]
    },
    {
     "name": "stdout",
     "output_type": "stream",
     "text": [
      "✅ Embedded 9606.ENSP00000257198\n"
     ]
    },
    {
     "name": "stderr",
     "output_type": "stream",
     "text": [
      "Embedding proteins:  83%|████████████████████████████████████████████████          | 1399/1690 [06:30<13:47,  2.84s/it]"
     ]
    },
    {
     "name": "stdout",
     "output_type": "stream",
     "text": [
      "✅ Embedded 9606.ENSP00000261800\n"
     ]
    },
    {
     "name": "stderr",
     "output_type": "stream",
     "text": [
      "Embedding proteins:  83%|████████████████████████████████████████████████          | 1400/1690 [06:30<10:08,  2.10s/it]"
     ]
    },
    {
     "name": "stdout",
     "output_type": "stream",
     "text": [
      "✅ Embedded 9606.ENSP00000262150\n"
     ]
    },
    {
     "name": "stderr",
     "output_type": "stream",
     "text": [
      "Embedding proteins:  83%|████████████████████████████████████████████████          | 1402/1690 [06:31<05:22,  1.12s/it]"
     ]
    },
    {
     "name": "stdout",
     "output_type": "stream",
     "text": [
      "✅ Embedded 9606.ENSP00000246841\n",
      "✅ Embedded 9606.ENSP00000239032\n",
      "✅ Embedded 9606.ENSP00000243501\n"
     ]
    },
    {
     "name": "stderr",
     "output_type": "stream",
     "text": [
      "Embedding proteins:  83%|████████████████████████████████████████████████▏         | 1405/1690 [06:31<02:23,  1.99it/s]"
     ]
    },
    {
     "name": "stdout",
     "output_type": "stream",
     "text": [
      "✅ Embedded 9606.ENSP00000247992\n",
      "✅ Embedded 9606.ENSP00000249389\n"
     ]
    },
    {
     "name": "stderr",
     "output_type": "stream",
     "text": [
      "Embedding proteins:  83%|████████████████████████████████████████████████▎         | 1406/1690 [06:31<02:37,  1.80it/s]"
     ]
    },
    {
     "name": "stdout",
     "output_type": "stream",
     "text": [
      "✅ Embedded 9606.ENSP00000260402\n",
      "✅ Embedded 9606.ENSP00000259467\n"
     ]
    },
    {
     "name": "stderr",
     "output_type": "stream",
     "text": [
      "Embedding proteins:  83%|████████████████████████████████████████████████▍         | 1410/1690 [06:34<02:20,  1.99it/s]"
     ]
    },
    {
     "name": "stdout",
     "output_type": "stream",
     "text": [
      "✅ Embedded 9606.ENSP00000260766\n",
      "✅ Embedded 9606.ENSP00000247020\n",
      "✅ Embedded 9606.ENSP00000248958\n"
     ]
    },
    {
     "name": "stderr",
     "output_type": "stream",
     "text": [
      "Embedding proteins:  84%|████████████████████████████████████████████████▍         | 1412/1690 [06:34<01:44,  2.67it/s]"
     ]
    },
    {
     "name": "stdout",
     "output_type": "stream",
     "text": [
      "✅ Embedded 9606.ENSP00000261534\n",
      "✅ Embedded 9606.ENSP00000247219\n"
     ]
    },
    {
     "name": "stderr",
     "output_type": "stream",
     "text": [
      "Embedding proteins:  84%|████████████████████████████████████████████████▍         | 1413/1690 [06:35<01:54,  2.41it/s]"
     ]
    },
    {
     "name": "stdout",
     "output_type": "stream",
     "text": [
      "✅ Embedded 9606.ENSP00000216267\n",
      "✅ Embedded 9606.ENSP00000244601\n"
     ]
    },
    {
     "name": "stderr",
     "output_type": "stream",
     "text": [
      "Embedding proteins:  84%|████████████████████████████████████████████████▌         | 1415/1690 [06:35<01:26,  3.18it/s]"
     ]
    },
    {
     "name": "stdout",
     "output_type": "stream",
     "text": [
      "✅ Embedded 9606.ENSP00000239027\n"
     ]
    },
    {
     "name": "stderr",
     "output_type": "stream",
     "text": [
      "Embedding proteins:  84%|████████████████████████████████████████████████▋         | 1417/1690 [06:36<01:58,  2.30it/s]"
     ]
    },
    {
     "name": "stdout",
     "output_type": "stream",
     "text": [
      "✅ Embedded 9606.ENSP00000257745\n",
      "✅ Embedded 9606.ENSP00000256429\n"
     ]
    },
    {
     "name": "stderr",
     "output_type": "stream",
     "text": [
      "Embedding proteins:  84%|████████████████████████████████████████████████▋         | 1418/1690 [06:37<01:41,  2.67it/s]"
     ]
    },
    {
     "name": "stdout",
     "output_type": "stream",
     "text": [
      "✅ Embedded 9606.ENSP00000258281\n",
      "✅ Embedded 9606.ENSP00000259791\n"
     ]
    },
    {
     "name": "stderr",
     "output_type": "stream",
     "text": [
      "Embedding proteins:  84%|████████████████████████████████████████████████▊         | 1421/1690 [06:48<09:00,  2.01s/it]"
     ]
    },
    {
     "name": "stdout",
     "output_type": "stream",
     "text": [
      "✅ Embedded 9606.ENSP00000262189\n",
      "✅ Embedded 9606.ENSP00000242375\n"
     ]
    },
    {
     "name": "stderr",
     "output_type": "stream",
     "text": [
      "Embedding proteins:  84%|████████████████████████████████████████████████▊         | 1423/1690 [06:49<05:41,  1.28s/it]"
     ]
    },
    {
     "name": "stdout",
     "output_type": "stream",
     "text": [
      "✅ Embedded 9606.ENSP00000216297\n",
      "✅ Embedded 9606.ENSP00000221265\n"
     ]
    },
    {
     "name": "stderr",
     "output_type": "stream",
     "text": [
      "Embedding proteins:  84%|████████████████████████████████████████████████▉         | 1425/1690 [06:49<03:22,  1.31it/s]"
     ]
    },
    {
     "name": "stdout",
     "output_type": "stream",
     "text": [
      "✅ Embedded 9606.ENSP00000261973\n",
      "✅ Embedded 9606.ENSP00000262177\n"
     ]
    },
    {
     "name": "stderr",
     "output_type": "stream",
     "text": [
      "Embedding proteins:  84%|████████████████████████████████████████████████▉         | 1427/1690 [06:51<03:09,  1.39it/s]"
     ]
    },
    {
     "name": "stdout",
     "output_type": "stream",
     "text": [
      "✅ Embedded 9606.ENSP00000251127\n",
      "✅ Embedded 9606.ENSP00000243457\n"
     ]
    },
    {
     "name": "stderr",
     "output_type": "stream",
     "text": [
      "Embedding proteins:  85%|█████████████████████████████████████████████████         | 1430/1690 [06:51<01:25,  3.05it/s]"
     ]
    },
    {
     "name": "stdout",
     "output_type": "stream",
     "text": [
      "✅ Embedded 9606.ENSP00000218224\n",
      "✅ Embedded 9606.ENSP00000216252\n",
      "✅ Embedded 9606.ENSP00000216727\n"
     ]
    },
    {
     "name": "stderr",
     "output_type": "stream",
     "text": [
      "Embedding proteins:  85%|█████████████████████████████████████████████████         | 1431/1690 [06:51<01:19,  3.24it/s]"
     ]
    },
    {
     "name": "stdout",
     "output_type": "stream",
     "text": [
      "✅ Embedded 9606.ENSP00000221419\n"
     ]
    },
    {
     "name": "stderr",
     "output_type": "stream",
     "text": [
      "Embedding proteins:  85%|█████████████████████████████████████████████████▏        | 1432/1690 [06:52<01:38,  2.61it/s]"
     ]
    },
    {
     "name": "stdout",
     "output_type": "stream",
     "text": [
      "✅ Embedded 9606.ENSP00000230640\n",
      "✅ Embedded 9606.ENSP00000233468\n"
     ]
    },
    {
     "name": "stderr",
     "output_type": "stream",
     "text": [
      "Embedding proteins:  85%|█████████████████████████████████████████████████▎        | 1436/1690 [06:52<00:51,  4.94it/s]"
     ]
    },
    {
     "name": "stdout",
     "output_type": "stream",
     "text": [
      "✅ Embedded 9606.ENSP00000247001\n",
      "✅ Embedded 9606.ENSP00000244227\n",
      "✅ Embedded 9606.ENSP00000257181\n",
      "✅ Embedded 9606.ENSP00000252622\n",
      "✅ Embedded 9606.ENSP00000249299\n"
     ]
    },
    {
     "name": "stderr",
     "output_type": "stream",
     "text": [
      "Embedding proteins:  85%|█████████████████████████████████████████████████▍        | 1439/1690 [06:52<00:36,  6.81it/s]"
     ]
    },
    {
     "name": "stdout",
     "output_type": "stream",
     "text": [
      "✅ Embedded 9606.ENSP00000253329\n",
      "✅ Embedded 9606.ENSP00000254193\n"
     ]
    },
    {
     "name": "stderr",
     "output_type": "stream",
     "text": [
      "Embedding proteins:  85%|█████████████████████████████████████████████████▍        | 1441/1690 [06:53<00:39,  6.28it/s]"
     ]
    },
    {
     "name": "stdout",
     "output_type": "stream",
     "text": [
      "✅ Embedded 9606.ENSP00000261308\n"
     ]
    },
    {
     "name": "stderr",
     "output_type": "stream",
     "text": [
      "Embedding proteins:  85%|█████████████████████████████████████████████████▍        | 1442/1690 [06:53<00:44,  5.58it/s]"
     ]
    },
    {
     "name": "stdout",
     "output_type": "stream",
     "text": [
      "✅ Embedded 9606.ENSP00000261167\n"
     ]
    },
    {
     "name": "stderr",
     "output_type": "stream",
     "text": [
      "Embedding proteins:  85%|█████████████████████████████████████████████████▌        | 1444/1690 [06:53<00:43,  5.62it/s]"
     ]
    },
    {
     "name": "stdout",
     "output_type": "stream",
     "text": [
      "✅ Embedded 9606.ENSP00000246529\n",
      "✅ Embedded 9606.ENSP00000246194\n"
     ]
    },
    {
     "name": "stderr",
     "output_type": "stream",
     "text": [
      "Embedding proteins:  86%|█████████████████████████████████████████████████▌        | 1445/1690 [06:54<00:42,  5.76it/s]"
     ]
    },
    {
     "name": "stdout",
     "output_type": "stream",
     "text": [
      "✅ Embedded 9606.ENSP00000249842\n"
     ]
    },
    {
     "name": "stderr",
     "output_type": "stream",
     "text": [
      "Embedding proteins:  86%|█████████████████████████████████████████████████▋        | 1446/1690 [06:54<00:53,  4.53it/s]"
     ]
    },
    {
     "name": "stdout",
     "output_type": "stream",
     "text": [
      "✅ Embedded 9606.ENSP00000248668\n"
     ]
    },
    {
     "name": "stderr",
     "output_type": "stream",
     "text": [
      "Embedding proteins:  86%|█████████████████████████████████████████████████▋        | 1448/1690 [06:54<00:52,  4.63it/s]"
     ]
    },
    {
     "name": "stdout",
     "output_type": "stream",
     "text": [
      "✅ Embedded 9606.ENSP00000249363\n",
      "✅ Embedded 9606.ENSP00000250173\n"
     ]
    },
    {
     "name": "stderr",
     "output_type": "stream",
     "text": [
      "Embedding proteins:  86%|█████████████████████████████████████████████████▋        | 1449/1690 [06:55<00:55,  4.34it/s]"
     ]
    },
    {
     "name": "stdout",
     "output_type": "stream",
     "text": [
      "✅ Embedded 9606.ENSP00000256447\n"
     ]
    },
    {
     "name": "stderr",
     "output_type": "stream",
     "text": [
      "Embedding proteins:  86%|█████████████████████████████████████████████████▊        | 1450/1690 [06:55<01:05,  3.69it/s]"
     ]
    },
    {
     "name": "stdout",
     "output_type": "stream",
     "text": [
      "✅ Embedded 9606.ENSP00000259324\n"
     ]
    },
    {
     "name": "stderr",
     "output_type": "stream",
     "text": [
      "Embedding proteins:  86%|█████████████████████████████████████████████████▊        | 1451/1690 [06:55<01:04,  3.72it/s]"
     ]
    },
    {
     "name": "stdout",
     "output_type": "stream",
     "text": [
      "✅ Embedded 9606.ENSP00000260061\n"
     ]
    },
    {
     "name": "stderr",
     "output_type": "stream",
     "text": [
      "Embedding proteins:  86%|█████████████████████████████████████████████████▊        | 1452/1690 [06:56<01:04,  3.68it/s]"
     ]
    },
    {
     "name": "stdout",
     "output_type": "stream",
     "text": [
      "✅ Embedded 9606.ENSP00000260382\n"
     ]
    },
    {
     "name": "stderr",
     "output_type": "stream",
     "text": [
      "Embedding proteins:  86%|█████████████████████████████████████████████████▊        | 1453/1690 [06:57<02:03,  1.92it/s]"
     ]
    },
    {
     "name": "stdout",
     "output_type": "stream",
     "text": [
      "✅ Embedded 9606.ENSP00000260184\n",
      "✅ Embedded 9606.ENSP00000261172\n"
     ]
    },
    {
     "name": "stderr",
     "output_type": "stream",
     "text": [
      "Embedding proteins:  86%|█████████████████████████████████████████████████▉        | 1456/1690 [06:57<01:11,  3.29it/s]"
     ]
    },
    {
     "name": "stdout",
     "output_type": "stream",
     "text": [
      "✅ Embedded 9606.ENSP00000261951\n",
      "✅ Embedded 9606.ENSP00000207157\n"
     ]
    },
    {
     "name": "stderr",
     "output_type": "stream",
     "text": [
      "Embedding proteins:  86%|██████████████████████████████████████████████████        | 1458/1690 [06:57<00:52,  4.41it/s]"
     ]
    },
    {
     "name": "stdout",
     "output_type": "stream",
     "text": [
      "✅ Embedded 9606.ENSP00000254605\n",
      "✅ Embedded 9606.ENSP00000252997\n"
     ]
    },
    {
     "name": "stderr",
     "output_type": "stream",
     "text": [
      "Embedding proteins:  86%|██████████████████████████████████████████████████        | 1460/1690 [06:58<00:43,  5.31it/s]"
     ]
    },
    {
     "name": "stdout",
     "output_type": "stream",
     "text": [
      "✅ Embedded 9606.ENSP00000220429\n",
      "✅ Embedded 9606.ENSP00000232744\n"
     ]
    },
    {
     "name": "stderr",
     "output_type": "stream",
     "text": [
      "Embedding proteins:  86%|██████████████████████████████████████████████████▏       | 1461/1690 [06:58<00:41,  5.48it/s]"
     ]
    },
    {
     "name": "stdout",
     "output_type": "stream",
     "text": [
      "✅ Embedded 9606.ENSP00000242248\n"
     ]
    },
    {
     "name": "stderr",
     "output_type": "stream",
     "text": [
      "Embedding proteins:  87%|██████████████████████████████████████████████████▏       | 1462/1690 [06:58<01:05,  3.47it/s]"
     ]
    },
    {
     "name": "stdout",
     "output_type": "stream",
     "text": [
      "✅ Embedded 9606.ENSP00000262209\n"
     ]
    },
    {
     "name": "stderr",
     "output_type": "stream",
     "text": [
      "Embedding proteins:  87%|██████████████████████████████████████████████████▏       | 1464/1690 [06:59<00:53,  4.23it/s]"
     ]
    },
    {
     "name": "stdout",
     "output_type": "stream",
     "text": [
      "✅ Embedded 9606.ENSP00000237455\n",
      "✅ Embedded 9606.ENSP00000257575\n"
     ]
    },
    {
     "name": "stderr",
     "output_type": "stream",
     "text": [
      "Embedding proteins:  87%|██████████████████████████████████████████████████▎       | 1465/1690 [06:59<00:56,  3.97it/s]"
     ]
    },
    {
     "name": "stdout",
     "output_type": "stream",
     "text": [
      "✅ Embedded 9606.ENSP00000259050\n",
      "✅ Embedded 9606.ENSP00000261623\n"
     ]
    },
    {
     "name": "stderr",
     "output_type": "stream",
     "text": [
      "Embedding proteins:  87%|██████████████████████████████████████████████████▍       | 1468/1690 [07:00<00:45,  4.89it/s]"
     ]
    },
    {
     "name": "stdout",
     "output_type": "stream",
     "text": [
      "✅ Embedded 9606.ENSP00000249344\n",
      "✅ Embedded 9606.ENSP00000252725\n"
     ]
    },
    {
     "name": "stderr",
     "output_type": "stream",
     "text": [
      "Embedding proteins:  87%|██████████████████████████████████████████████████▍       | 1470/1690 [07:00<00:39,  5.61it/s]"
     ]
    },
    {
     "name": "stdout",
     "output_type": "stream",
     "text": [
      "✅ Embedded 9606.ENSP00000252674\n",
      "✅ Embedded 9606.ENSP00000249700\n"
     ]
    },
    {
     "name": "stderr",
     "output_type": "stream",
     "text": [
      "Embedding proteins:  87%|██████████████████████████████████████████████████▍       | 1471/1690 [07:00<00:37,  5.89it/s]"
     ]
    },
    {
     "name": "stdout",
     "output_type": "stream",
     "text": [
      "✅ Embedded 9606.ENSP00000219150\n"
     ]
    },
    {
     "name": "stderr",
     "output_type": "stream",
     "text": [
      "Embedding proteins:  87%|██████████████████████████████████████████████████▌       | 1472/1690 [07:01<00:52,  4.13it/s]"
     ]
    },
    {
     "name": "stdout",
     "output_type": "stream",
     "text": [
      "✅ Embedded 9606.ENSP00000222145\n",
      "✅ Embedded 9606.ENSP00000239940\n"
     ]
    },
    {
     "name": "stderr",
     "output_type": "stream",
     "text": [
      "Embedding proteins:  87%|██████████████████████████████████████████████████▌       | 1474/1690 [07:01<00:41,  5.20it/s]"
     ]
    },
    {
     "name": "stdout",
     "output_type": "stream",
     "text": [
      "✅ Embedded 9606.ENSP00000243903\n"
     ]
    },
    {
     "name": "stderr",
     "output_type": "stream",
     "text": [
      "Embedding proteins:  87%|██████████████████████████████████████████████████▌       | 1475/1690 [07:01<00:43,  4.91it/s]"
     ]
    },
    {
     "name": "stdout",
     "output_type": "stream",
     "text": [
      "✅ Embedded 9606.ENSP00000249636\n",
      "✅ Embedded 9606.ENSP00000247843\n"
     ]
    },
    {
     "name": "stderr",
     "output_type": "stream",
     "text": [
      "Embedding proteins:  88%|██████████████████████████████████████████████████▊       | 1479/1690 [07:02<00:39,  5.37it/s]"
     ]
    },
    {
     "name": "stdout",
     "output_type": "stream",
     "text": [
      "✅ Embedded 9606.ENSP00000254480\n",
      "✅ Embedded 9606.ENSP00000259477\n",
      "✅ Embedded 9606.ENSP00000259365\n"
     ]
    },
    {
     "name": "stderr",
     "output_type": "stream",
     "text": [
      "Embedding proteins:  88%|██████████████████████████████████████████████████▊       | 1480/1690 [07:03<01:29,  2.34it/s]"
     ]
    },
    {
     "name": "stdout",
     "output_type": "stream",
     "text": [
      "✅ Embedded 9606.ENSP00000258484\n"
     ]
    },
    {
     "name": "stderr",
     "output_type": "stream",
     "text": [
      "Embedding proteins:  88%|██████████████████████████████████████████████████▊       | 1481/1690 [07:05<02:50,  1.23it/s]"
     ]
    },
    {
     "name": "stdout",
     "output_type": "stream",
     "text": [
      "✅ Embedded 9606.ENSP00000261401\n"
     ]
    },
    {
     "name": "stderr",
     "output_type": "stream",
     "text": [
      "Embedding proteins:  88%|██████████████████████████████████████████████████▊       | 1482/1690 [07:07<03:44,  1.08s/it]"
     ]
    },
    {
     "name": "stdout",
     "output_type": "stream",
     "text": [
      "✅ Embedded 9606.ENSP00000262188\n"
     ]
    },
    {
     "name": "stderr",
     "output_type": "stream",
     "text": [
      "Embedding proteins:  88%|██████████████████████████████████████████████████▉       | 1483/1690 [07:08<03:04,  1.12it/s]"
     ]
    },
    {
     "name": "stdout",
     "output_type": "stream",
     "text": [
      "✅ Embedded 9606.ENSP00000244769\n"
     ]
    },
    {
     "name": "stderr",
     "output_type": "stream",
     "text": [
      "Embedding proteins:  88%|██████████████████████████████████████████████████▉       | 1484/1690 [07:09<03:25,  1.00it/s]"
     ]
    },
    {
     "name": "stdout",
     "output_type": "stream",
     "text": [
      "✅ Embedded 9606.ENSP00000259711\n"
     ]
    },
    {
     "name": "stderr",
     "output_type": "stream",
     "text": [
      "Embedding proteins:  88%|██████████████████████████████████████████████████▉       | 1485/1690 [07:17<10:11,  2.98s/it]"
     ]
    },
    {
     "name": "stdout",
     "output_type": "stream",
     "text": [
      "✅ Embedded 9606.ENSP00000237449\n"
     ]
    },
    {
     "name": "stderr",
     "output_type": "stream",
     "text": [
      "Embedding proteins:  88%|██████████████████████████████████████████████████▉       | 1486/1690 [07:19<09:05,  2.67s/it]"
     ]
    },
    {
     "name": "stdout",
     "output_type": "stream",
     "text": [
      "✅ Embedded 9606.ENSP00000257934\n"
     ]
    },
    {
     "name": "stderr",
     "output_type": "stream",
     "text": [
      "Embedding proteins:  88%|███████████████████████████████████████████████████       | 1489/1690 [07:27<07:51,  2.34s/it]"
     ]
    },
    {
     "name": "stdout",
     "output_type": "stream",
     "text": [
      "✅ Embedded 9606.ENSP00000261383\n",
      "✅ Embedded 9606.ENSP00000221233\n",
      "✅ Embedded 9606.ENSP00000221801\n"
     ]
    },
    {
     "name": "stderr",
     "output_type": "stream",
     "text": [
      "Embedding proteins:  88%|███████████████████████████████████████████████████▏      | 1491/1690 [07:27<04:37,  1.39s/it]"
     ]
    },
    {
     "name": "stdout",
     "output_type": "stream",
     "text": [
      "✅ Embedded 9606.ENSP00000225298\n",
      "✅ Embedded 9606.ENSP00000230340\n"
     ]
    },
    {
     "name": "stderr",
     "output_type": "stream",
     "text": [
      "Embedding proteins:  88%|███████████████████████████████████████████████████▏      | 1493/1690 [07:28<02:40,  1.23it/s]"
     ]
    },
    {
     "name": "stdout",
     "output_type": "stream",
     "text": [
      "✅ Embedded 9606.ENSP00000229214\n",
      "✅ Embedded 9606.ENSP00000232888\n"
     ]
    },
    {
     "name": "stderr",
     "output_type": "stream",
     "text": [
      "Embedding proteins:  88%|███████████████████████████████████████████████████▎      | 1494/1690 [07:28<02:11,  1.49it/s]"
     ]
    },
    {
     "name": "stdout",
     "output_type": "stream",
     "text": [
      "✅ Embedded 9606.ENSP00000244230\n"
     ]
    },
    {
     "name": "stderr",
     "output_type": "stream",
     "text": [
      "Embedding proteins:  88%|███████████████████████████████████████████████████▎      | 1495/1690 [07:29<02:39,  1.23it/s]"
     ]
    },
    {
     "name": "stdout",
     "output_type": "stream",
     "text": [
      "✅ Embedded 9606.ENSP00000245838\n",
      "✅ Embedded 9606.ENSP00000244496\n"
     ]
    },
    {
     "name": "stderr",
     "output_type": "stream",
     "text": [
      "Embedding proteins:  89%|███████████████████████████████████████████████████▍      | 1497/1690 [07:29<01:38,  1.97it/s]"
     ]
    },
    {
     "name": "stdout",
     "output_type": "stream",
     "text": [
      "✅ Embedded 9606.ENSP00000247003\n"
     ]
    },
    {
     "name": "stderr",
     "output_type": "stream",
     "text": [
      "Embedding proteins:  89%|███████████████████████████████████████████████████▍      | 1498/1690 [07:30<01:29,  2.16it/s]"
     ]
    },
    {
     "name": "stdout",
     "output_type": "stream",
     "text": [
      "✅ Embedded 9606.ENSP00000252011\n",
      "✅ Embedded 9606.ENSP00000250405\n"
     ]
    },
    {
     "name": "stderr",
     "output_type": "stream",
     "text": [
      "Embedding proteins:  89%|███████████████████████████████████████████████████▍      | 1500/1690 [07:30<00:59,  3.18it/s]"
     ]
    },
    {
     "name": "stdout",
     "output_type": "stream",
     "text": [
      "✅ Embedded 9606.ENSP00000252115\n",
      "✅ Embedded 9606.ENSP00000254037\n"
     ]
    },
    {
     "name": "stderr",
     "output_type": "stream",
     "text": [
      "Embedding proteins:  89%|███████████████████████████████████████████████████▌      | 1503/1690 [07:31<00:54,  3.44it/s]"
     ]
    },
    {
     "name": "stdout",
     "output_type": "stream",
     "text": [
      "✅ Embedded 9606.ENSP00000257829\n",
      "✅ Embedded 9606.ENSP00000254803\n"
     ]
    },
    {
     "name": "stderr",
     "output_type": "stream",
     "text": [
      "Embedding proteins:  89%|███████████████████████████████████████████████████▋      | 1505/1690 [07:31<00:45,  4.09it/s]"
     ]
    },
    {
     "name": "stdout",
     "output_type": "stream",
     "text": [
      "✅ Embedded 9606.ENSP00000261708\n",
      "✅ Embedded 9606.ENSP00000260563\n"
     ]
    },
    {
     "name": "stderr",
     "output_type": "stream",
     "text": [
      "Embedding proteins:  89%|███████████████████████████████████████████████████▋      | 1506/1690 [07:34<02:53,  1.06it/s]"
     ]
    },
    {
     "name": "stdout",
     "output_type": "stream",
     "text": [
      "✅ Embedded 9606.ENSP00000261637\n"
     ]
    },
    {
     "name": "stderr",
     "output_type": "stream",
     "text": [
      "Embedding proteins:  89%|███████████████████████████████████████████████████▊      | 1508/1690 [07:35<01:47,  1.69it/s]"
     ]
    },
    {
     "name": "stdout",
     "output_type": "stream",
     "text": [
      "✅ Embedded 9606.ENSP00000261600\n",
      "✅ Embedded 9606.ENSP00000259075\n"
     ]
    },
    {
     "name": "stderr",
     "output_type": "stream",
     "text": [
      "Embedding proteins:  89%|███████████████████████████████████████████████████▊      | 1510/1690 [07:35<01:25,  2.11it/s]"
     ]
    },
    {
     "name": "stdout",
     "output_type": "stream",
     "text": [
      "✅ Embedded 9606.ENSP00000261483\n",
      "✅ Embedded 9606.ENSP00000222286\n",
      "✅ Embedded 9606.ENSP00000243578\n"
     ]
    },
    {
     "name": "stderr",
     "output_type": "stream",
     "text": [
      "Embedding proteins:  90%|███████████████████████████████████████████████████▉      | 1513/1690 [07:36<00:44,  4.02it/s]"
     ]
    },
    {
     "name": "stdout",
     "output_type": "stream",
     "text": [
      "✅ Embedded 9606.ENSP00000242872\n",
      "✅ Embedded 9606.ENSP00000260662\n"
     ]
    },
    {
     "name": "stderr",
     "output_type": "stream",
     "text": [
      "Embedding proteins:  90%|███████████████████████████████████████████████████▉      | 1514/1690 [07:36<01:00,  2.93it/s]"
     ]
    },
    {
     "name": "stdout",
     "output_type": "stream",
     "text": [
      "✅ Embedded 9606.ENSP00000261716\n"
     ]
    },
    {
     "name": "stderr",
     "output_type": "stream",
     "text": [
      "Embedding proteins:  90%|████████████████████████████████████████████████████      | 1516/1690 [07:38<01:29,  1.94it/s]"
     ]
    },
    {
     "name": "stdout",
     "output_type": "stream",
     "text": [
      "✅ Embedded 9606.ENSP00000261435\n",
      "✅ Embedded 9606.ENSP00000217173\n"
     ]
    },
    {
     "name": "stderr",
     "output_type": "stream",
     "text": [
      "Embedding proteins:  90%|████████████████████████████████████████████████████      | 1518/1690 [07:38<01:05,  2.64it/s]"
     ]
    },
    {
     "name": "stdout",
     "output_type": "stream",
     "text": [
      "✅ Embedded 9606.ENSP00000223073\n",
      "✅ Embedded 9606.ENSP00000261015\n"
     ]
    },
    {
     "name": "stderr",
     "output_type": "stream",
     "text": [
      "Embedding proteins:  90%|████████████████████████████████████████████████████▏     | 1519/1690 [07:39<01:10,  2.43it/s]"
     ]
    },
    {
     "name": "stdout",
     "output_type": "stream",
     "text": [
      "✅ Embedded 9606.ENSP00000244728\n"
     ]
    },
    {
     "name": "stderr",
     "output_type": "stream",
     "text": [
      "Embedding proteins:  90%|████████████████████████████████████████████████████▏     | 1520/1690 [07:39<01:01,  2.77it/s]"
     ]
    },
    {
     "name": "stdout",
     "output_type": "stream",
     "text": [
      "✅ Embedded 9606.ENSP00000252242\n"
     ]
    },
    {
     "name": "stderr",
     "output_type": "stream",
     "text": [
      "Embedding proteins:  90%|████████████████████████████████████████████████████▏     | 1521/1690 [07:52<11:11,  3.97s/it]"
     ]
    },
    {
     "name": "stdout",
     "output_type": "stream",
     "text": [
      "✅ Embedded 9606.ENSP00000244364\n"
     ]
    },
    {
     "name": "stderr",
     "output_type": "stream",
     "text": [
      "Embedding proteins:  90%|████████████████████████████████████████████████████▏     | 1522/1690 [07:52<08:00,  2.86s/it]"
     ]
    },
    {
     "name": "stdout",
     "output_type": "stream",
     "text": [
      "✅ Embedded 9606.ENSP00000252250\n"
     ]
    },
    {
     "name": "stderr",
     "output_type": "stream",
     "text": [
      "Embedding proteins:  90%|████████████████████████████████████████████████████▎     | 1524/1690 [07:52<04:12,  1.52s/it]"
     ]
    },
    {
     "name": "stdout",
     "output_type": "stream",
     "text": [
      "✅ Embedded 9606.ENSP00000252244\n",
      "✅ Embedded 9606.ENSP00000252245\n"
     ]
    },
    {
     "name": "stderr",
     "output_type": "stream",
     "text": [
      "Embedding proteins:  90%|████████████████████████████████████████████████████▎     | 1525/1690 [07:53<03:05,  1.13s/it]"
     ]
    },
    {
     "name": "stdout",
     "output_type": "stream",
     "text": [
      "✅ Embedded 9606.ENSP00000257951\n"
     ]
    },
    {
     "name": "stderr",
     "output_type": "stream",
     "text": [
      "Embedding proteins:  90%|████████████████████████████████████████████████████▎     | 1526/1690 [07:53<02:20,  1.17it/s]"
     ]
    },
    {
     "name": "stdout",
     "output_type": "stream",
     "text": [
      "✅ Embedded 9606.ENSP00000252252\n"
     ]
    },
    {
     "name": "stderr",
     "output_type": "stream",
     "text": [
      "Embedding proteins:  90%|████████████████████████████████████████████████████▍     | 1528/1690 [07:53<01:24,  1.91it/s]"
     ]
    },
    {
     "name": "stdout",
     "output_type": "stream",
     "text": [
      "✅ Embedded 9606.ENSP00000257974\n",
      "✅ Embedded 9606.ENSP00000232003\n"
     ]
    },
    {
     "name": "stderr",
     "output_type": "stream",
     "text": [
      "Embedding proteins:  90%|████████████████████████████████████████████████████▍     | 1529/1690 [07:53<01:10,  2.29it/s]"
     ]
    },
    {
     "name": "stdout",
     "output_type": "stream",
     "text": [
      "✅ Embedded 9606.ENSP00000218439\n",
      "✅ Embedded 9606.ENSP00000223271\n"
     ]
    },
    {
     "name": "stderr",
     "output_type": "stream",
     "text": [
      "Embedding proteins:  91%|████████████████████████████████████████████████████▌     | 1533/1690 [07:54<00:32,  4.86it/s]"
     ]
    },
    {
     "name": "stdout",
     "output_type": "stream",
     "text": [
      "✅ Embedded 9606.ENSP00000226355\n",
      "✅ Embedded 9606.ENSP00000242465\n",
      "✅ Embedded 9606.ENSP00000259396\n"
     ]
    },
    {
     "name": "stderr",
     "output_type": "stream",
     "text": [
      "Embedding proteins:  91%|████████████████████████████████████████████████████▋     | 1535/1690 [07:54<00:28,  5.47it/s]"
     ]
    },
    {
     "name": "stdout",
     "output_type": "stream",
     "text": [
      "✅ Embedded 9606.ENSP00000229395\n",
      "✅ Embedded 9606.ENSP00000259748\n"
     ]
    },
    {
     "name": "stderr",
     "output_type": "stream",
     "text": [
      "Embedding proteins:  91%|████████████████████████████████████████████████████▋     | 1537/1690 [07:54<00:21,  6.99it/s]"
     ]
    },
    {
     "name": "stdout",
     "output_type": "stream",
     "text": [
      "✅ Embedded 9606.ENSP00000237283\n",
      "✅ Embedded 9606.ENSP00000216027\n",
      "✅ Embedded 9606.ENSP00000257245\n",
      "✅ Embedded 9606.ENSP00000260867\n"
     ]
    },
    {
     "name": "stderr",
     "output_type": "stream",
     "text": [
      "Embedding proteins:  91%|████████████████████████████████████████████████████▉     | 1541/1690 [07:55<00:19,  7.64it/s]"
     ]
    },
    {
     "name": "stdout",
     "output_type": "stream",
     "text": [
      "✅ Embedded 9606.ENSP00000240316\n",
      "✅ Embedded 9606.ENSP00000233078\n"
     ]
    },
    {
     "name": "stderr",
     "output_type": "stream",
     "text": [
      "Embedding proteins:  91%|████████████████████████████████████████████████████▉     | 1542/1690 [07:55<00:19,  7.77it/s]"
     ]
    },
    {
     "name": "stdout",
     "output_type": "stream",
     "text": [
      "✅ Embedded 9606.ENSP00000257552\n",
      "✅ Embedded 9606.ENSP00000259555\n"
     ]
    },
    {
     "name": "stderr",
     "output_type": "stream",
     "text": [
      "Embedding proteins:  91%|████████████████████████████████████████████████████▉     | 1544/1690 [07:55<00:18,  8.01it/s]"
     ]
    },
    {
     "name": "stdout",
     "output_type": "stream",
     "text": [
      "✅ Embedded 9606.ENSP00000261721\n"
     ]
    },
    {
     "name": "stderr",
     "output_type": "stream",
     "text": [
      "Embedding proteins:  91%|█████████████████████████████████████████████████████     | 1545/1690 [07:55<00:24,  5.97it/s]"
     ]
    },
    {
     "name": "stdout",
     "output_type": "stream",
     "text": [
      "✅ Embedded 9606.ENSP00000237281\n",
      "✅ Embedded 9606.ENSP00000261593\n"
     ]
    },
    {
     "name": "stderr",
     "output_type": "stream",
     "text": [
      "Embedding proteins:  92%|█████████████████████████████████████████████████████▏    | 1548/1690 [07:56<00:20,  6.87it/s]"
     ]
    },
    {
     "name": "stdout",
     "output_type": "stream",
     "text": [
      "✅ Embedded 9606.ENSP00000219548\n",
      "✅ Embedded 9606.ENSP00000224862\n"
     ]
    },
    {
     "name": "stderr",
     "output_type": "stream",
     "text": [
      "Embedding proteins:  92%|█████████████████████████████████████████████████████▏    | 1550/1690 [07:56<00:22,  6.17it/s]"
     ]
    },
    {
     "name": "stdout",
     "output_type": "stream",
     "text": [
      "✅ Embedded 9606.ENSP00000253571\n",
      "✅ Embedded 9606.ENSP00000247977\n",
      "✅ Embedded 9606.ENSP00000244061\n"
     ]
    },
    {
     "name": "stderr",
     "output_type": "stream",
     "text": [
      "Embedding proteins:  92%|█████████████████████████████████████████████████████▎    | 1552/1690 [07:56<00:20,  6.84it/s]"
     ]
    },
    {
     "name": "stdout",
     "output_type": "stream",
     "text": [
      "✅ Embedded 9606.ENSP00000244426\n",
      "✅ Embedded 9606.ENSP00000251547\n"
     ]
    },
    {
     "name": "stderr",
     "output_type": "stream",
     "text": [
      "Embedding proteins:  92%|█████████████████████████████████████████████████████▎    | 1554/1690 [07:57<00:20,  6.66it/s]"
     ]
    },
    {
     "name": "stdout",
     "output_type": "stream",
     "text": [
      "✅ Embedded 9606.ENSP00000248272\n",
      "✅ Embedded 9606.ENSP00000253023\n"
     ]
    },
    {
     "name": "stderr",
     "output_type": "stream",
     "text": [
      "Embedding proteins:  92%|█████████████████████████████████████████████████████▍    | 1557/1690 [07:57<00:24,  5.37it/s]"
     ]
    },
    {
     "name": "stdout",
     "output_type": "stream",
     "text": [
      "✅ Embedded 9606.ENSP00000258123\n",
      "✅ Embedded 9606.ENSP00000255977\n"
     ]
    },
    {
     "name": "stderr",
     "output_type": "stream",
     "text": [
      "Embedding proteins:  92%|█████████████████████████████████████████████████████▌    | 1560/1690 [07:58<00:17,  7.32it/s]"
     ]
    },
    {
     "name": "stdout",
     "output_type": "stream",
     "text": [
      "✅ Embedded 9606.ENSP00000258200\n",
      "✅ Embedded 9606.ENSP00000259939\n",
      "✅ Embedded 9606.ENSP00000261427\n",
      "✅ Embedded 9606.ENSP00000262306\n"
     ]
    },
    {
     "name": "stderr",
     "output_type": "stream",
     "text": [
      "Embedding proteins:  92%|█████████████████████████████████████████████████████▌    | 1562/1690 [07:58<00:24,  5.33it/s]"
     ]
    },
    {
     "name": "stdout",
     "output_type": "stream",
     "text": [
      "✅ Embedded 9606.ENSP00000262294\n",
      "✅ Embedded 9606.ENSP00000251312\n"
     ]
    },
    {
     "name": "stderr",
     "output_type": "stream",
     "text": [
      "Embedding proteins:  93%|█████████████████████████████████████████████████████▋    | 1564/1690 [07:59<00:22,  5.67it/s]"
     ]
    },
    {
     "name": "stdout",
     "output_type": "stream",
     "text": [
      "✅ Embedded 9606.ENSP00000225402\n"
     ]
    },
    {
     "name": "stderr",
     "output_type": "stream",
     "text": [
      "Embedding proteins:  93%|█████████████████████████████████████████████████████▋    | 1565/1690 [08:00<01:03,  1.97it/s]"
     ]
    },
    {
     "name": "stdout",
     "output_type": "stream",
     "text": [
      "✅ Embedded 9606.ENSP00000260197\n",
      "✅ Embedded 9606.ENSP00000261879\n"
     ]
    },
    {
     "name": "stderr",
     "output_type": "stream",
     "text": [
      "Embedding proteins:  93%|█████████████████████████████████████████████████████▊    | 1567/1690 [08:01<00:46,  2.64it/s]"
     ]
    },
    {
     "name": "stdout",
     "output_type": "stream",
     "text": [
      "✅ Embedded 9606.ENSP00000244565\n"
     ]
    },
    {
     "name": "stderr",
     "output_type": "stream",
     "text": [
      "Embedding proteins:  93%|█████████████████████████████████████████████████████▊    | 1568/1690 [08:01<00:47,  2.59it/s]"
     ]
    },
    {
     "name": "stdout",
     "output_type": "stream",
     "text": [
      "✅ Embedded 9606.ENSP00000258613\n",
      "✅ Embedded 9606.ENSP00000246041\n"
     ]
    },
    {
     "name": "stderr",
     "output_type": "stream",
     "text": [
      "Embedding proteins:  93%|█████████████████████████████████████████████████████▉    | 1570/1690 [08:02<00:37,  3.24it/s]"
     ]
    },
    {
     "name": "stdout",
     "output_type": "stream",
     "text": [
      "✅ Embedded 9606.ENSP00000261681\n",
      "✅ Embedded 9606.ENSP00000221978\n"
     ]
    },
    {
     "name": "stderr",
     "output_type": "stream",
     "text": [
      "Embedding proteins:  93%|█████████████████████████████████████████████████████▉    | 1572/1690 [08:03<00:55,  2.11it/s]"
     ]
    },
    {
     "name": "stdout",
     "output_type": "stream",
     "text": [
      "✅ Embedded 9606.ENSP00000256190\n"
     ]
    },
    {
     "name": "stderr",
     "output_type": "stream",
     "text": [
      "Embedding proteins:  93%|██████████████████████████████████████████████████████    | 1575/1690 [08:03<00:33,  3.46it/s]"
     ]
    },
    {
     "name": "stdout",
     "output_type": "stream",
     "text": [
      "✅ Embedded 9606.ENSP00000221086\n",
      "✅ Embedded 9606.ENSP00000225504\n",
      "✅ Embedded 9606.ENSP00000234827\n"
     ]
    },
    {
     "name": "stderr",
     "output_type": "stream",
     "text": [
      "Embedding proteins:  93%|██████████████████████████████████████████████████████    | 1577/1690 [08:04<00:28,  3.93it/s]"
     ]
    },
    {
     "name": "stdout",
     "output_type": "stream",
     "text": [
      "✅ Embedded 9606.ENSP00000256398\n",
      "✅ Embedded 9606.ENSP00000262173\n"
     ]
    },
    {
     "name": "stderr",
     "output_type": "stream",
     "text": [
      "Embedding proteins:  93%|██████████████████████████████████████████████████████▏   | 1580/1690 [08:04<00:22,  4.94it/s]"
     ]
    },
    {
     "name": "stdout",
     "output_type": "stream",
     "text": [
      "✅ Embedded 9606.ENSP00000228850\n",
      "✅ Embedded 9606.ENSP00000252071\n",
      "✅ Embedded 9606.ENSP00000251607\n"
     ]
    },
    {
     "name": "stderr",
     "output_type": "stream",
     "text": [
      "Embedding proteins:  94%|██████████████████████████████████████████████████████▎   | 1581/1690 [08:05<00:21,  5.10it/s]"
     ]
    },
    {
     "name": "stdout",
     "output_type": "stream",
     "text": [
      "✅ Embedded 9606.ENSP00000256001\n"
     ]
    },
    {
     "name": "stderr",
     "output_type": "stream",
     "text": [
      "Embedding proteins:  94%|██████████████████████████████████████████████████████▎   | 1582/1690 [08:05<00:26,  4.05it/s]"
     ]
    },
    {
     "name": "stdout",
     "output_type": "stream",
     "text": [
      "✅ Embedded 9606.ENSP00000261514\n",
      "✅ Embedded 9606.ENSP00000238628\n"
     ]
    },
    {
     "name": "stderr",
     "output_type": "stream",
     "text": [
      "Embedding proteins:  94%|██████████████████████████████████████████████████████▎   | 1584/1690 [08:05<00:21,  4.87it/s]"
     ]
    },
    {
     "name": "stdout",
     "output_type": "stream",
     "text": [
      "✅ Embedded 9606.ENSP00000242591\n"
     ]
    },
    {
     "name": "stderr",
     "output_type": "stream",
     "text": [
      "Embedding proteins:  94%|██████████████████████████████████████████████████████▍   | 1585/1690 [08:06<00:34,  3.08it/s]"
     ]
    },
    {
     "name": "stdout",
     "output_type": "stream",
     "text": [
      "✅ Embedded 9606.ENSP00000243344\n"
     ]
    },
    {
     "name": "stderr",
     "output_type": "stream",
     "text": [
      "Embedding proteins:  94%|██████████████████████████████████████████████████████▍   | 1586/1690 [08:07<00:58,  1.79it/s]"
     ]
    },
    {
     "name": "stdout",
     "output_type": "stream",
     "text": [
      "✅ Embedded 9606.ENSP00000260570\n"
     ]
    },
    {
     "name": "stderr",
     "output_type": "stream",
     "text": [
      "Embedding proteins:  94%|██████████████████████████████████████████████████████▍   | 1587/1690 [08:07<00:48,  2.13it/s]"
     ]
    },
    {
     "name": "stdout",
     "output_type": "stream",
     "text": [
      "✅ Embedded 9606.ENSP00000252599\n"
     ]
    },
    {
     "name": "stderr",
     "output_type": "stream",
     "text": [
      "Embedding proteins:  94%|██████████████████████████████████████████████████████▌   | 1590/1690 [08:08<00:26,  3.78it/s]"
     ]
    },
    {
     "name": "stdout",
     "output_type": "stream",
     "text": [
      "✅ Embedded 9606.ENSP00000223127\n",
      "✅ Embedded 9606.ENSP00000261868\n",
      "✅ Embedded 9606.ENSP00000223641\n",
      "✅ Embedded 9606.ENSP00000233025\n"
     ]
    },
    {
     "name": "stderr",
     "output_type": "stream",
     "text": [
      "Embedding proteins:  94%|██████████████████████████████████████████████████████▋   | 1592/1690 [08:08<00:18,  5.20it/s]"
     ]
    },
    {
     "name": "stdout",
     "output_type": "stream",
     "text": [
      "✅ Embedded 9606.ENSP00000244763\n"
     ]
    },
    {
     "name": "stderr",
     "output_type": "stream",
     "text": [
      "Embedding proteins:  94%|██████████████████████████████████████████████████████▋   | 1594/1690 [08:08<00:17,  5.64it/s]"
     ]
    },
    {
     "name": "stdout",
     "output_type": "stream",
     "text": [
      "✅ Embedded 9606.ENSP00000254730\n",
      "✅ Embedded 9606.ENSP00000262213\n"
     ]
    },
    {
     "name": "stderr",
     "output_type": "stream",
     "text": [
      "Embedding proteins:  94%|██████████████████████████████████████████████████████▊   | 1596/1690 [08:09<00:14,  6.53it/s]"
     ]
    },
    {
     "name": "stdout",
     "output_type": "stream",
     "text": [
      "✅ Embedded 9606.ENSP00000222567\n",
      "✅ Embedded 9606.ENSP00000223114\n",
      "✅ Embedded 9606.ENSP00000216068\n"
     ]
    },
    {
     "name": "stderr",
     "output_type": "stream",
     "text": [
      "Embedding proteins:  95%|██████████████████████████████████████████████████████▊   | 1598/1690 [08:09<00:12,  7.44it/s]"
     ]
    },
    {
     "name": "stdout",
     "output_type": "stream",
     "text": [
      "✅ Embedded 9606.ENSP00000222250\n",
      "✅ Embedded 9606.ENSP00000216185\n"
     ]
    },
    {
     "name": "stderr",
     "output_type": "stream",
     "text": [
      "Embedding proteins:  95%|██████████████████████████████████████████████████████▉   | 1600/1690 [08:09<00:11,  7.67it/s]"
     ]
    },
    {
     "name": "stdout",
     "output_type": "stream",
     "text": [
      "✅ Embedded 9606.ENSP00000221130\n"
     ]
    },
    {
     "name": "stderr",
     "output_type": "stream",
     "text": [
      "Embedding proteins:  95%|██████████████████████████████████████████████████████▉   | 1601/1690 [08:09<00:15,  5.92it/s]"
     ]
    },
    {
     "name": "stdout",
     "output_type": "stream",
     "text": [
      "✅ Embedded 9606.ENSP00000242317\n"
     ]
    },
    {
     "name": "stderr",
     "output_type": "stream",
     "text": [
      "Embedding proteins:  95%|███████████████████████████████████████████████████████   | 1603/1690 [08:20<02:50,  1.96s/it]"
     ]
    },
    {
     "name": "stdout",
     "output_type": "stream",
     "text": [
      "✅ Embedded 9606.ENSP00000254579\n",
      "✅ Embedded 9606.ENSP00000251810\n"
     ]
    },
    {
     "name": "stderr",
     "output_type": "stream",
     "text": [
      "Embedding proteins:  95%|███████████████████████████████████████████████████████   | 1605/1690 [08:20<01:39,  1.17s/it]"
     ]
    },
    {
     "name": "stdout",
     "output_type": "stream",
     "text": [
      "✅ Embedded 9606.ENSP00000250615\n",
      "✅ Embedded 9606.ENSP00000251595\n"
     ]
    },
    {
     "name": "stderr",
     "output_type": "stream",
     "text": [
      "Embedding proteins:  95%|███████████████████████████████████████████████████████   | 1606/1690 [08:20<01:22,  1.01it/s]"
     ]
    },
    {
     "name": "stdout",
     "output_type": "stream",
     "text": [
      "✅ Embedded 9606.ENSP00000225296\n"
     ]
    },
    {
     "name": "stderr",
     "output_type": "stream",
     "text": [
      "Embedding proteins:  95%|███████████████████████████████████████████████████████▏  | 1607/1690 [08:21<01:10,  1.18it/s]"
     ]
    },
    {
     "name": "stdout",
     "output_type": "stream",
     "text": [
      "✅ Embedded 9606.ENSP00000251241\n"
     ]
    },
    {
     "name": "stderr",
     "output_type": "stream",
     "text": [
      "Embedding proteins:  95%|███████████████████████████████████████████████████████▏  | 1609/1690 [08:22<00:53,  1.51it/s]"
     ]
    },
    {
     "name": "stdout",
     "output_type": "stream",
     "text": [
      "✅ Embedded 9606.ENSP00000251636\n",
      "✅ Embedded 9606.ENSP00000254521\n"
     ]
    },
    {
     "name": "stderr",
     "output_type": "stream",
     "text": [
      "Embedding proteins:  95%|███████████████████████████████████████████████████████▎  | 1610/1690 [08:23<00:53,  1.50it/s]"
     ]
    },
    {
     "name": "stdout",
     "output_type": "stream",
     "text": [
      "✅ Embedded 9606.ENSP00000256194\n"
     ]
    },
    {
     "name": "stderr",
     "output_type": "stream",
     "text": [
      "Embedding proteins:  95%|███████████████████████████████████████████████████████▎  | 1611/1690 [08:23<00:46,  1.70it/s]"
     ]
    },
    {
     "name": "stdout",
     "output_type": "stream",
     "text": [
      "✅ Embedded 9606.ENSP00000215957\n"
     ]
    },
    {
     "name": "stderr",
     "output_type": "stream",
     "text": [
      "Embedding proteins:  95%|███████████████████████████████████████████████████████▎  | 1612/1690 [08:23<00:42,  1.84it/s]"
     ]
    },
    {
     "name": "stdout",
     "output_type": "stream",
     "text": [
      "✅ Embedded 9606.ENSP00000254466\n"
     ]
    },
    {
     "name": "stderr",
     "output_type": "stream",
     "text": [
      "Embedding proteins:  96%|███████████████████████████████████████████████████████▍  | 1615/1690 [08:24<00:25,  2.96it/s]"
     ]
    },
    {
     "name": "stdout",
     "output_type": "stream",
     "text": [
      "✅ Embedded 9606.ENSP00000261503\n",
      "✅ Embedded 9606.ENSP00000261813\n",
      "✅ Embedded 9606.ENSP00000258169\n",
      "✅ Embedded 9606.ENSP00000258424\n"
     ]
    },
    {
     "name": "stderr",
     "output_type": "stream",
     "text": [
      "Embedding proteins:  96%|███████████████████████████████████████████████████████▌  | 1618/1690 [08:25<00:15,  4.51it/s]"
     ]
    },
    {
     "name": "stdout",
     "output_type": "stream",
     "text": [
      "✅ Embedded 9606.ENSP00000256452\n",
      "✅ Embedded 9606.ENSP00000242338\n"
     ]
    },
    {
     "name": "stderr",
     "output_type": "stream",
     "text": [
      "Embedding proteins:  96%|███████████████████████████████████████████████████████▌  | 1619/1690 [08:25<00:14,  4.92it/s]"
     ]
    },
    {
     "name": "stdout",
     "output_type": "stream",
     "text": [
      "✅ Embedded 9606.ENSP00000243213\n"
     ]
    },
    {
     "name": "stderr",
     "output_type": "stream",
     "text": [
      "Embedding proteins:  96%|███████████████████████████████████████████████████████▋  | 1621/1690 [08:25<00:14,  4.84it/s]"
     ]
    },
    {
     "name": "stdout",
     "output_type": "stream",
     "text": [
      "✅ Embedded 9606.ENSP00000244174\n",
      "✅ Embedded 9606.ENSP00000219406\n"
     ]
    },
    {
     "name": "stderr",
     "output_type": "stream",
     "text": [
      "Embedding proteins:  96%|███████████████████████████████████████████████████████▋  | 1623/1690 [08:26<00:15,  4.37it/s]"
     ]
    },
    {
     "name": "stdout",
     "output_type": "stream",
     "text": [
      "✅ Embedded 9606.ENSP00000255189\n",
      "✅ Embedded 9606.ENSP00000223208\n"
     ]
    },
    {
     "name": "stderr",
     "output_type": "stream",
     "text": [
      "Embedding proteins:  96%|███████████████████████████████████████████████████████▋  | 1624/1690 [08:26<00:15,  4.29it/s]"
     ]
    },
    {
     "name": "stdout",
     "output_type": "stream",
     "text": [
      "✅ Embedded 9606.ENSP00000243706\n"
     ]
    },
    {
     "name": "stderr",
     "output_type": "stream",
     "text": [
      "Embedding proteins:  96%|███████████████████████████████████████████████████████▊  | 1626/1690 [08:27<00:19,  3.24it/s]"
     ]
    },
    {
     "name": "stdout",
     "output_type": "stream",
     "text": [
      "✅ Embedded 9606.ENSP00000257287\n",
      "✅ Embedded 9606.ENSP00000253669\n",
      "✅ Embedded 9606.ENSP00000260372\n"
     ]
    },
    {
     "name": "stderr",
     "output_type": "stream",
     "text": [
      "Embedding proteins:  96%|███████████████████████████████████████████████████████▉  | 1629/1690 [08:27<00:13,  4.57it/s]"
     ]
    },
    {
     "name": "stdout",
     "output_type": "stream",
     "text": [
      "✅ Embedded 9606.ENSP00000262127\n",
      "✅ Embedded 9606.ENSP00000241502\n"
     ]
    },
    {
     "name": "stderr",
     "output_type": "stream",
     "text": [
      "Embedding proteins:  97%|███████████████████████████████████████████████████████▉  | 1631/1690 [08:28<00:15,  3.89it/s]"
     ]
    },
    {
     "name": "stdout",
     "output_type": "stream",
     "text": [
      "✅ Embedded 9606.ENSP00000257622\n",
      "✅ Embedded 9606.ENSP00000258742\n"
     ]
    },
    {
     "name": "stderr",
     "output_type": "stream",
     "text": [
      "Embedding proteins:  97%|████████████████████████████████████████████████████████  | 1635/1690 [08:28<00:07,  7.46it/s]"
     ]
    },
    {
     "name": "stdout",
     "output_type": "stream",
     "text": [
      "✅ Embedded 9606.ENSP00000244527\n",
      "✅ Embedded 9606.ENSP00000243997\n",
      "✅ Embedded 9606.ENSP00000259989\n",
      "✅ Embedded 9606.ENSP00000248114\n",
      "✅ Embedded 9606.ENSP00000242719\n"
     ]
    },
    {
     "name": "stderr",
     "output_type": "stream",
     "text": [
      "Embedding proteins:  97%|████████████████████████████████████████████████████████▏ | 1637/1690 [08:30<00:24,  2.14it/s]"
     ]
    },
    {
     "name": "stdout",
     "output_type": "stream",
     "text": [
      "✅ Embedded 9606.ENSP00000252050\n",
      "✅ Embedded 9606.ENSP00000256257\n"
     ]
    },
    {
     "name": "stderr",
     "output_type": "stream",
     "text": [
      "Embedding proteins:  97%|████████████████████████████████████████████████████████▎ | 1640/1690 [08:31<00:15,  3.18it/s]"
     ]
    },
    {
     "name": "stdout",
     "output_type": "stream",
     "text": [
      "✅ Embedded 9606.ENSP00000259605\n",
      "✅ Embedded 9606.ENSP00000216294\n"
     ]
    },
    {
     "name": "stderr",
     "output_type": "stream",
     "text": [
      "Embedding proteins:  97%|████████████████████████████████████████████████████████▎ | 1641/1690 [08:31<00:13,  3.70it/s]"
     ]
    },
    {
     "name": "stdout",
     "output_type": "stream",
     "text": [
      "✅ Embedded 9606.ENSP00000221573\n"
     ]
    },
    {
     "name": "stderr",
     "output_type": "stream",
     "text": [
      "Embedding proteins:  97%|████████████████████████████████████████████████████████▍ | 1643/1690 [08:31<00:10,  4.40it/s]"
     ]
    },
    {
     "name": "stdout",
     "output_type": "stream",
     "text": [
      "✅ Embedded 9606.ENSP00000237853\n",
      "✅ Embedded 9606.ENSP00000260956\n"
     ]
    },
    {
     "name": "stderr",
     "output_type": "stream",
     "text": [
      "Embedding proteins:  97%|████████████████████████████████████████████████████████▍ | 1644/1690 [08:31<00:09,  4.67it/s]"
     ]
    },
    {
     "name": "stdout",
     "output_type": "stream",
     "text": [
      "✅ Embedded 9606.ENSP00000260327\n"
     ]
    },
    {
     "name": "stderr",
     "output_type": "stream",
     "text": [
      "Embedding proteins:  97%|████████████████████████████████████████████████████████▍ | 1645/1690 [08:32<00:10,  4.10it/s]"
     ]
    },
    {
     "name": "stdout",
     "output_type": "stream",
     "text": [
      "✅ Embedded 9606.ENSP00000261191\n"
     ]
    },
    {
     "name": "stderr",
     "output_type": "stream",
     "text": [
      "Embedding proteins:  97%|████████████████████████████████████████████████████████▌ | 1647/1690 [08:33<00:12,  3.40it/s]"
     ]
    },
    {
     "name": "stdout",
     "output_type": "stream",
     "text": [
      "✅ Embedded 9606.ENSP00000261520\n",
      "✅ Embedded 9606.ENSP00000228567\n"
     ]
    },
    {
     "name": "stderr",
     "output_type": "stream",
     "text": [
      "Embedding proteins:  98%|████████████████████████████████████████████████████████▌ | 1648/1690 [08:33<00:10,  3.95it/s]"
     ]
    },
    {
     "name": "stdout",
     "output_type": "stream",
     "text": [
      "✅ Embedded 9606.ENSP00000255224\n",
      "✅ Embedded 9606.ENSP00000236957\n"
     ]
    },
    {
     "name": "stderr",
     "output_type": "stream",
     "text": [
      "Embedding proteins:  98%|████████████████████████████████████████████████████████▋ | 1651/1690 [08:33<00:08,  4.55it/s]"
     ]
    },
    {
     "name": "stdout",
     "output_type": "stream",
     "text": [
      "✅ Embedded 9606.ENSP00000260129\n",
      "✅ Embedded 9606.ENSP00000234160\n"
     ]
    },
    {
     "name": "stderr",
     "output_type": "stream",
     "text": [
      "Embedding proteins:  98%|████████████████████████████████████████████████████████▋ | 1653/1690 [08:34<00:06,  6.05it/s]"
     ]
    },
    {
     "name": "stdout",
     "output_type": "stream",
     "text": [
      "✅ Embedded 9606.ENSP00000246533\n",
      "✅ Embedded 9606.ENSP00000250111\n"
     ]
    },
    {
     "name": "stderr",
     "output_type": "stream",
     "text": [
      "Embedding proteins:  98%|████████████████████████████████████████████████████████▊ | 1655/1690 [08:34<00:05,  6.07it/s]"
     ]
    },
    {
     "name": "stdout",
     "output_type": "stream",
     "text": [
      "✅ Embedded 9606.ENSP00000261007\n",
      "✅ Embedded 9606.ENSP00000261017\n",
      "✅ Embedded 9606.ENSP00000240488\n"
     ]
    },
    {
     "name": "stderr",
     "output_type": "stream",
     "text": [
      "Embedding proteins:  98%|████████████████████████████████████████████████████████▉ | 1658/1690 [08:37<00:18,  1.75it/s]"
     ]
    },
    {
     "name": "stdout",
     "output_type": "stream",
     "text": [
      "✅ Embedded 9606.ENSP00000256246\n",
      "✅ Embedded 9606.ENSP00000246337\n",
      "✅ Embedded 9606.ENSP00000243346\n"
     ]
    },
    {
     "name": "stderr",
     "output_type": "stream",
     "text": [
      "Embedding proteins:  98%|████████████████████████████████████████████████████████▉ | 1660/1690 [08:37<00:13,  2.26it/s]"
     ]
    },
    {
     "name": "stdout",
     "output_type": "stream",
     "text": [
      "✅ Embedded 9606.ENSP00000257312\n"
     ]
    },
    {
     "name": "stderr",
     "output_type": "stream",
     "text": [
      "Embedding proteins:  98%|█████████████████████████████████████████████████████████ | 1661/1690 [08:38<00:11,  2.55it/s]"
     ]
    },
    {
     "name": "stdout",
     "output_type": "stream",
     "text": [
      "✅ Embedded 9606.ENSP00000261366\n"
     ]
    },
    {
     "name": "stderr",
     "output_type": "stream",
     "text": [
      "Embedding proteins:  98%|█████████████████████████████████████████████████████████ | 1663/1690 [08:38<00:08,  3.15it/s]"
     ]
    },
    {
     "name": "stdout",
     "output_type": "stream",
     "text": [
      "✅ Embedded 9606.ENSP00000257789\n",
      "✅ Embedded 9606.ENSP00000261994\n"
     ]
    },
    {
     "name": "stderr",
     "output_type": "stream",
     "text": [
      "Embedding proteins:  99%|█████████████████████████████████████████████████████████▏| 1665/1690 [08:38<00:05,  4.23it/s]"
     ]
    },
    {
     "name": "stdout",
     "output_type": "stream",
     "text": [
      "✅ Embedded 9606.ENSP00000262120\n",
      "✅ Embedded 9606.ENSP00000260228\n"
     ]
    },
    {
     "name": "stderr",
     "output_type": "stream",
     "text": [
      "Embedding proteins:  99%|█████████████████████████████████████████████████████████▏| 1666/1690 [08:38<00:05,  4.52it/s]"
     ]
    },
    {
     "name": "stdout",
     "output_type": "stream",
     "text": [
      "✅ Embedded 9606.ENSP00000260229\n"
     ]
    },
    {
     "name": "stderr",
     "output_type": "stream",
     "text": [
      "Embedding proteins:  99%|█████████████████████████████████████████████████████████▏| 1667/1690 [08:39<00:06,  3.55it/s]"
     ]
    },
    {
     "name": "stdout",
     "output_type": "stream",
     "text": [
      "✅ Embedded 9606.ENSP00000255006\n"
     ]
    },
    {
     "name": "stderr",
     "output_type": "stream",
     "text": [
      "Embedding proteins:  99%|█████████████████████████████████████████████████████████▏| 1668/1690 [08:40<00:08,  2.54it/s]"
     ]
    },
    {
     "name": "stdout",
     "output_type": "stream",
     "text": [
      "✅ Embedded 9606.ENSP00000260526\n"
     ]
    },
    {
     "name": "stderr",
     "output_type": "stream",
     "text": [
      "Embedding proteins:  99%|█████████████████████████████████████████████████████████▎| 1670/1690 [08:40<00:07,  2.69it/s]"
     ]
    },
    {
     "name": "stdout",
     "output_type": "stream",
     "text": [
      "✅ Embedded 9606.ENSP00000254691\n",
      "✅ Embedded 9606.ENSP00000257863\n"
     ]
    },
    {
     "name": "stderr",
     "output_type": "stream",
     "text": [
      "Embedding proteins:  99%|█████████████████████████████████████████████████████████▍| 1672/1690 [08:41<00:04,  4.16it/s]"
     ]
    },
    {
     "name": "stdout",
     "output_type": "stream",
     "text": [
      "✅ Embedded 9606.ENSP00000248139\n",
      "✅ Embedded 9606.ENSP00000243108\n"
     ]
    },
    {
     "name": "stderr",
     "output_type": "stream",
     "text": [
      "Embedding proteins:  99%|█████████████████████████████████████████████████████████▍| 1674/1690 [08:41<00:03,  4.37it/s]"
     ]
    },
    {
     "name": "stdout",
     "output_type": "stream",
     "text": [
      "✅ Embedded 9606.ENSP00000257600\n",
      "✅ Embedded 9606.ENSP00000244043\n"
     ]
    },
    {
     "name": "stderr",
     "output_type": "stream",
     "text": [
      "Embedding proteins:  99%|█████████████████████████████████████████████████████████▌| 1676/1690 [08:41<00:02,  6.28it/s]"
     ]
    },
    {
     "name": "stdout",
     "output_type": "stream",
     "text": [
      "✅ Embedded 9606.ENSP00000239944\n",
      "✅ Embedded 9606.ENSP00000247005\n",
      "✅ Embedded 9606.ENSP00000239730\n"
     ]
    },
    {
     "name": "stderr",
     "output_type": "stream",
     "text": [
      "Embedding proteins:  99%|█████████████████████████████████████████████████████████▋| 1680/1690 [08:42<00:01,  6.16it/s]"
     ]
    },
    {
     "name": "stdout",
     "output_type": "stream",
     "text": [
      "✅ Embedded 9606.ENSP00000261917\n",
      "✅ Embedded 9606.ENSP00000242994\n",
      "✅ Embedded 9606.ENSP00000246551\n",
      "✅ Embedded 9606.ENSP00000257724\n"
     ]
    },
    {
     "name": "stderr",
     "output_type": "stream",
     "text": [
      "Embedding proteins: 100%|█████████████████████████████████████████████████████████▊| 1685/1690 [08:42<00:00,  9.84it/s]"
     ]
    },
    {
     "name": "stdout",
     "output_type": "stream",
     "text": [
      "✅ Embedded 9606.ENSP00000260653\n",
      "✅ Embedded 9606.ENSP00000253794\n",
      "✅ Embedded 9606.ENSP00000260049\n",
      "✅ Embedded 9606.ENSP00000254231\n",
      "✅ Embedded 9606.ENSP00000257267\n"
     ]
    },
    {
     "name": "stderr",
     "output_type": "stream",
     "text": [
      "Embedding proteins: 100%|█████████████████████████████████████████████████████████▉| 1687/1690 [08:44<00:01,  2.73it/s]"
     ]
    },
    {
     "name": "stdout",
     "output_type": "stream",
     "text": [
      "✅ Embedded 9606.ENSP00000258390\n"
     ]
    },
    {
     "name": "stderr",
     "output_type": "stream",
     "text": [
      "Embedding proteins: 100%|█████████████████████████████████████████████████████████▉| 1688/1690 [08:45<00:00,  2.29it/s]"
     ]
    },
    {
     "name": "stdout",
     "output_type": "stream",
     "text": [
      "✅ Embedded 9606.ENSP00000251102\n"
     ]
    },
    {
     "name": "stderr",
     "output_type": "stream",
     "text": [
      "Embedding proteins: 100%|█████████████████████████████████████████████████████████▉| 1689/1690 [08:46<00:00,  2.03it/s]"
     ]
    },
    {
     "name": "stdout",
     "output_type": "stream",
     "text": [
      "✅ Embedded 9606.ENSP00000262210\n"
     ]
    },
    {
     "name": "stderr",
     "output_type": "stream",
     "text": [
      "Embedding proteins: 100%|██████████████████████████████████████████████████████████| 1690/1690 [08:46<00:00,  3.21it/s]"
     ]
    },
    {
     "name": "stdout",
     "output_type": "stream",
     "text": [
      "✅ Embedded 9606.ENSP00000259371\n",
      "\n",
      "✅ Total embeddings generated: 1690\n"
     ]
    },
    {
     "name": "stderr",
     "output_type": "stream",
     "text": [
      "\n"
     ]
    }
   ],
   "source": [
    "# Check sample sequences before embedding\n",
    "print(\"\\n🔍 Sample sequences:\")\n",
    "print(all_proteins[\"sequence\"].dropna().head(5))\n",
    "\n",
    "# Redefine embed_sequence_esm with logging\n",
    "def embed_sequence_esm(seq):\n",
    "    try:\n",
    "        seq = seq.replace(\" \", \"\").upper()\n",
    "        if not seq or not isinstance(seq, str) or len(seq) < 5:\n",
    "            print(\"❌ Invalid sequence:\", seq)\n",
    "            return None\n",
    "\n",
    "        batch_labels, batch_strs, batch_tokens = batch_converter([(\"protein\", seq)])\n",
    "        with torch.no_grad():\n",
    "            results = esm_model(batch_tokens, repr_layers=[6], return_contacts=False)\n",
    "        token_reps = results[\"representations\"][6][0, 1:len(seq)+1]\n",
    "        return token_reps.mean(0).cpu().numpy()\n",
    "    except Exception as e:\n",
    "        print(f\"❌ Failed to embed sequence: {e}\")\n",
    "        return None\n",
    "\n",
    "# Embedding loop with logging\n",
    "protein_embeddings = {}\n",
    "for pid in tqdm(all_proteins.index, desc=\"Embedding proteins\"):\n",
    "    try:\n",
    "        seq = all_proteins.loc[pid, \"sequence\"]\n",
    "        if not isinstance(seq, str) or len(seq.strip()) == 0:\n",
    "            print(f\"⚠️ Skipping {pid}: Empty or invalid sequence\")\n",
    "            continue\n",
    "        embedding = embed_sequence_esm(seq)\n",
    "        if embedding is not None:\n",
    "            protein_embeddings[pid] = embedding\n",
    "            print(f\"✅ Embedded {pid}\")\n",
    "        else:\n",
    "            print(f\"⚠️ Skipped {pid}: Embedding returned None\")\n",
    "    except Exception as e:\n",
    "        print(f\"❌ Error embedding {pid}: {e}\")\n",
    "\n",
    "print(f\"\\n✅ Total embeddings generated: {len(protein_embeddings)}\")\n"
   ]
  },
  {
   "cell_type": "code",
   "execution_count": 9,
   "id": "fcc125a2-b738-4dfe-91fb-e458b63eab70",
   "metadata": {},
   "outputs": [],
   "source": [
    "# cache_path = \"esm2_embeddings_linkprediction_rgcn.pkl\"\n",
    "\n",
    "# if os.path.exists(cache_path):\n",
    "#     with open(cache_path, \"rb\") as f:\n",
    "#         protein_embeddings = pickle.load(f)\n",
    "# else:\n",
    "#     protein_embeddings = {}\n",
    "#     for pid in tqdm(all_proteins.index, desc=\"Embedding proteins\"):\n",
    "#         try:\n",
    "#             seq = all_proteins.loc[pid, \"sequence\"]\n",
    "#             if not isinstance(seq, str) or len(seq.strip()) == 0:\n",
    "#                 print(f\"⚠️ Skipping {pid}: Empty or invalid sequence\")\n",
    "#                 continue\n",
    "#             embedding = embed_sequence_esm(seq)\n",
    "#             protein_embeddings[pid] = embedding\n",
    "#         except Exception as e:\n",
    "#             print(f\"❌ Error embedding {pid}: {e}\")\n",
    "#     with open(cache_path, \"wb\") as f:\n",
    "#         pickle.dump(protein_embeddings, f)\n",
    "\n",
    "# print(f\"✅ Total embeddings generated: {len(protein_embeddings)}\")"
   ]
  },
  {
   "cell_type": "code",
   "execution_count": 10,
   "id": "70034ed5-52b0-4a15-9659-0d5319f48642",
   "metadata": {},
   "outputs": [],
   "source": [
    "# --- Node feature matrix ---\n",
    "if len(protein_embeddings) == 0:\n",
    "    raise ValueError(\"❌ No embeddings were generated. Check your embedding function or input sequences.\")\n",
    "\n",
    "embedding_dim = len(next(iter(protein_embeddings.values())))\n",
    "x = np.zeros((len(protein_to_idx), embedding_dim), dtype=np.float32)\n",
    "for pid, idx in protein_to_idx.items():\n",
    "    x[idx] = protein_embeddings[pid]\n",
    "x = torch.tensor(x, dtype=torch.float)\n",
    "\n",
    "# --- Direction-aware edge construction ---\n",
    "src_nodes = []\n",
    "dst_nodes = []\n",
    "edge_types = []\n",
    "\n",
    "for _, row in df.iterrows():\n",
    "    a = row['item_id_a']\n",
    "    b = row['item_id_b']\n",
    "    edge_label = mode_to_int[row['mode']]\n",
    "    \n",
    "    # Handle direction\n",
    "    if row['is_directional'] == 't':\n",
    "        if row['a_is_acting'] == 't':\n",
    "            src_nodes.append(protein_to_idx[a])\n",
    "            dst_nodes.append(protein_to_idx[b])\n",
    "        else:\n",
    "            src_nodes.append(protein_to_idx[b])\n",
    "            dst_nodes.append(protein_to_idx[a])\n",
    "        edge_types.append(edge_label)\n",
    "    else:\n",
    "        # Undirected — add both directions\n",
    "        src_nodes.append(protein_to_idx[a])\n",
    "        dst_nodes.append(protein_to_idx[b])\n",
    "        edge_types.append(edge_label)\n",
    "\n",
    "        src_nodes.append(protein_to_idx[b])\n",
    "        dst_nodes.append(protein_to_idx[a])\n",
    "        edge_types.append(edge_label)\n",
    "\n",
    "# Convert to tensors\n",
    "edge_index = torch.tensor([src_nodes, dst_nodes], dtype=torch.long)\n",
    "edge_type = torch.tensor(edge_types, dtype=torch.long)\n",
    "\n",
    "# --- PyG data object ---\n",
    "data = Data(x=x, edge_index=edge_index, edge_type=edge_type)"
   ]
  },
  {
   "cell_type": "code",
   "execution_count": 11,
   "id": "d7b36bee-de71-4b84-a1b1-3a6889975996",
   "metadata": {},
   "outputs": [],
   "source": [
    "# --- Train/val/test split ---\n",
    "ei = data.edge_index.numpy()\n",
    "et = data.edge_type.numpy()\n",
    "ei_train, ei_test, et_train, et_test = train_test_split(ei.T, et, test_size=0.2, random_state=42)\n",
    "ei_train, ei_val, et_train, et_val = train_test_split(ei_train, et_train, test_size=0.1, random_state=42)\n",
    "\n",
    "ei_train = torch.tensor(ei_train, dtype=torch.long).t()\n",
    "ei_val = torch.tensor(ei_val, dtype=torch.long).t()\n",
    "ei_test = torch.tensor(ei_test, dtype=torch.long).t()\n",
    "\n",
    "et_train = torch.tensor(et_train, dtype=torch.long)\n",
    "et_val = torch.tensor(et_val, dtype=torch.long)\n",
    "et_test = torch.tensor(et_test, dtype=torch.long)\n",
    "\n",
    "neg_train = negative_sampling(ei_train, num_nodes=data.num_nodes)\n",
    "neg_val = negative_sampling(ei_val, num_nodes=data.num_nodes)\n",
    "neg_test = negative_sampling(ei_test, num_nodes=data.num_nodes)"
   ]
  },
  {
   "cell_type": "code",
   "execution_count": 12,
   "id": "2dbd31f5-6851-4174-b544-d9adee4d993e",
   "metadata": {},
   "outputs": [],
   "source": [
    "# --- RGCN model ---\n",
    "class RGCNLinkPredictor(torch.nn.Module):\n",
    "    def __init__(self, in_dim, hidden_dim, out_dim, num_relations):\n",
    "        super().__init__()\n",
    "        self.conv1 = RGCNConv(in_dim, hidden_dim, num_relations)\n",
    "        self.conv2 = RGCNConv(hidden_dim, out_dim, num_relations)\n",
    "\n",
    "    def encode(self, x, edge_index, edge_type):\n",
    "        x = F.relu(self.conv1(x, edge_index, edge_type))\n",
    "        return self.conv2(x, edge_index, edge_type)\n",
    "\n",
    "    def decode(self, z, edge_index):\n",
    "        return (z[edge_index[0]] * z[edge_index[1]]).sum(dim=-1)\n",
    "\n",
    "model = RGCNLinkPredictor(data.num_features, hidden_dim=64, out_dim=32, num_relations=len(mode_to_int))\n",
    "optimizer = torch.optim.Adam(model.parameters(), lr=0.005)"
   ]
  },
  {
   "cell_type": "code",
   "execution_count": 13,
   "id": "df35c2f3-816c-489d-be15-defff88c22c0",
   "metadata": {},
   "outputs": [],
   "source": [
    "# --- Training ---\n",
    "def train():\n",
    "    model.train()\n",
    "    optimizer.zero_grad()\n",
    "    z = model.encode(data.x, ei_train, et_train)\n",
    "    pos_score = model.decode(z, ei_train)\n",
    "    neg_score = model.decode(z, neg_train)\n",
    "    pos_labels = torch.ones_like(pos_score)\n",
    "    neg_labels = torch.zeros_like(neg_score)\n",
    "    loss = F.binary_cross_entropy_with_logits(pos_score, pos_labels) + \\\n",
    "           F.binary_cross_entropy_with_logits(neg_score, neg_labels)\n",
    "    loss.backward()\n",
    "    optimizer.step()\n",
    "    return loss.item()"
   ]
  },
  {
   "cell_type": "code",
   "execution_count": 14,
   "id": "16056546-e056-40a2-89eb-7530aafc9b6b",
   "metadata": {},
   "outputs": [],
   "source": [
    "# --- Evaluation ---\n",
    "def evaluate(ei_pos, et_pos, ei_neg):\n",
    "    model.eval()\n",
    "    with torch.no_grad():\n",
    "        z = model.encode(data.x, ei_pos, et_pos)\n",
    "        pos_score = model.decode(z, ei_pos).sigmoid().cpu().numpy()\n",
    "        neg_score = model.decode(z, ei_neg).sigmoid().cpu().numpy()\n",
    "        y_true = np.concatenate([np.ones_like(pos_score), np.zeros_like(neg_score)])\n",
    "        y_score = np.concatenate([pos_score, neg_score])\n",
    "        roc = roc_auc_score(y_true, y_score)\n",
    "        pr = average_precision_score(y_true, y_score)\n",
    "        return roc, pr"
   ]
  },
  {
   "cell_type": "code",
   "execution_count": 15,
   "id": "faad6d4a-1aed-4689-816b-ddf95526fbf1",
   "metadata": {},
   "outputs": [
    {
     "name": "stdout",
     "output_type": "stream",
     "text": [
      "Epoch 010 | Loss: 1.2443 | Val ROC-AUC: 0.5985 | PR-AUC: 0.6546\n",
      "Epoch 020 | Loss: 1.1292 | Val ROC-AUC: 0.7864 | PR-AUC: 0.8366\n",
      "Epoch 030 | Loss: 1.0983 | Val ROC-AUC: 0.8068 | PR-AUC: 0.8573\n",
      "Epoch 040 | Loss: 1.0525 | Val ROC-AUC: 0.8005 | PR-AUC: 0.8523\n",
      "Epoch 050 | Loss: 1.0270 | Val ROC-AUC: 0.7982 | PR-AUC: 0.8539\n",
      "Epoch 060 | Loss: 1.0043 | Val ROC-AUC: 0.7925 | PR-AUC: 0.8422\n",
      "Epoch 070 | Loss: 0.9839 | Val ROC-AUC: 0.7657 | PR-AUC: 0.8141\n",
      "Epoch 080 | Loss: 0.9694 | Val ROC-AUC: 0.7354 | PR-AUC: 0.7832\n",
      "Epoch 090 | Loss: 0.9587 | Val ROC-AUC: 0.7514 | PR-AUC: 0.8041\n",
      "Epoch 100 | Loss: 0.9489 | Val ROC-AUC: 0.7627 | PR-AUC: 0.8171\n",
      "Epoch 110 | Loss: 0.9400 | Val ROC-AUC: 0.7826 | PR-AUC: 0.8359\n",
      "Epoch 120 | Loss: 0.9300 | Val ROC-AUC: 0.7756 | PR-AUC: 0.8287\n",
      "Epoch 130 | Loss: 0.9219 | Val ROC-AUC: 0.7873 | PR-AUC: 0.8379\n",
      "Epoch 140 | Loss: 0.9136 | Val ROC-AUC: 0.7939 | PR-AUC: 0.8439\n",
      "Epoch 150 | Loss: 0.9056 | Val ROC-AUC: 0.7991 | PR-AUC: 0.8481\n",
      "Epoch 160 | Loss: 0.9002 | Val ROC-AUC: 0.8022 | PR-AUC: 0.8502\n",
      "Epoch 170 | Loss: 0.8934 | Val ROC-AUC: 0.8002 | PR-AUC: 0.8494\n",
      "Epoch 180 | Loss: 0.8873 | Val ROC-AUC: 0.7962 | PR-AUC: 0.8435\n",
      "Epoch 190 | Loss: 0.8810 | Val ROC-AUC: 0.8014 | PR-AUC: 0.8475\n",
      "Epoch 200 | Loss: 0.8759 | Val ROC-AUC: 0.8046 | PR-AUC: 0.8510\n",
      "\n",
      "🧪 Test ROC-AUC: 0.8964 | Test PR-AUC: 0.9125\n"
     ]
    }
   ],
   "source": [
    "# --- Train loop ---\n",
    "for epoch in range(1, 201):\n",
    "    loss = train()\n",
    "    if epoch % 10 == 0:\n",
    "        roc, pr = evaluate(ei_val, et_val, neg_val)\n",
    "        print(f\"Epoch {epoch:03d} | Loss: {loss:.4f} | Val ROC-AUC: {roc:.4f} | PR-AUC: {pr:.4f}\")\n",
    "\n",
    "# --- Final test evaluation ---\n",
    "roc, pr = evaluate(ei_test, et_test, neg_test)\n",
    "print(f\"\\n🧪 Test ROC-AUC: {roc:.4f} | Test PR-AUC: {pr:.4f}\")"
   ]
  },
  {
   "cell_type": "code",
   "execution_count": 16,
   "id": "fcacc30a-732b-46d2-b546-7226fb170cf3",
   "metadata": {},
   "outputs": [],
   "source": [
    "# Save model\n",
    "torch.save(model.state_dict(), \"rgcn_esm2_linkpredictor.pth\")"
   ]
  }
 ],
 "metadata": {
  "kernelspec": {
   "display_name": "Python 3 (ipykernel)",
   "language": "python",
   "name": "python3"
  },
  "language_info": {
   "codemirror_mode": {
    "name": "ipython",
    "version": 3
   },
   "file_extension": ".py",
   "mimetype": "text/x-python",
   "name": "python",
   "nbconvert_exporter": "python",
   "pygments_lexer": "ipython3",
   "version": "3.11.10"
  }
 },
 "nbformat": 4,
 "nbformat_minor": 5
}
